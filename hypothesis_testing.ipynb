{
 "cells": [
  {
   "cell_type": "code",
   "execution_count": 1,
   "id": "91084299",
   "metadata": {},
   "outputs": [],
   "source": [
    "import numpy as np\n",
    "import seaborn as sns\n",
    "import scipy.stats as stats\n",
    "import pandas as pd\n",
    "import matplotlib.pyplot as plt\n",
    "from pydataset import data"
   ]
  },
  {
   "cell_type": "code",
   "execution_count": null,
   "id": "04b8e22a",
   "metadata": {},
   "outputs": [],
   "source": [
    "#Answer with the type of test you would use (assume normal distribution):\n",
    "\n",
    "#Is there a difference in grades of students on the second floor \n",
    "#compared to grades of all students?\n",
    "#one sample compared to population\n",
    "#two tail nondirectional difference\n",
    "\n",
    "#answer: one sample t test stats.ttest_1samp(scnd_fl_grade_mean,α) p/2 < α\n",
    "#two tails one sample ttest"
   ]
  },
  {
   "cell_type": "code",
   "execution_count": 2,
   "id": "844a6cf3",
   "metadata": {},
   "outputs": [],
   "source": [
    "#Are adults who drink milk taller than adults who dont drink milk?\n",
    "#two samples\n",
    "# one tail is directional\n",
    "\n",
    "#answer: two sample independent ttest p < α\n",
    "#stats.ttest_ind(milkdrinkers_height,nonmilkdrinkers_height,equal_var=True)"
   ]
  },
  {
   "cell_type": "code",
   "execution_count": 3,
   "id": "4838e875",
   "metadata": {},
   "outputs": [],
   "source": [
    "#Is the the price of gas higher in texas or in new mexico?\n",
    "#two samples, one tail\n",
    "\n",
    "#answer: two sample t test, equal_var = p_val of levene (texasgp,nmgp)<α\n",
    "#stats.ttest_ind(texasgp,nmgp,equal_var=(levene p_val of (texasgp,nmgp)<α))"
   ]
  },
  {
   "cell_type": "code",
   "execution_count": null,
   "id": "b88c9da4",
   "metadata": {},
   "outputs": [],
   "source": [
    "#Are there differences in stress levels between students who take data science \n",
    "#vs students who take web development vs students who take cloud academy?\n",
    "#3 samples 2 tail, no directionallity\n",
    "\n",
    "#answer:ANOVA stats.f_oneway(dsst,wdst,cast)"
   ]
  },
  {
   "cell_type": "code",
   "execution_count": 88,
   "id": "2c525c44",
   "metadata": {},
   "outputs": [],
   "source": [
    "#Ace Realty wants to determine whether the average time it takes to sell homes is \n",
    "#different for its two offices. \n",
    "#A sample of 40 sales from office #1 revealed a mean of 90 days and a \n",
    "#standard deviation of 15 days. A sample of 50 sales from office \n",
    "#2 revealed a mean of 100 days and a standard deviation of 20 days. \n",
    "#Use a .05 level of significance.\n",
    "\n",
    "## two samples: office 1 and office 2 #two tail:is there a difference?\n",
    "\n",
    "#two sample t test 2 tail\n",
    "\n",
    "office1_dist = stats.norm(90,15).rvs(40)\n",
    "office2_dist = stats.norm(100,20).rvs(50)"
   ]
  },
  {
   "cell_type": "code",
   "execution_count": 30,
   "id": "771282ec",
   "metadata": {},
   "outputs": [
    {
     "data": {
      "image/png": "[encoded data removed]",
      "text/plain": [
       "<Figure size 640x480 with 1 Axes>"
      ]
     },
     "metadata": {},
     "output_type": "display_data"
    }
   ],
   "source": [
    "plt.hist(office1_dist)\n",
    "plt.show()"
   ]
  },
  {
   "cell_type": "code",
   "execution_count": 31,
   "id": "7381cc50",
   "metadata": {},
   "outputs": [
    {
     "data": {
      "image/png": "[encoded data removed]",
      "text/plain": [
       "<Figure size 640x480 with 1 Axes>"
      ]
     },
     "metadata": {},
     "output_type": "display_data"
    }
   ],
   "source": [
    "plt.hist(office2_dist)\n",
    "plt.show()"
   ]
  },
  {
   "cell_type": "code",
   "execution_count": 94,
   "id": "47bfae11",
   "metadata": {},
   "outputs": [],
   "source": [
    "office_1_mean = 90\n",
    "office_1_std = 15\n",
    "office_2_mean = 100\n",
    "office_2_std = 20"
   ]
  },
  {
   "cell_type": "code",
   "execution_count": 109,
   "id": "d37bd7b0",
   "metadata": {},
   "outputs": [],
   "source": [
    "t_stat, p_val = stats.ttest_ind_from_stats(mean1=office_1_mean,\n",
    "                           std1=office_1_std, \n",
    "                           nobs1=40,\n",
    "                          mean2=office_2_mean,\n",
    "                          std2=office_2_std,\n",
    "                          nobs2=50,\n",
    "                          equal_var=True)"
   ]
  },
  {
   "cell_type": "code",
   "execution_count": 110,
   "id": "c6eed897",
   "metadata": {},
   "outputs": [],
   "source": [
    "α = 0.05"
   ]
  },
  {
   "cell_type": "code",
   "execution_count": 113,
   "id": "4ad0680c",
   "metadata": {},
   "outputs": [
    {
     "name": "stdout",
     "output_type": "stream",
     "text": [
      "we can reject the null hypothesis, and suggest that there is difference in mean sale time between offices\n"
     ]
    }
   ],
   "source": [
    "#two tailed test means divide by 2\n",
    "if p_val < α:\n",
    "    print('we can reject the null hypothesis, and suggest that there is difference in mean sale time between offices')\n",
    "else:\n",
    "    print('we cannot reject the null hypothesis')"
   ]
  },
  {
   "cell_type": "code",
   "execution_count": 101,
   "id": "0a28e751",
   "metadata": {},
   "outputs": [],
   "source": [
    "#levene test:\n",
    "#H0= there is equal varience between the two offices\n",
    "#Ha= there is inequal variance between the two office"
   ]
  },
  {
   "cell_type": "code",
   "execution_count": 102,
   "id": "9c1b2e62",
   "metadata": {},
   "outputs": [
    {
     "data": {
      "text/plain": [
       "LeveneResult(statistic=7.949346230559512, pvalue=0.005942193032647159)"
      ]
     },
     "execution_count": 102,
     "metadata": {},
     "output_type": "execute_result"
    }
   ],
   "source": [
    "stats.levene(office1_dist,office2_dist)"
   ]
  },
  {
   "cell_type": "code",
   "execution_count": 103,
   "id": "132feee4",
   "metadata": {},
   "outputs": [],
   "source": [
    "t_stat,p_val = stats.ttest_ind(office1_dist,office2_dist,equal_var = False)"
   ]
  },
  {
   "cell_type": "code",
   "execution_count": 104,
   "id": "d02f75bb",
   "metadata": {},
   "outputs": [
    {
     "data": {
      "text/plain": [
       "6.588381960497214e-05"
      ]
     },
     "execution_count": 104,
     "metadata": {},
     "output_type": "execute_result"
    }
   ],
   "source": [
    "p_val"
   ]
  },
  {
   "cell_type": "code",
   "execution_count": 105,
   "id": "6d052265",
   "metadata": {},
   "outputs": [
    {
     "data": {
      "text/plain": [
       "True"
      ]
     },
     "execution_count": 105,
     "metadata": {},
     "output_type": "execute_result"
    }
   ],
   "source": [
    "p_val < 0.05"
   ]
  },
  {
   "cell_type": "code",
   "execution_count": null,
   "id": "a0cebc04",
   "metadata": {},
   "outputs": [],
   "source": [
    "## answer: there is a measurable difference"
   ]
  },
  {
   "cell_type": "code",
   "execution_count": 42,
   "id": "9ddf2e2f",
   "metadata": {},
   "outputs": [],
   "source": [
    "#Load the mpg dataset and use it to answer the following questions:\n",
    "mpg = data('mpg')\n"
   ]
  },
  {
   "cell_type": "code",
   "execution_count": 69,
   "id": "73b7a8a2",
   "metadata": {},
   "outputs": [
    {
     "name": "stdout",
     "output_type": "stream",
     "text": [
      "<class 'pandas.core.frame.DataFrame'>\n",
      "Int64Index: 234 entries, 1 to 234\n",
      "Data columns (total 12 columns):\n",
      " #   Column           Non-Null Count  Dtype  \n",
      "---  ------           --------------  -----  \n",
      " 0   manufacturer     234 non-null    object \n",
      " 1   model            234 non-null    object \n",
      " 2   displ            234 non-null    float64\n",
      " 3   year             234 non-null    int64  \n",
      " 4   cyl              234 non-null    int64  \n",
      " 5   trans            234 non-null    object \n",
      " 6   drv              234 non-null    object \n",
      " 7   cty              234 non-null    int64  \n",
      " 8   hwy              234 non-null    int64  \n",
      " 9   fl               234 non-null    object \n",
      " 10  class            234 non-null    object \n",
      " 11  fuel_efficiency  234 non-null    float64\n",
      "dtypes: float64(2), int64(4), object(6)\n",
      "memory usage: 23.8+ KB\n"
     ]
    }
   ],
   "source": [
    "mpg.info()"
   ]
  },
  {
   "cell_type": "code",
   "execution_count": 63,
   "id": "5d782d92",
   "metadata": {},
   "outputs": [],
   "source": [
    "mpg['fuel_efficiency'] = (mpg['cty'] + mpg['hwy']) /2"
   ]
  },
  {
   "cell_type": "code",
   "execution_count": 114,
   "id": "f67d214f",
   "metadata": {},
   "outputs": [],
   "source": [
    "mpg['fe'] = stats.hmean((mpg['hwy'], mpg['cty']))"
   ]
  },
  {
   "cell_type": "code",
   "execution_count": 64,
   "id": "dc5be705",
   "metadata": {},
   "outputs": [
    {
     "data": {
      "text/plain": [
       "40"
      ]
     },
     "execution_count": 64,
     "metadata": {},
     "output_type": "execute_result"
    }
   ],
   "source": [
    "mpg.fuel_efficiency.nunique()"
   ]
  },
  {
   "cell_type": "code",
   "execution_count": 65,
   "id": "b2039b4e",
   "metadata": {},
   "outputs": [
    {
     "data": {
      "text/plain": [
       "LeveneResult(statistic=0.033228136671080453, pvalue=0.855517569468803)"
      ]
     },
     "execution_count": 65,
     "metadata": {},
     "output_type": "execute_result"
    }
   ],
   "source": [
    "#Is there a difference in fuel-efficiency in cars from 2008 vs 1999?\n",
    "#two sample one tail\n",
    "fe2008 = mpg[mpg.year != 1999].fuel_efficiency\n",
    "fe1999 = mpg[mpg.year == 1999].fuel_efficiency\n",
    "stats.levene(fe2008,fe1999)"
   ]
  },
  {
   "cell_type": "markdown",
   "id": "ae49d1af",
   "metadata": {},
   "source": [
    "H$_0$:#there is no difference\n",
    "\n",
    "H$_a$: there is a difference in fuel efficiency"
   ]
  },
  {
   "cell_type": "code",
   "execution_count": 115,
   "id": "65204141",
   "metadata": {},
   "outputs": [
    {
     "data": {
      "text/plain": [
       "(array([ 7.,  5., 32.,  4., 19., 22., 15.,  8.,  2.,  3.]),\n",
       " array([10.5, 12.7, 14.9, 17.1, 19.3, 21.5, 23.7, 25.9, 28.1, 30.3, 32.5]),\n",
       " <BarContainer object of 10 artists>)"
      ]
     },
     "execution_count": 115,
     "metadata": {},
     "output_type": "execute_result"
    },
    {
     "data": {
      "image/png": "[encoded data removed]",
      "text/plain": [
       "<Figure size 640x480 with 1 Axes>"
      ]
     },
     "metadata": {},
     "output_type": "display_data"
    }
   ],
   "source": [
    "plt.hist(fe2008)"
   ]
  },
  {
   "cell_type": "code",
   "execution_count": 116,
   "id": "0bd6e78a",
   "metadata": {},
   "outputs": [
    {
     "data": {
      "text/plain": [
       "(array([32., 13., 12., 38., 12.,  5.,  2.,  0.,  1.,  2.]),\n",
       " array([13.  , 15.65, 18.3 , 20.95, 23.6 , 26.25, 28.9 , 31.55, 34.2 ,\n",
       "        36.85, 39.5 ]),\n",
       " <BarContainer object of 10 artists>)"
      ]
     },
     "execution_count": 116,
     "metadata": {},
     "output_type": "execute_result"
    },
    {
     "data": {
      "image/png": "[encoded data removed]",
      "text/plain": [
       "<Figure size 640x480 with 1 Axes>"
      ]
     },
     "metadata": {},
     "output_type": "display_data"
    }
   ],
   "source": [
    "plt.hist(fe1999)"
   ]
  },
  {
   "cell_type": "code",
   "execution_count": 121,
   "id": "cdd4178f",
   "metadata": {},
   "outputs": [
    {
     "data": {
      "text/plain": [
       "LeveneResult(statistic=0.033228136671080453, pvalue=0.855517569468803)"
      ]
     },
     "execution_count": 121,
     "metadata": {},
     "output_type": "execute_result"
    }
   ],
   "source": [
    "#pvalue over 0.05 cannot reject null equal_var=True\n",
    "stats.levene(fe2008,fe1999)"
   ]
  },
  {
   "cell_type": "code",
   "execution_count": 118,
   "id": "977a054e",
   "metadata": {},
   "outputs": [],
   "source": [
    "#1999 and 2008 are exclusive categories so ttest ind"
   ]
  },
  {
   "cell_type": "code",
   "execution_count": 122,
   "id": "9c7e09f8",
   "metadata": {},
   "outputs": [],
   "source": [
    "t_stat,p_val = stats.ttest_ind(fe2008,fe1999,equal_var=True)"
   ]
  },
  {
   "cell_type": "code",
   "execution_count": 123,
   "id": "b1b3b3de",
   "metadata": {},
   "outputs": [
    {
     "data": {
      "text/plain": [
       "False"
      ]
     },
     "execution_count": 123,
     "metadata": {},
     "output_type": "execute_result"
    }
   ],
   "source": [
    "p_val < α"
   ]
  },
  {
   "cell_type": "code",
   "execution_count": 124,
   "id": "69c57337",
   "metadata": {},
   "outputs": [],
   "source": [
    "#we fail to reject the null hypothesis, which means\n",
    "#that we cannot with certainty say there is a difference\n",
    "#there is no difference in fuel-efficiency"
   ]
  },
  {
   "cell_type": "markdown",
   "id": "8cfe757e",
   "metadata": {},
   "source": [
    "Are compact cars more fuel-efficient than the average car?\n",
    "\n",
    "H$_0$:compact cars have lower or equal average fuel efficiency compared to all cars\n",
    "\n",
    "H$_a$: compact cars have a greater than average fuel efficiency compared to all cars"
   ]
  },
  {
   "cell_type": "code",
   "execution_count": 125,
   "id": "5651aa40",
   "metadata": {},
   "outputs": [
    {
     "data": {
      "text/plain": [
       "suv           62\n",
       "compact       47\n",
       "midsize       41\n",
       "subcompact    35\n",
       "pickup        33\n",
       "minivan       11\n",
       "2seater        5\n",
       "Name: class, dtype: int64"
      ]
     },
     "execution_count": 125,
     "metadata": {},
     "output_type": "execute_result"
    }
   ],
   "source": [
    "#Are compact cars more fuel-efficient than the average car?\n",
    "#1sample one tail ttest\n",
    "mpg['class'].value_counts()"
   ]
  },
  {
   "cell_type": "code",
   "execution_count": 71,
   "id": "d130cda9",
   "metadata": {},
   "outputs": [],
   "source": [
    "compacts = mpg[mpg['class'] == 'compact']"
   ]
  },
  {
   "cell_type": "code",
   "execution_count": 75,
   "id": "cb593208",
   "metadata": {},
   "outputs": [],
   "source": [
    "t_stat,p_val= stats.ttest_1samp(compacts.fuel_efficiency,mpg.fuel_efficiency.mean())"
   ]
  },
  {
   "cell_type": "code",
   "execution_count": 126,
   "id": "d70bbda8",
   "metadata": {},
   "outputs": [
    {
     "data": {
      "text/plain": [
       "0.8263744040323578"
      ]
     },
     "execution_count": 126,
     "metadata": {},
     "output_type": "execute_result"
    }
   ],
   "source": [
    "p_val"
   ]
  },
  {
   "cell_type": "code",
   "execution_count": 128,
   "id": "249daf8e",
   "metadata": {},
   "outputs": [
    {
     "name": "stdout",
     "output_type": "stream",
     "text": [
      "we fail to reject the null hypothesis\n"
     ]
    }
   ],
   "source": [
    "if ((p_val /2) < α) and (t_stat > 0):\n",
    "    print('we can reject the null hypothesis')\n",
    "    print('there is evidence that the alternative posited is valid')\n",
    "else:\n",
    "    print('we fail to reject the null hypothesis')"
   ]
  },
  {
   "cell_type": "code",
   "execution_count": null,
   "id": "1cc0cde5",
   "metadata": {},
   "outputs": [],
   "source": [
    "## compact cars are more effecient than other cars"
   ]
  },
  {
   "cell_type": "code",
   "execution_count": null,
   "id": "2e4184a4",
   "metadata": {},
   "outputs": [],
   "source": [
    "#Do manual cars get better gas mileage than automatic cars?\n",
    "#2 samples one tail"
   ]
  },
  {
   "cell_type": "code",
   "execution_count": 81,
   "id": "c45b8391",
   "metadata": {},
   "outputs": [],
   "source": [
    "mpg['auto_transmission'] = mpg.trans.str.startswith('auto')\n",
    "#use mask to get auto.hwy\n",
    "auto_fe= mpg[mpg['auto_transmission']== True].fuel_efficiency\n",
    "#us mask to get manual trans.hwy\n",
    "manual_fe= mpg[mpg['auto_transmission']!= True].fuel_efficiency"
   ]
  },
  {
   "cell_type": "code",
   "execution_count": null,
   "id": "d70edf21",
   "metadata": {},
   "outputs": [],
   "source": [
    "#group a manual cars\n",
    "#group b auto cars\n",
    "#independent sub-groups:\n",
    "#ttest_ind"
   ]
  },
  {
   "cell_type": "code",
   "execution_count": null,
   "id": "9bd1882e",
   "metadata": {},
   "outputs": [],
   "source": [
    "#levene test\n",
    "#h0: equal var\n",
    "#ha: inequal var"
   ]
  },
  {
   "cell_type": "code",
   "execution_count": 130,
   "id": "811df423",
   "metadata": {},
   "outputs": [],
   "source": [
    "__, levene_p = stats.levene(auto_fe,manual_fe)"
   ]
  },
  {
   "cell_type": "code",
   "execution_count": 131,
   "id": "499f9cca",
   "metadata": {},
   "outputs": [
    {
     "data": {
      "text/plain": [
       "False"
      ]
     },
     "execution_count": 131,
     "metadata": {},
     "output_type": "execute_result"
    }
   ],
   "source": [
    "levene_p < 0.05"
   ]
  },
  {
   "cell_type": "code",
   "execution_count": 135,
   "id": "fe4cc613",
   "metadata": {},
   "outputs": [],
   "source": [
    "#we cannot reject null, equal_var= True\n",
    "t_stat,p_val = stats.ttest_ind(manual_fe,auto_fe,equal_var=True)"
   ]
  },
  {
   "cell_type": "code",
   "execution_count": 136,
   "id": "b7a928fb",
   "metadata": {},
   "outputs": [
    {
     "data": {
      "text/plain": [
       "True"
      ]
     },
     "execution_count": 136,
     "metadata": {},
     "output_type": "execute_result"
    }
   ],
   "source": [
    "p_val < 0.05"
   ]
  },
  {
   "cell_type": "code",
   "execution_count": 137,
   "id": "1b7f47ef",
   "metadata": {},
   "outputs": [],
   "source": [
    "#p_val is less than alpha\n",
    "#tstat?"
   ]
  },
  {
   "cell_type": "code",
   "execution_count": 138,
   "id": "b1889186",
   "metadata": {},
   "outputs": [
    {
     "data": {
      "text/plain": [
       "4.593437735750014"
      ]
     },
     "execution_count": 138,
     "metadata": {},
     "output_type": "execute_result"
    }
   ],
   "source": [
    "t_stat"
   ]
  },
  {
   "cell_type": "code",
   "execution_count": 87,
   "id": "0bf8ff26",
   "metadata": {},
   "outputs": [],
   "source": [
    "#manual cars get better gas mileage than automatics"
   ]
  },
  {
   "cell_type": "code",
   "execution_count": null,
   "id": "983b587b",
   "metadata": {},
   "outputs": [],
   "source": []
  }
 ],
 "metadata": {
  "kernelspec": {
   "display_name": "Python 3 (ipykernel)",
   "language": "python",
   "name": "python3"
  },
  "language_info": {
   "codemirror_mode": {
    "name": "ipython",
    "version": 3
   },
   "file_extension": ".py",
   "mimetype": "text/x-python",
   "name": "python",
   "nbconvert_exporter": "python",
   "pygments_lexer": "ipython3",
   "version": "3.9.13"
  }
 },
 "nbformat": 4,
 "nbformat_minor": 5
}
