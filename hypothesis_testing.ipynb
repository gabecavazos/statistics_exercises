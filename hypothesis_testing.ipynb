{
 "cells": [
  {
   "cell_type": "code",
   "execution_count": 7,
   "id": "91084299",
   "metadata": {},
   "outputs": [],
   "source": [
    "import numpy as np\n",
    "import seaborn as sns\n",
    "import scipy.stats as stats\n",
    "import pandas as pd\n",
    "import matplotlib.pyplot as plt\n",
    "from pydataset import data\n",
    "import env\n",
    "from env import get_db_url"
   ]
  },
  {
   "cell_type": "code",
   "execution_count": null,
   "id": "04b8e22a",
   "metadata": {},
   "outputs": [],
   "source": [
    "#Answer with the type of test you would use (assume normal distribution):\n",
    "\n",
    "#Is there a difference in grades of students on the second floor \n",
    "#compared to grades of all students?\n",
    "#one sample compared to population\n",
    "#two tail nondirectional difference\n",
    "\n",
    "#answer: one sample t test stats.ttest_1samp(scnd_fl_grade_mean,α) p/2 < α\n",
    "#two tails one sample ttest"
   ]
  },
  {
   "cell_type": "code",
   "execution_count": 2,
   "id": "844a6cf3",
   "metadata": {},
   "outputs": [],
   "source": [
    "#Are adults who drink milk taller than adults who dont drink milk?\n",
    "#two samples\n",
    "# one tail is directional\n",
    "\n",
    "#answer: two sample independent ttest p < α\n",
    "#stats.ttest_ind(milkdrinkers_height,nonmilkdrinkers_height,equal_var=True)"
   ]
  },
  {
   "cell_type": "code",
   "execution_count": 3,
   "id": "4838e875",
   "metadata": {},
   "outputs": [],
   "source": [
    "#Is the the price of gas higher in texas or in new mexico?\n",
    "#two samples, one tail\n",
    "\n",
    "#answer: two sample t test, equal_var = p_val of levene (texasgp,nmgp)<α\n",
    "#stats.ttest_ind(texasgp,nmgp,equal_var=(levene p_val of (texasgp,nmgp)<α))"
   ]
  },
  {
   "cell_type": "code",
   "execution_count": null,
   "id": "b88c9da4",
   "metadata": {},
   "outputs": [],
   "source": [
    "#Are there differences in stress levels between students who take data science \n",
    "#vs students who take web development vs students who take cloud academy?\n",
    "#3 samples 2 tail, no directionallity\n",
    "\n",
    "#answer:ANOVA stats.f_oneway(dsst,wdst,cast)"
   ]
  },
  {
   "cell_type": "code",
   "execution_count": 88,
   "id": "2c525c44",
   "metadata": {},
   "outputs": [],
   "source": [
    "#Ace Realty wants to determine whether the average time it takes to sell homes is \n",
    "#different for its two offices. \n",
    "#A sample of 40 sales from office #1 revealed a mean of 90 days and a \n",
    "#standard deviation of 15 days. A sample of 50 sales from office \n",
    "#2 revealed a mean of 100 days and a standard deviation of 20 days. \n",
    "#Use a .05 level of significance.\n",
    "\n",
    "## two samples: office 1 and office 2 #two tail:is there a difference?\n",
    "\n",
    "#two sample t test 2 tail\n",
    "\n",
    "office1_dist = stats.norm(90,15).rvs(40)\n",
    "office2_dist = stats.norm(100,20).rvs(50)"
   ]
  },
  {
   "cell_type": "code",
   "execution_count": 30,
   "id": "771282ec",
   "metadata": {},
   "outputs": [
    {
     "data": {
      "image/png": "[encoded data removed]",
      "text/plain": [
       "<Figure size 640x480 with 1 Axes>"
      ]
     },
     "metadata": {},
     "output_type": "display_data"
    }
   ],
   "source": [
    "plt.hist(office1_dist)\n",
    "plt.show()"
   ]
  },
  {
   "cell_type": "code",
   "execution_count": 31,
   "id": "7381cc50",
   "metadata": {},
   "outputs": [
    {
     "data": {
      "image/png": "[encoded data removed]",
      "text/plain": [
       "<Figure size 640x480 with 1 Axes>"
      ]
     },
     "metadata": {},
     "output_type": "display_data"
    }
   ],
   "source": [
    "plt.hist(office2_dist)\n",
    "plt.show()"
   ]
  },
  {
   "cell_type": "code",
   "execution_count": 94,
   "id": "47bfae11",
   "metadata": {},
   "outputs": [],
   "source": [
    "office_1_mean = 90\n",
    "office_1_std = 15\n",
    "office_2_mean = 100\n",
    "office_2_std = 20"
   ]
  },
  {
   "cell_type": "code",
   "execution_count": 109,
   "id": "d37bd7b0",
   "metadata": {},
   "outputs": [],
   "source": [
    "t_stat, p_val = stats.ttest_ind_from_stats(mean1=office_1_mean,\n",
    "                           std1=office_1_std, \n",
    "                           nobs1=40,\n",
    "                          mean2=office_2_mean,\n",
    "                          std2=office_2_std,\n",
    "                          nobs2=50,\n",
    "                          equal_var=True)"
   ]
  },
  {
   "cell_type": "code",
   "execution_count": 110,
   "id": "c6eed897",
   "metadata": {},
   "outputs": [],
   "source": [
    "α = 0.05"
   ]
  },
  {
   "cell_type": "code",
   "execution_count": 113,
   "id": "4ad0680c",
   "metadata": {},
   "outputs": [
    {
     "name": "stdout",
     "output_type": "stream",
     "text": [
      "we can reject the null hypothesis, and suggest that there is difference in mean sale time between offices\n"
     ]
    }
   ],
   "source": [
    "#two tailed test means divide by 2\n",
    "if p_val < α:\n",
    "    print('we can reject the null hypothesis, and suggest that there is difference in mean sale time between offices')\n",
    "else:\n",
    "    print('we cannot reject the null hypothesis')"
   ]
  },
  {
   "cell_type": "code",
   "execution_count": 101,
   "id": "0a28e751",
   "metadata": {},
   "outputs": [],
   "source": [
    "#levene test:\n",
    "#H0= there is equal varience between the two offices\n",
    "#Ha= there is inequal variance between the two office"
   ]
  },
  {
   "cell_type": "code",
   "execution_count": 102,
   "id": "9c1b2e62",
   "metadata": {},
   "outputs": [
    {
     "data": {
      "text/plain": [
       "LeveneResult(statistic=7.949346230559512, pvalue=0.005942193032647159)"
      ]
     },
     "execution_count": 102,
     "metadata": {},
     "output_type": "execute_result"
    }
   ],
   "source": [
    "stats.levene(office1_dist,office2_dist)"
   ]
  },
  {
   "cell_type": "code",
   "execution_count": 103,
   "id": "132feee4",
   "metadata": {},
   "outputs": [],
   "source": [
    "t_stat,p_val = stats.ttest_ind(office1_dist,office2_dist,equal_var = False)"
   ]
  },
  {
   "cell_type": "code",
   "execution_count": 104,
   "id": "d02f75bb",
   "metadata": {},
   "outputs": [
    {
     "data": {
      "text/plain": [
       "6.588381960497214e-05"
      ]
     },
     "execution_count": 104,
     "metadata": {},
     "output_type": "execute_result"
    }
   ],
   "source": [
    "p_val"
   ]
  },
  {
   "cell_type": "code",
   "execution_count": 105,
   "id": "6d052265",
   "metadata": {},
   "outputs": [
    {
     "data": {
      "text/plain": [
       "True"
      ]
     },
     "execution_count": 105,
     "metadata": {},
     "output_type": "execute_result"
    }
   ],
   "source": [
    "p_val < 0.05"
   ]
  },
  {
   "cell_type": "code",
   "execution_count": null,
   "id": "a0cebc04",
   "metadata": {},
   "outputs": [],
   "source": [
    "## answer: there is a measurable difference"
   ]
  },
  {
   "cell_type": "code",
   "execution_count": 63,
   "id": "9ddf2e2f",
   "metadata": {},
   "outputs": [],
   "source": [
    "#Load the mpg dataset and use it to answer the following questions:\n",
    "mpg = data('mpg')\n"
   ]
  },
  {
   "cell_type": "code",
   "execution_count": 69,
   "id": "73b7a8a2",
   "metadata": {},
   "outputs": [
    {
     "name": "stdout",
     "output_type": "stream",
     "text": [
      "<class 'pandas.core.frame.DataFrame'>\n",
      "Int64Index: 234 entries, 1 to 234\n",
      "Data columns (total 12 columns):\n",
      " #   Column           Non-Null Count  Dtype  \n",
      "---  ------           --------------  -----  \n",
      " 0   manufacturer     234 non-null    object \n",
      " 1   model            234 non-null    object \n",
      " 2   displ            234 non-null    float64\n",
      " 3   year             234 non-null    int64  \n",
      " 4   cyl              234 non-null    int64  \n",
      " 5   trans            234 non-null    object \n",
      " 6   drv              234 non-null    object \n",
      " 7   cty              234 non-null    int64  \n",
      " 8   hwy              234 non-null    int64  \n",
      " 9   fl               234 non-null    object \n",
      " 10  class            234 non-null    object \n",
      " 11  fuel_efficiency  234 non-null    float64\n",
      "dtypes: float64(2), int64(4), object(6)\n",
      "memory usage: 23.8+ KB\n"
     ]
    }
   ],
   "source": [
    "mpg.info()"
   ]
  },
  {
   "cell_type": "code",
   "execution_count": 63,
   "id": "5d782d92",
   "metadata": {},
   "outputs": [],
   "source": [
    "mpg['fuel_efficiency'] = (mpg['cty'] + mpg['hwy']) /2"
   ]
  },
  {
   "cell_type": "code",
   "execution_count": 114,
   "id": "f67d214f",
   "metadata": {},
   "outputs": [],
   "source": [
    "mpg['fe'] = stats.hmean((mpg['hwy'], mpg['cty']))"
   ]
  },
  {
   "cell_type": "code",
   "execution_count": 64,
   "id": "dc5be705",
   "metadata": {},
   "outputs": [
    {
     "data": {
      "text/plain": [
       "40"
      ]
     },
     "execution_count": 64,
     "metadata": {},
     "output_type": "execute_result"
    }
   ],
   "source": [
    "mpg.fuel_efficiency.nunique()"
   ]
  },
  {
   "cell_type": "code",
   "execution_count": 65,
   "id": "b2039b4e",
   "metadata": {},
   "outputs": [
    {
     "data": {
      "text/plain": [
       "LeveneResult(statistic=0.033228136671080453, pvalue=0.855517569468803)"
      ]
     },
     "execution_count": 65,
     "metadata": {},
     "output_type": "execute_result"
    }
   ],
   "source": [
    "#Is there a difference in fuel-efficiency in cars from 2008 vs 1999?\n",
    "#two sample one tail\n",
    "fe2008 = mpg[mpg.year != 1999].fuel_efficiency\n",
    "fe1999 = mpg[mpg.year == 1999].fuel_efficiency\n",
    "stats.levene(fe2008,fe1999)"
   ]
  },
  {
   "cell_type": "markdown",
   "id": "ae49d1af",
   "metadata": {},
   "source": [
    "H$_0$:#there is no difference\n",
    "\n",
    "H$_a$: there is a difference in fuel efficiency"
   ]
  },
  {
   "cell_type": "code",
   "execution_count": 115,
   "id": "65204141",
   "metadata": {},
   "outputs": [
    {
     "data": {
      "text/plain": [
       "(array([ 7.,  5., 32.,  4., 19., 22., 15.,  8.,  2.,  3.]),\n",
       " array([10.5, 12.7, 14.9, 17.1, 19.3, 21.5, 23.7, 25.9, 28.1, 30.3, 32.5]),\n",
       " <BarContainer object of 10 artists>)"
      ]
     },
     "execution_count": 115,
     "metadata": {},
     "output_type": "execute_result"
    },
    {
     "data": {
      "image/png": "[encoded data removed]",
      "text/plain": [
       "<Figure size 640x480 with 1 Axes>"
      ]
     },
     "metadata": {},
     "output_type": "display_data"
    }
   ],
   "source": [
    "plt.hist(fe2008)"
   ]
  },
  {
   "cell_type": "code",
   "execution_count": 116,
   "id": "0bd6e78a",
   "metadata": {},
   "outputs": [
    {
     "data": {
      "text/plain": [
       "(array([32., 13., 12., 38., 12.,  5.,  2.,  0.,  1.,  2.]),\n",
       " array([13.  , 15.65, 18.3 , 20.95, 23.6 , 26.25, 28.9 , 31.55, 34.2 ,\n",
       "        36.85, 39.5 ]),\n",
       " <BarContainer object of 10 artists>)"
      ]
     },
     "execution_count": 116,
     "metadata": {},
     "output_type": "execute_result"
    },
    {
     "data": {
      "image/png": "[encoded data removed]",
      "text/plain": [
       "<Figure size 640x480 with 1 Axes>"
      ]
     },
     "metadata": {},
     "output_type": "display_data"
    }
   ],
   "source": [
    "plt.hist(fe1999)"
   ]
  },
  {
   "cell_type": "code",
   "execution_count": 121,
   "id": "cdd4178f",
   "metadata": {},
   "outputs": [
    {
     "data": {
      "text/plain": [
       "LeveneResult(statistic=0.033228136671080453, pvalue=0.855517569468803)"
      ]
     },
     "execution_count": 121,
     "metadata": {},
     "output_type": "execute_result"
    }
   ],
   "source": [
    "#pvalue over 0.05 cannot reject null equal_var=True\n",
    "stats.levene(fe2008,fe1999)"
   ]
  },
  {
   "cell_type": "code",
   "execution_count": 118,
   "id": "977a054e",
   "metadata": {},
   "outputs": [],
   "source": [
    "#1999 and 2008 are exclusive categories so ttest ind"
   ]
  },
  {
   "cell_type": "code",
   "execution_count": 122,
   "id": "9c7e09f8",
   "metadata": {},
   "outputs": [],
   "source": [
    "t_stat,p_val = stats.ttest_ind(fe2008,fe1999,equal_var=True)"
   ]
  },
  {
   "cell_type": "code",
   "execution_count": 123,
   "id": "b1b3b3de",
   "metadata": {},
   "outputs": [
    {
     "data": {
      "text/plain": [
       "False"
      ]
     },
     "execution_count": 123,
     "metadata": {},
     "output_type": "execute_result"
    }
   ],
   "source": [
    "p_val < α"
   ]
  },
  {
   "cell_type": "code",
   "execution_count": 124,
   "id": "69c57337",
   "metadata": {},
   "outputs": [],
   "source": [
    "#we fail to reject the null hypothesis, which means\n",
    "#that we cannot with certainty say there is a difference\n",
    "#there is no difference in fuel-efficiency"
   ]
  },
  {
   "cell_type": "markdown",
   "id": "8cfe757e",
   "metadata": {},
   "source": [
    "Are compact cars more fuel-efficient than the average car?\n",
    "\n",
    "H$_0$:compact cars have lower or equal average fuel efficiency compared to all cars\n",
    "\n",
    "H$_a$: compact cars have a greater than average fuel efficiency compared to all cars"
   ]
  },
  {
   "cell_type": "code",
   "execution_count": 125,
   "id": "5651aa40",
   "metadata": {},
   "outputs": [
    {
     "data": {
      "text/plain": [
       "suv           62\n",
       "compact       47\n",
       "midsize       41\n",
       "subcompact    35\n",
       "pickup        33\n",
       "minivan       11\n",
       "2seater        5\n",
       "Name: class, dtype: int64"
      ]
     },
     "execution_count": 125,
     "metadata": {},
     "output_type": "execute_result"
    }
   ],
   "source": [
    "#Are compact cars more fuel-efficient than the average car?\n",
    "#1sample one tail ttest\n",
    "mpg['class'].value_counts()"
   ]
  },
  {
   "cell_type": "code",
   "execution_count": 71,
   "id": "d130cda9",
   "metadata": {},
   "outputs": [],
   "source": [
    "compacts = mpg[mpg['class'] == 'compact']"
   ]
  },
  {
   "cell_type": "code",
   "execution_count": 75,
   "id": "cb593208",
   "metadata": {},
   "outputs": [],
   "source": [
    "t_stat,p_val= stats.ttest_1samp(compacts.fuel_efficiency,mpg.fuel_efficiency.mean())"
   ]
  },
  {
   "cell_type": "code",
   "execution_count": 126,
   "id": "d70bbda8",
   "metadata": {},
   "outputs": [
    {
     "data": {
      "text/plain": [
       "0.8263744040323578"
      ]
     },
     "execution_count": 126,
     "metadata": {},
     "output_type": "execute_result"
    }
   ],
   "source": [
    "p_val"
   ]
  },
  {
   "cell_type": "code",
   "execution_count": 128,
   "id": "249daf8e",
   "metadata": {},
   "outputs": [
    {
     "name": "stdout",
     "output_type": "stream",
     "text": [
      "we fail to reject the null hypothesis\n"
     ]
    }
   ],
   "source": [
    "if ((p_val /2) < α) and (t_stat > 0):\n",
    "    print('we can reject the null hypothesis')\n",
    "    print('there is evidence that the alternative posited is valid')\n",
    "else:\n",
    "    print('we fail to reject the null hypothesis')"
   ]
  },
  {
   "cell_type": "code",
   "execution_count": null,
   "id": "1cc0cde5",
   "metadata": {},
   "outputs": [],
   "source": [
    "## compact cars are more effecient than other cars"
   ]
  },
  {
   "cell_type": "code",
   "execution_count": null,
   "id": "2e4184a4",
   "metadata": {},
   "outputs": [],
   "source": [
    "#Do manual cars get better gas mileage than automatic cars?\n",
    "#2 samples one tail"
   ]
  },
  {
   "cell_type": "code",
   "execution_count": 81,
   "id": "c45b8391",
   "metadata": {},
   "outputs": [],
   "source": [
    "mpg['auto_transmission'] = mpg.trans.str.startswith('auto')\n",
    "#use mask to get auto.hwy\n",
    "auto_fe= mpg[mpg['auto_transmission']== True].fuel_efficiency\n",
    "#us mask to get manual trans.hwy\n",
    "manual_fe= mpg[mpg['auto_transmission']!= True].fuel_efficiency"
   ]
  },
  {
   "cell_type": "code",
   "execution_count": null,
   "id": "d70edf21",
   "metadata": {},
   "outputs": [],
   "source": [
    "#group a manual cars\n",
    "#group b auto cars\n",
    "#independent sub-groups:\n",
    "#ttest_ind"
   ]
  },
  {
   "cell_type": "code",
   "execution_count": null,
   "id": "9bd1882e",
   "metadata": {},
   "outputs": [],
   "source": [
    "#levene test\n",
    "#h0: equal var\n",
    "#ha: inequal var"
   ]
  },
  {
   "cell_type": "code",
   "execution_count": 130,
   "id": "811df423",
   "metadata": {},
   "outputs": [],
   "source": [
    "__, levene_p = stats.levene(auto_fe,manual_fe)"
   ]
  },
  {
   "cell_type": "code",
   "execution_count": 131,
   "id": "499f9cca",
   "metadata": {},
   "outputs": [
    {
     "data": {
      "text/plain": [
       "False"
      ]
     },
     "execution_count": 131,
     "metadata": {},
     "output_type": "execute_result"
    }
   ],
   "source": [
    "levene_p < 0.05"
   ]
  },
  {
   "cell_type": "code",
   "execution_count": 135,
   "id": "fe4cc613",
   "metadata": {},
   "outputs": [],
   "source": [
    "#we cannot reject null, equal_var= True\n",
    "t_stat,p_val = stats.ttest_ind(manual_fe,auto_fe,equal_var=True)"
   ]
  },
  {
   "cell_type": "code",
   "execution_count": 136,
   "id": "b7a928fb",
   "metadata": {},
   "outputs": [
    {
     "data": {
      "text/plain": [
       "True"
      ]
     },
     "execution_count": 136,
     "metadata": {},
     "output_type": "execute_result"
    }
   ],
   "source": [
    "p_val < 0.05"
   ]
  },
  {
   "cell_type": "code",
   "execution_count": 137,
   "id": "1b7f47ef",
   "metadata": {},
   "outputs": [],
   "source": [
    "#p_val is less than alpha\n",
    "#tstat?"
   ]
  },
  {
   "cell_type": "code",
   "execution_count": 138,
   "id": "b1889186",
   "metadata": {},
   "outputs": [
    {
     "data": {
      "text/plain": [
       "4.593437735750014"
      ]
     },
     "execution_count": 138,
     "metadata": {},
     "output_type": "execute_result"
    }
   ],
   "source": [
    "t_stat"
   ]
  },
  {
   "cell_type": "code",
   "execution_count": 87,
   "id": "0bf8ff26",
   "metadata": {},
   "outputs": [],
   "source": [
    "#manual cars get better gas mileage than automatics"
   ]
  },
  {
   "cell_type": "code",
   "execution_count": null,
   "id": "983b587b",
   "metadata": {},
   "outputs": [],
   "source": [
    "##Answer with the type of stats test you would use \n",
    "##(assume normal distribution):\n",
    "\n",
    "#Do students get better test grades if they have a rubber duck on their desk?\n",
    "### Ttest\n",
    "#Does smoking affect when or not someone has lung cancer?\n",
    "### chi2\n",
    "#Is gender independent of a person’s blood type?\n",
    "### chi2\n",
    "#A farming company wants to know if a new fertilizer has improved crop yield or not\n",
    "### ttest\n",
    "#Does the length of time of the lecture correlate with a students grade?\n",
    "### pearsonsr\n",
    "#Do people with dogs live in apartments more than people with cats?\n",
    "### chi2\n",
    "#Is there a relationship between the length of your \n",
    "#arm and the length of your foot?\n",
    "### pearsonr\n",
    "#Do guys and gals quit their jobs at the same rate?\n",
    "#chi2"
   ]
  },
  {
   "cell_type": "markdown",
   "id": "8e966a16",
   "metadata": {},
   "source": [
    "Use the telco_churn data. Does tenure correlate with monthly charges?"
   ]
  },
  {
   "cell_type": "code",
   "execution_count": 24,
   "id": "ebf6ff2e",
   "metadata": {},
   "outputs": [],
   "source": [
    "telco = pd.read_csv('/Users/gabrielcavazos/Downloads/telco_churn.csv')"
   ]
  },
  {
   "cell_type": "code",
   "execution_count": 25,
   "id": "1c57ba38",
   "metadata": {},
   "outputs": [
    {
     "data": {
      "text/html": [
       "<div>\n",
       "<style scoped>\n",
       "    .dataframe tbody tr th:only-of-type {\n",
       "        vertical-align: middle;\n",
       "    }\n",
       "\n",
       "    .dataframe tbody tr th {\n",
       "        vertical-align: top;\n",
       "    }\n",
       "\n",
       "    .dataframe thead th {\n",
       "        text-align: right;\n",
       "    }\n",
       "</style>\n",
       "<table border=\"1\" class=\"dataframe\">\n",
       "  <thead>\n",
       "    <tr style=\"text-align: right;\">\n",
       "      <th></th>\n",
       "      <th>customerID</th>\n",
       "      <th>gender</th>\n",
       "      <th>SeniorCitizen</th>\n",
       "      <th>Partner</th>\n",
       "      <th>Dependents</th>\n",
       "      <th>tenure</th>\n",
       "      <th>PhoneService</th>\n",
       "      <th>MultipleLines</th>\n",
       "      <th>InternetService</th>\n",
       "      <th>OnlineSecurity</th>\n",
       "      <th>...</th>\n",
       "      <th>DeviceProtection</th>\n",
       "      <th>TechSupport</th>\n",
       "      <th>StreamingTV</th>\n",
       "      <th>StreamingMovies</th>\n",
       "      <th>Contract</th>\n",
       "      <th>PaperlessBilling</th>\n",
       "      <th>PaymentMethod</th>\n",
       "      <th>MonthlyCharges</th>\n",
       "      <th>TotalCharges</th>\n",
       "      <th>Churn</th>\n",
       "    </tr>\n",
       "  </thead>\n",
       "  <tbody>\n",
       "    <tr>\n",
       "      <th>0</th>\n",
       "      <td>7590-VHVEG</td>\n",
       "      <td>Female</td>\n",
       "      <td>0</td>\n",
       "      <td>Yes</td>\n",
       "      <td>No</td>\n",
       "      <td>1</td>\n",
       "      <td>No</td>\n",
       "      <td>No phone service</td>\n",
       "      <td>DSL</td>\n",
       "      <td>No</td>\n",
       "      <td>...</td>\n",
       "      <td>No</td>\n",
       "      <td>No</td>\n",
       "      <td>No</td>\n",
       "      <td>No</td>\n",
       "      <td>Month-to-month</td>\n",
       "      <td>Yes</td>\n",
       "      <td>Electronic check</td>\n",
       "      <td>29.85</td>\n",
       "      <td>29.85</td>\n",
       "      <td>No</td>\n",
       "    </tr>\n",
       "  </tbody>\n",
       "</table>\n",
       "<p>1 rows × 21 columns</p>\n",
       "</div>"
      ],
      "text/plain": [
       "   customerID  gender  SeniorCitizen Partner Dependents  tenure PhoneService  \\\n",
       "0  7590-VHVEG  Female              0     Yes         No       1           No   \n",
       "\n",
       "      MultipleLines InternetService OnlineSecurity  ... DeviceProtection  \\\n",
       "0  No phone service             DSL             No  ...               No   \n",
       "\n",
       "  TechSupport StreamingTV StreamingMovies        Contract PaperlessBilling  \\\n",
       "0          No          No              No  Month-to-month              Yes   \n",
       "\n",
       "      PaymentMethod MonthlyCharges  TotalCharges Churn  \n",
       "0  Electronic check          29.85         29.85    No  \n",
       "\n",
       "[1 rows x 21 columns]"
      ]
     },
     "execution_count": 25,
     "metadata": {},
     "output_type": "execute_result"
    }
   ],
   "source": [
    "telco.head(1)"
   ]
  },
  {
   "cell_type": "markdown",
   "id": "b988c57e",
   "metadata": {},
   "source": [
    "H$_0$: There is no linear realationship between tenure and monthly charges\n",
    "\n",
    "H$_a$: There is a linear relationship between tenure and monthly charges"
   ]
  },
  {
   "cell_type": "code",
   "execution_count": 26,
   "id": "f16b9f8c",
   "metadata": {},
   "outputs": [],
   "source": [
    "# Set an alpha for a 95% confidence level\n",
    "α = 0.05"
   ]
  },
  {
   "cell_type": "code",
   "execution_count": 27,
   "id": "f02d4c9a",
   "metadata": {},
   "outputs": [],
   "source": [
    "r, p = stats.pearsonr(telco.tenure, telco.MonthlyCharges)"
   ]
  },
  {
   "cell_type": "code",
   "execution_count": 28,
   "id": "07456fb2",
   "metadata": {},
   "outputs": [
    {
     "name": "stdout",
     "output_type": "stream",
     "text": [
      "We can reject the null hypothesis!\n"
     ]
    }
   ],
   "source": [
    "if p < α:\n",
    "    print('We can reject the null hypothesis!')"
   ]
  },
  {
   "cell_type": "markdown",
   "id": "9e781b58",
   "metadata": {},
   "source": [
    "total charges?"
   ]
  },
  {
   "cell_type": "code",
   "execution_count": 29,
   "id": "968acc12",
   "metadata": {},
   "outputs": [
    {
     "name": "stdout",
     "output_type": "stream",
     "text": [
      "<class 'pandas.core.frame.DataFrame'>\n",
      "RangeIndex: 7043 entries, 0 to 7042\n",
      "Data columns (total 21 columns):\n",
      " #   Column            Non-Null Count  Dtype  \n",
      "---  ------            --------------  -----  \n",
      " 0   customerID        7043 non-null   object \n",
      " 1   gender            7043 non-null   object \n",
      " 2   SeniorCitizen     7043 non-null   int64  \n",
      " 3   Partner           7043 non-null   object \n",
      " 4   Dependents        7043 non-null   object \n",
      " 5   tenure            7043 non-null   int64  \n",
      " 6   PhoneService      7043 non-null   object \n",
      " 7   MultipleLines     7043 non-null   object \n",
      " 8   InternetService   7043 non-null   object \n",
      " 9   OnlineSecurity    7043 non-null   object \n",
      " 10  OnlineBackup      7043 non-null   object \n",
      " 11  DeviceProtection  7043 non-null   object \n",
      " 12  TechSupport       7043 non-null   object \n",
      " 13  StreamingTV       7043 non-null   object \n",
      " 14  StreamingMovies   7043 non-null   object \n",
      " 15  Contract          7043 non-null   object \n",
      " 16  PaperlessBilling  7043 non-null   object \n",
      " 17  PaymentMethod     7043 non-null   object \n",
      " 18  MonthlyCharges    7043 non-null   float64\n",
      " 19  TotalCharges      7043 non-null   object \n",
      " 20  Churn             7043 non-null   object \n",
      "dtypes: float64(1), int64(2), object(18)\n",
      "memory usage: 1.1+ MB\n"
     ]
    }
   ],
   "source": [
    "# looks like total charges isnt a number yet.  Let's fix that!\n",
    "telco.info()"
   ]
  },
  {
   "cell_type": "code",
   "execution_count": 30,
   "id": "25414ce3",
   "metadata": {},
   "outputs": [
    {
     "data": {
      "text/plain": [
       "          11\n",
       "20.2      11\n",
       "19.75      9\n",
       "20.05      8\n",
       "19.9       8\n",
       "          ..\n",
       "6849.4     1\n",
       "692.35     1\n",
       "130.15     1\n",
       "3211.9     1\n",
       "6844.5     1\n",
       "Name: TotalCharges, Length: 6531, dtype: int64"
      ]
     },
     "execution_count": 30,
     "metadata": {},
     "output_type": "execute_result"
    }
   ],
   "source": [
    "telco.TotalCharges.value_counts()"
   ]
  },
  {
   "cell_type": "code",
   "execution_count": 31,
   "id": "4363b70a",
   "metadata": {},
   "outputs": [],
   "source": [
    "telco.TotalCharges = (\n",
    "    telco.TotalCharges + \n",
    "    '0').astype(float)"
   ]
  },
  {
   "cell_type": "markdown",
   "id": "53f9c0d6",
   "metadata": {},
   "source": [
    "H$_0$: There is no linear realationship between tenure and total charges\n",
    "\n",
    "H$_a$: There is a linear relationship between tenure and total charges"
   ]
  },
  {
   "cell_type": "code",
   "execution_count": 32,
   "id": "93f55818",
   "metadata": {},
   "outputs": [
    {
     "name": "stdout",
     "output_type": "stream",
     "text": [
      "We can reject the null hypothesis\n"
     ]
    }
   ],
   "source": [
    "r, p = stats.pearsonr(telco.TotalCharges,\n",
    "                     telco.tenure)\n",
    "if p < α:\n",
    "    print('We can reject the null hypothesis')"
   ]
  },
  {
   "cell_type": "markdown",
   "id": "5d20cef6",
   "metadata": {},
   "source": [
    "What happens if you control for phone and internet service?"
   ]
  },
  {
   "cell_type": "code",
   "execution_count": 33,
   "id": "0090ce72",
   "metadata": {},
   "outputs": [],
   "source": [
    "internets = telco.InternetService.unique()"
   ]
  },
  {
   "cell_type": "code",
   "execution_count": 34,
   "id": "453dd4eb",
   "metadata": {},
   "outputs": [],
   "source": [
    "phones = telco.PhoneService.unique()"
   ]
  },
  {
   "cell_type": "code",
   "execution_count": 35,
   "id": "0ae47f49",
   "metadata": {},
   "outputs": [],
   "source": [
    "import itertools"
   ]
  },
  {
   "cell_type": "code",
   "execution_count": 36,
   "id": "28edbfc8",
   "metadata": {},
   "outputs": [],
   "source": [
    "combos = list(itertools.product(internets,phones))"
   ]
  },
  {
   "cell_type": "code",
   "execution_count": 37,
   "id": "e1dd1d11",
   "metadata": {},
   "outputs": [
    {
     "data": {
      "text/html": [
       "<div>\n",
       "<style scoped>\n",
       "    .dataframe tbody tr th:only-of-type {\n",
       "        vertical-align: middle;\n",
       "    }\n",
       "\n",
       "    .dataframe tbody tr th {\n",
       "        vertical-align: top;\n",
       "    }\n",
       "\n",
       "    .dataframe thead th {\n",
       "        text-align: right;\n",
       "    }\n",
       "</style>\n",
       "<table border=\"1\" class=\"dataframe\">\n",
       "  <thead>\n",
       "    <tr style=\"text-align: right;\">\n",
       "      <th></th>\n",
       "      <th>customerID</th>\n",
       "      <th>gender</th>\n",
       "      <th>SeniorCitizen</th>\n",
       "      <th>Partner</th>\n",
       "      <th>Dependents</th>\n",
       "      <th>tenure</th>\n",
       "      <th>PhoneService</th>\n",
       "      <th>MultipleLines</th>\n",
       "      <th>InternetService</th>\n",
       "      <th>OnlineSecurity</th>\n",
       "      <th>...</th>\n",
       "      <th>DeviceProtection</th>\n",
       "      <th>TechSupport</th>\n",
       "      <th>StreamingTV</th>\n",
       "      <th>StreamingMovies</th>\n",
       "      <th>Contract</th>\n",
       "      <th>PaperlessBilling</th>\n",
       "      <th>PaymentMethod</th>\n",
       "      <th>MonthlyCharges</th>\n",
       "      <th>TotalCharges</th>\n",
       "      <th>Churn</th>\n",
       "    </tr>\n",
       "  </thead>\n",
       "  <tbody>\n",
       "    <tr>\n",
       "      <th>0</th>\n",
       "      <td>7590-VHVEG</td>\n",
       "      <td>Female</td>\n",
       "      <td>0</td>\n",
       "      <td>Yes</td>\n",
       "      <td>No</td>\n",
       "      <td>1</td>\n",
       "      <td>No</td>\n",
       "      <td>No phone service</td>\n",
       "      <td>DSL</td>\n",
       "      <td>No</td>\n",
       "      <td>...</td>\n",
       "      <td>No</td>\n",
       "      <td>No</td>\n",
       "      <td>No</td>\n",
       "      <td>No</td>\n",
       "      <td>Month-to-month</td>\n",
       "      <td>Yes</td>\n",
       "      <td>Electronic check</td>\n",
       "      <td>29.85</td>\n",
       "      <td>29.85</td>\n",
       "      <td>No</td>\n",
       "    </tr>\n",
       "    <tr>\n",
       "      <th>3</th>\n",
       "      <td>7795-CFOCW</td>\n",
       "      <td>Male</td>\n",
       "      <td>0</td>\n",
       "      <td>No</td>\n",
       "      <td>No</td>\n",
       "      <td>45</td>\n",
       "      <td>No</td>\n",
       "      <td>No phone service</td>\n",
       "      <td>DSL</td>\n",
       "      <td>Yes</td>\n",
       "      <td>...</td>\n",
       "      <td>Yes</td>\n",
       "      <td>Yes</td>\n",
       "      <td>No</td>\n",
       "      <td>No</td>\n",
       "      <td>One year</td>\n",
       "      <td>No</td>\n",
       "      <td>Bank transfer (automatic)</td>\n",
       "      <td>42.30</td>\n",
       "      <td>1840.75</td>\n",
       "      <td>No</td>\n",
       "    </tr>\n",
       "    <tr>\n",
       "      <th>7</th>\n",
       "      <td>6713-OKOMC</td>\n",
       "      <td>Female</td>\n",
       "      <td>0</td>\n",
       "      <td>No</td>\n",
       "      <td>No</td>\n",
       "      <td>10</td>\n",
       "      <td>No</td>\n",
       "      <td>No phone service</td>\n",
       "      <td>DSL</td>\n",
       "      <td>Yes</td>\n",
       "      <td>...</td>\n",
       "      <td>No</td>\n",
       "      <td>No</td>\n",
       "      <td>No</td>\n",
       "      <td>No</td>\n",
       "      <td>Month-to-month</td>\n",
       "      <td>No</td>\n",
       "      <td>Mailed check</td>\n",
       "      <td>29.75</td>\n",
       "      <td>301.90</td>\n",
       "      <td>No</td>\n",
       "    </tr>\n",
       "    <tr>\n",
       "      <th>20</th>\n",
       "      <td>8779-QRDMV</td>\n",
       "      <td>Male</td>\n",
       "      <td>1</td>\n",
       "      <td>No</td>\n",
       "      <td>No</td>\n",
       "      <td>1</td>\n",
       "      <td>No</td>\n",
       "      <td>No phone service</td>\n",
       "      <td>DSL</td>\n",
       "      <td>No</td>\n",
       "      <td>...</td>\n",
       "      <td>Yes</td>\n",
       "      <td>No</td>\n",
       "      <td>No</td>\n",
       "      <td>Yes</td>\n",
       "      <td>Month-to-month</td>\n",
       "      <td>Yes</td>\n",
       "      <td>Electronic check</td>\n",
       "      <td>39.65</td>\n",
       "      <td>39.65</td>\n",
       "      <td>Yes</td>\n",
       "    </tr>\n",
       "    <tr>\n",
       "      <th>27</th>\n",
       "      <td>8665-UTDHZ</td>\n",
       "      <td>Male</td>\n",
       "      <td>0</td>\n",
       "      <td>Yes</td>\n",
       "      <td>Yes</td>\n",
       "      <td>1</td>\n",
       "      <td>No</td>\n",
       "      <td>No phone service</td>\n",
       "      <td>DSL</td>\n",
       "      <td>No</td>\n",
       "      <td>...</td>\n",
       "      <td>No</td>\n",
       "      <td>No</td>\n",
       "      <td>No</td>\n",
       "      <td>No</td>\n",
       "      <td>Month-to-month</td>\n",
       "      <td>No</td>\n",
       "      <td>Electronic check</td>\n",
       "      <td>30.20</td>\n",
       "      <td>30.20</td>\n",
       "      <td>Yes</td>\n",
       "    </tr>\n",
       "    <tr>\n",
       "      <th>...</th>\n",
       "      <td>...</td>\n",
       "      <td>...</td>\n",
       "      <td>...</td>\n",
       "      <td>...</td>\n",
       "      <td>...</td>\n",
       "      <td>...</td>\n",
       "      <td>...</td>\n",
       "      <td>...</td>\n",
       "      <td>...</td>\n",
       "      <td>...</td>\n",
       "      <td>...</td>\n",
       "      <td>...</td>\n",
       "      <td>...</td>\n",
       "      <td>...</td>\n",
       "      <td>...</td>\n",
       "      <td>...</td>\n",
       "      <td>...</td>\n",
       "      <td>...</td>\n",
       "      <td>...</td>\n",
       "      <td>...</td>\n",
       "      <td>...</td>\n",
       "    </tr>\n",
       "    <tr>\n",
       "      <th>7003</th>\n",
       "      <td>4501-VCPFK</td>\n",
       "      <td>Male</td>\n",
       "      <td>0</td>\n",
       "      <td>No</td>\n",
       "      <td>No</td>\n",
       "      <td>26</td>\n",
       "      <td>No</td>\n",
       "      <td>No phone service</td>\n",
       "      <td>DSL</td>\n",
       "      <td>No</td>\n",
       "      <td>...</td>\n",
       "      <td>Yes</td>\n",
       "      <td>Yes</td>\n",
       "      <td>No</td>\n",
       "      <td>No</td>\n",
       "      <td>Month-to-month</td>\n",
       "      <td>No</td>\n",
       "      <td>Electronic check</td>\n",
       "      <td>35.75</td>\n",
       "      <td>1022.50</td>\n",
       "      <td>No</td>\n",
       "    </tr>\n",
       "    <tr>\n",
       "      <th>7007</th>\n",
       "      <td>2274-XUATA</td>\n",
       "      <td>Male</td>\n",
       "      <td>1</td>\n",
       "      <td>Yes</td>\n",
       "      <td>No</td>\n",
       "      <td>72</td>\n",
       "      <td>No</td>\n",
       "      <td>No phone service</td>\n",
       "      <td>DSL</td>\n",
       "      <td>Yes</td>\n",
       "      <td>...</td>\n",
       "      <td>Yes</td>\n",
       "      <td>Yes</td>\n",
       "      <td>Yes</td>\n",
       "      <td>Yes</td>\n",
       "      <td>Two year</td>\n",
       "      <td>Yes</td>\n",
       "      <td>Bank transfer (automatic)</td>\n",
       "      <td>63.10</td>\n",
       "      <td>4685.55</td>\n",
       "      <td>No</td>\n",
       "    </tr>\n",
       "    <tr>\n",
       "      <th>7029</th>\n",
       "      <td>2235-DWLJU</td>\n",
       "      <td>Female</td>\n",
       "      <td>1</td>\n",
       "      <td>No</td>\n",
       "      <td>No</td>\n",
       "      <td>6</td>\n",
       "      <td>No</td>\n",
       "      <td>No phone service</td>\n",
       "      <td>DSL</td>\n",
       "      <td>No</td>\n",
       "      <td>...</td>\n",
       "      <td>No</td>\n",
       "      <td>No</td>\n",
       "      <td>Yes</td>\n",
       "      <td>Yes</td>\n",
       "      <td>Month-to-month</td>\n",
       "      <td>Yes</td>\n",
       "      <td>Electronic check</td>\n",
       "      <td>44.40</td>\n",
       "      <td>263.05</td>\n",
       "      <td>No</td>\n",
       "    </tr>\n",
       "    <tr>\n",
       "      <th>7036</th>\n",
       "      <td>7750-EYXWZ</td>\n",
       "      <td>Female</td>\n",
       "      <td>0</td>\n",
       "      <td>No</td>\n",
       "      <td>No</td>\n",
       "      <td>12</td>\n",
       "      <td>No</td>\n",
       "      <td>No phone service</td>\n",
       "      <td>DSL</td>\n",
       "      <td>No</td>\n",
       "      <td>...</td>\n",
       "      <td>Yes</td>\n",
       "      <td>Yes</td>\n",
       "      <td>Yes</td>\n",
       "      <td>Yes</td>\n",
       "      <td>One year</td>\n",
       "      <td>No</td>\n",
       "      <td>Electronic check</td>\n",
       "      <td>60.65</td>\n",
       "      <td>743.30</td>\n",
       "      <td>No</td>\n",
       "    </tr>\n",
       "    <tr>\n",
       "      <th>7040</th>\n",
       "      <td>4801-JZAZL</td>\n",
       "      <td>Female</td>\n",
       "      <td>0</td>\n",
       "      <td>Yes</td>\n",
       "      <td>Yes</td>\n",
       "      <td>11</td>\n",
       "      <td>No</td>\n",
       "      <td>No phone service</td>\n",
       "      <td>DSL</td>\n",
       "      <td>Yes</td>\n",
       "      <td>...</td>\n",
       "      <td>No</td>\n",
       "      <td>No</td>\n",
       "      <td>No</td>\n",
       "      <td>No</td>\n",
       "      <td>Month-to-month</td>\n",
       "      <td>Yes</td>\n",
       "      <td>Electronic check</td>\n",
       "      <td>29.60</td>\n",
       "      <td>346.45</td>\n",
       "      <td>No</td>\n",
       "    </tr>\n",
       "  </tbody>\n",
       "</table>\n",
       "<p>682 rows × 21 columns</p>\n",
       "</div>"
      ],
      "text/plain": [
       "      customerID  gender  SeniorCitizen Partner Dependents  tenure  \\\n",
       "0     7590-VHVEG  Female              0     Yes         No       1   \n",
       "3     7795-CFOCW    Male              0      No         No      45   \n",
       "7     6713-OKOMC  Female              0      No         No      10   \n",
       "20    8779-QRDMV    Male              1      No         No       1   \n",
       "27    8665-UTDHZ    Male              0     Yes        Yes       1   \n",
       "...          ...     ...            ...     ...        ...     ...   \n",
       "7003  4501-VCPFK    Male              0      No         No      26   \n",
       "7007  2274-XUATA    Male              1     Yes         No      72   \n",
       "7029  2235-DWLJU  Female              1      No         No       6   \n",
       "7036  7750-EYXWZ  Female              0      No         No      12   \n",
       "7040  4801-JZAZL  Female              0     Yes        Yes      11   \n",
       "\n",
       "     PhoneService     MultipleLines InternetService OnlineSecurity  ...  \\\n",
       "0              No  No phone service             DSL             No  ...   \n",
       "3              No  No phone service             DSL            Yes  ...   \n",
       "7              No  No phone service             DSL            Yes  ...   \n",
       "20             No  No phone service             DSL             No  ...   \n",
       "27             No  No phone service             DSL             No  ...   \n",
       "...           ...               ...             ...            ...  ...   \n",
       "7003           No  No phone service             DSL             No  ...   \n",
       "7007           No  No phone service             DSL            Yes  ...   \n",
       "7029           No  No phone service             DSL             No  ...   \n",
       "7036           No  No phone service             DSL             No  ...   \n",
       "7040           No  No phone service             DSL            Yes  ...   \n",
       "\n",
       "     DeviceProtection TechSupport StreamingTV StreamingMovies        Contract  \\\n",
       "0                  No          No          No              No  Month-to-month   \n",
       "3                 Yes         Yes          No              No        One year   \n",
       "7                  No          No          No              No  Month-to-month   \n",
       "20                Yes          No          No             Yes  Month-to-month   \n",
       "27                 No          No          No              No  Month-to-month   \n",
       "...               ...         ...         ...             ...             ...   \n",
       "7003              Yes         Yes          No              No  Month-to-month   \n",
       "7007              Yes         Yes         Yes             Yes        Two year   \n",
       "7029               No          No         Yes             Yes  Month-to-month   \n",
       "7036              Yes         Yes         Yes             Yes        One year   \n",
       "7040               No          No          No              No  Month-to-month   \n",
       "\n",
       "     PaperlessBilling              PaymentMethod MonthlyCharges  TotalCharges  \\\n",
       "0                 Yes           Electronic check          29.85         29.85   \n",
       "3                  No  Bank transfer (automatic)          42.30       1840.75   \n",
       "7                  No               Mailed check          29.75        301.90   \n",
       "20                Yes           Electronic check          39.65         39.65   \n",
       "27                 No           Electronic check          30.20         30.20   \n",
       "...               ...                        ...            ...           ...   \n",
       "7003               No           Electronic check          35.75       1022.50   \n",
       "7007              Yes  Bank transfer (automatic)          63.10       4685.55   \n",
       "7029              Yes           Electronic check          44.40        263.05   \n",
       "7036               No           Electronic check          60.65        743.30   \n",
       "7040              Yes           Electronic check          29.60        346.45   \n",
       "\n",
       "      Churn  \n",
       "0        No  \n",
       "3        No  \n",
       "7        No  \n",
       "20      Yes  \n",
       "27      Yes  \n",
       "...     ...  \n",
       "7003     No  \n",
       "7007     No  \n",
       "7029     No  \n",
       "7036     No  \n",
       "7040     No  \n",
       "\n",
       "[682 rows x 21 columns]"
      ]
     },
     "execution_count": 37,
     "metadata": {},
     "output_type": "execute_result"
    }
   ],
   "source": [
    "# lets create a for loop for each of these combinations\n",
    "telco[(telco['InternetService'] == 'DSL'\n",
    "      )& (telco['PhoneService'] == 'No')]"
   ]
  },
  {
   "cell_type": "code",
   "execution_count": 38,
   "id": "6afdef6a",
   "metadata": {},
   "outputs": [
    {
     "name": "stdout",
     "output_type": "stream",
     "text": [
      "('DSL', 'No')\n",
      "(682, 21)\n",
      "\n",
      "            we can reject the null hypothesis that\n",
      "            there is no linear relationship between Internet\n",
      "            Service Type DSL and Phone Service Type\n",
      "            No\n",
      "('DSL', 'Yes')\n",
      "(1739, 21)\n",
      "\n",
      "            we can reject the null hypothesis that\n",
      "            there is no linear relationship between Internet\n",
      "            Service Type DSL and Phone Service Type\n",
      "            Yes\n",
      "('Fiber optic', 'No')\n",
      "(0, 21)\n",
      "('Fiber optic', 'Yes')\n",
      "(3096, 21)\n",
      "\n",
      "            we can reject the null hypothesis that\n",
      "            there is no linear relationship between Internet\n",
      "            Service Type Fiber optic and Phone Service Type\n",
      "            Yes\n",
      "('No', 'No')\n",
      "(0, 21)\n",
      "('No', 'Yes')\n",
      "(1526, 21)\n",
      "\n",
      "            we can reject the null hypothesis that\n",
      "            there is no linear relationship between Internet\n",
      "            Service Type No and Phone Service Type\n",
      "            Yes\n"
     ]
    }
   ],
   "source": [
    "for combo in combos:\n",
    "    subset = telco[(telco['InternetService'] == combo[0]\n",
    "      )& (telco['PhoneService'] == combo[1])]\n",
    "    print(combo)\n",
    "    print(subset.shape)\n",
    "    if (combo == ('Fiber optic', 'No')) or (combo == ('No', 'No')):\n",
    "        pass\n",
    "    else:\n",
    "        r, p = stats.pearsonr(subset.tenure, \n",
    "                             subset.TotalCharges)\n",
    "        if p < α:\n",
    "            print(f'''\n",
    "            we can reject the null hypothesis that\n",
    "            there is no linear relationship between Internet\n",
    "            Service Type {combo[0]} and Phone Service Type\n",
    "            {combo[1]}''')"
   ]
  },
  {
   "cell_type": "markdown",
   "id": "d43707b7",
   "metadata": {},
   "source": [
    "Use the employees database.\n",
    "Is there a relationship between how long an employee has been with the company and their salary?"
   ]
  },
  {
   "cell_type": "code",
   "execution_count": 39,
   "id": "e81118bb",
   "metadata": {},
   "outputs": [],
   "source": [
    "url = f'mysql+pymysql://{env.user}:{env.password}@{env.host}/employees'"
   ]
  },
  {
   "cell_type": "code",
   "execution_count": 40,
   "id": "2a650769",
   "metadata": {},
   "outputs": [],
   "source": [
    "query = '''\n",
    "SELECT\n",
    "    DATEDIFF((SELECT MAX(hire_date) \n",
    "    FROM employees), e.hire_date) AS tenure,\n",
    "    s.salary AS salary\n",
    "FROM employees e\n",
    "JOIN salaries s USING (emp_no)\n",
    "WHERE s.to_date > NOW()\n",
    "'''\n",
    "employees_with_salaries = pd.read_sql(query, url)"
   ]
  },
  {
   "cell_type": "code",
   "execution_count": 41,
   "id": "a10e83c7",
   "metadata": {},
   "outputs": [
    {
     "data": {
      "text/html": [
       "<div>\n",
       "<style scoped>\n",
       "    .dataframe tbody tr th:only-of-type {\n",
       "        vertical-align: middle;\n",
       "    }\n",
       "\n",
       "    .dataframe tbody tr th {\n",
       "        vertical-align: top;\n",
       "    }\n",
       "\n",
       "    .dataframe thead th {\n",
       "        text-align: right;\n",
       "    }\n",
       "</style>\n",
       "<table border=\"1\" class=\"dataframe\">\n",
       "  <thead>\n",
       "    <tr style=\"text-align: right;\">\n",
       "      <th></th>\n",
       "      <th>tenure</th>\n",
       "      <th>salary</th>\n",
       "    </tr>\n",
       "  </thead>\n",
       "  <tbody>\n",
       "    <tr>\n",
       "      <th>0</th>\n",
       "      <td>4964</td>\n",
       "      <td>88958</td>\n",
       "    </tr>\n",
       "    <tr>\n",
       "      <th>1</th>\n",
       "      <td>5181</td>\n",
       "      <td>72527</td>\n",
       "    </tr>\n",
       "    <tr>\n",
       "      <th>2</th>\n",
       "      <td>4901</td>\n",
       "      <td>43311</td>\n",
       "    </tr>\n",
       "    <tr>\n",
       "      <th>3</th>\n",
       "      <td>4806</td>\n",
       "      <td>74057</td>\n",
       "    </tr>\n",
       "    <tr>\n",
       "      <th>4</th>\n",
       "      <td>3790</td>\n",
       "      <td>94692</td>\n",
       "    </tr>\n",
       "  </tbody>\n",
       "</table>\n",
       "</div>"
      ],
      "text/plain": [
       "   tenure  salary\n",
       "0    4964   88958\n",
       "1    5181   72527\n",
       "2    4901   43311\n",
       "3    4806   74057\n",
       "4    3790   94692"
      ]
     },
     "execution_count": 41,
     "metadata": {},
     "output_type": "execute_result"
    }
   ],
   "source": [
    "employees_with_salaries.head()"
   ]
  },
  {
   "cell_type": "markdown",
   "id": "a91de62b",
   "metadata": {},
   "source": [
    "H$_0$: There is no linear relationship between tenure and salary\n",
    "\n",
    "H$_a$: There is a linear relattionship between tenure and salary"
   ]
  },
  {
   "cell_type": "code",
   "execution_count": 42,
   "id": "412be880",
   "metadata": {},
   "outputs": [],
   "source": [
    "r, p = stats.pearsonr(\n",
    "    employees_with_salaries['tenure'],\n",
    "employees_with_salaries['salary'])"
   ]
  },
  {
   "cell_type": "code",
   "execution_count": 43,
   "id": "89c4b696",
   "metadata": {},
   "outputs": [
    {
     "data": {
      "text/plain": [
       "True"
      ]
     },
     "execution_count": 43,
     "metadata": {},
     "output_type": "execute_result"
    }
   ],
   "source": [
    "p < α"
   ]
  },
  {
   "cell_type": "code",
   "execution_count": 44,
   "id": "7e9b98c9",
   "metadata": {},
   "outputs": [
    {
     "data": {
      "text/plain": [
       "0.3064625613186078"
      ]
     },
     "execution_count": 44,
     "metadata": {},
     "output_type": "execute_result"
    }
   ],
   "source": [
    "r"
   ]
  },
  {
   "cell_type": "markdown",
   "id": "6819faee",
   "metadata": {},
   "source": [
    "Is there a relationship between how long an employee has been with the company and the number of titles they have had?"
   ]
  },
  {
   "cell_type": "code",
   "execution_count": 45,
   "id": "2b42fd36",
   "metadata": {},
   "outputs": [],
   "source": [
    "query = '''\n",
    "SELECT \n",
    "DATEDIFF(\n",
    "(SELECT MAX(hire_date) FROM employees),\n",
    "hire_date\n",
    ") AS tenure, \n",
    "t.title_count\n",
    "FROM employees e\n",
    "JOIN (\n",
    "SELECT \n",
    "emp_no, \n",
    "COUNT(*) \n",
    "title_count\n",
    "FROM titles GROUP BY emp_no) t USING(emp_no)\n",
    "ORDER BY title_count DESC;\n",
    "'''\n",
    "title_tenure = pd.read_sql(query, url)"
   ]
  },
  {
   "cell_type": "code",
   "execution_count": 46,
   "id": "ed4bcdc8",
   "metadata": {},
   "outputs": [
    {
     "data": {
      "text/html": [
       "<div>\n",
       "<style scoped>\n",
       "    .dataframe tbody tr th:only-of-type {\n",
       "        vertical-align: middle;\n",
       "    }\n",
       "\n",
       "    .dataframe tbody tr th {\n",
       "        vertical-align: top;\n",
       "    }\n",
       "\n",
       "    .dataframe thead th {\n",
       "        text-align: right;\n",
       "    }\n",
       "</style>\n",
       "<table border=\"1\" class=\"dataframe\">\n",
       "  <thead>\n",
       "    <tr style=\"text-align: right;\">\n",
       "      <th></th>\n",
       "      <th>tenure</th>\n",
       "      <th>title_count</th>\n",
       "    </tr>\n",
       "  </thead>\n",
       "  <tbody>\n",
       "    <tr>\n",
       "      <th>0</th>\n",
       "      <td>3538</td>\n",
       "      <td>3</td>\n",
       "    </tr>\n",
       "    <tr>\n",
       "      <th>1</th>\n",
       "      <td>3966</td>\n",
       "      <td>3</td>\n",
       "    </tr>\n",
       "    <tr>\n",
       "      <th>2</th>\n",
       "      <td>3482</td>\n",
       "      <td>3</td>\n",
       "    </tr>\n",
       "    <tr>\n",
       "      <th>3</th>\n",
       "      <td>4299</td>\n",
       "      <td>3</td>\n",
       "    </tr>\n",
       "    <tr>\n",
       "      <th>4</th>\n",
       "      <td>4149</td>\n",
       "      <td>3</td>\n",
       "    </tr>\n",
       "  </tbody>\n",
       "</table>\n",
       "</div>"
      ],
      "text/plain": [
       "   tenure  title_count\n",
       "0    3538            3\n",
       "1    3966            3\n",
       "2    3482            3\n",
       "3    4299            3\n",
       "4    4149            3"
      ]
     },
     "execution_count": 46,
     "metadata": {},
     "output_type": "execute_result"
    }
   ],
   "source": [
    "title_tenure.head()"
   ]
  },
  {
   "cell_type": "markdown",
   "id": "b996f0ac",
   "metadata": {},
   "source": [
    "H$_0$ : There is no linear relationship between tenure and number of titles\n",
    "\n",
    "H$_a$ : There is a linear relationship between tenure and number of titles"
   ]
  },
  {
   "cell_type": "code",
   "execution_count": 47,
   "id": "f2428deb",
   "metadata": {},
   "outputs": [
    {
     "name": "stdout",
     "output_type": "stream",
     "text": [
      "we can reject the null hypothesis\n"
     ]
    }
   ],
   "source": [
    "r, p = stats.pearsonr(title_tenure.tenure, title_tenure.title_count)\n",
    "if p < α:\n",
    "    print('we can reject the null hypothesis')"
   ]
  },
  {
   "cell_type": "code",
   "execution_count": 48,
   "id": "eb9bea10",
   "metadata": {},
   "outputs": [
    {
     "data": {
      "text/plain": [
       "0.2665989299136619"
      ]
     },
     "execution_count": 48,
     "metadata": {},
     "output_type": "execute_result"
    }
   ],
   "source": [
    "r"
   ]
  },
  {
   "cell_type": "markdown",
   "id": "0a96d362",
   "metadata": {},
   "source": [
    "use sleepstudy\n",
    "\n",
    "Is there a relationship between days and reaction time?"
   ]
  },
  {
   "cell_type": "code",
   "execution_count": 49,
   "id": "8b4509a2",
   "metadata": {},
   "outputs": [],
   "source": [
    "from pydataset import data"
   ]
  },
  {
   "cell_type": "code",
   "execution_count": 50,
   "id": "e9cc711d",
   "metadata": {},
   "outputs": [],
   "source": [
    "sleep = data('sleepstudy')"
   ]
  },
  {
   "cell_type": "code",
   "execution_count": 51,
   "id": "4fb06cfa",
   "metadata": {},
   "outputs": [
    {
     "data": {
      "text/plain": [
       "Index(['Reaction', 'Days', 'Subject'], dtype='object')"
      ]
     },
     "execution_count": 51,
     "metadata": {},
     "output_type": "execute_result"
    }
   ],
   "source": [
    "sleep.columns"
   ]
  },
  {
   "cell_type": "code",
   "execution_count": 52,
   "id": "c633a753",
   "metadata": {},
   "outputs": [],
   "source": [
    "# H0 no linear relationship between reaction time and days\n",
    "# Ha there is a linear relationship between reaction time and days"
   ]
  },
  {
   "cell_type": "code",
   "execution_count": 53,
   "id": "e307a6ad",
   "metadata": {},
   "outputs": [
    {
     "name": "stdout",
     "output_type": "stream",
     "text": [
      "we can reject the null hypothesis\n"
     ]
    }
   ],
   "source": [
    "r, p = stats.pearsonr(sleep.Reaction, sleep.Days)\n",
    "if p < α:\n",
    "    print('we can reject the null hypothesis')"
   ]
  },
  {
   "cell_type": "markdown",
   "id": "66ca8aaf",
   "metadata": {},
   "source": [
    "Use the following contingency table to help answer the question of whether using a macbook and being a codeup student are independent of each other."
   ]
  },
  {
   "cell_type": "code",
   "execution_count": 54,
   "id": "21461294",
   "metadata": {},
   "outputs": [],
   "source": [
    "observed = pd.DataFrame(\n",
    "    {\n",
    "        'codeup_student': [49,1],\n",
    "        'not_student': [20,30]\n",
    "    }, index=['macbook_user', 'not_macbook']\n",
    ")"
   ]
  },
  {
   "cell_type": "code",
   "execution_count": 55,
   "id": "9d1cdbe6",
   "metadata": {},
   "outputs": [
    {
     "data": {
      "text/html": [
       "<div>\n",
       "<style scoped>\n",
       "    .dataframe tbody tr th:only-of-type {\n",
       "        vertical-align: middle;\n",
       "    }\n",
       "\n",
       "    .dataframe tbody tr th {\n",
       "        vertical-align: top;\n",
       "    }\n",
       "\n",
       "    .dataframe thead th {\n",
       "        text-align: right;\n",
       "    }\n",
       "</style>\n",
       "<table border=\"1\" class=\"dataframe\">\n",
       "  <thead>\n",
       "    <tr style=\"text-align: right;\">\n",
       "      <th></th>\n",
       "      <th>codeup_student</th>\n",
       "      <th>not_student</th>\n",
       "    </tr>\n",
       "  </thead>\n",
       "  <tbody>\n",
       "    <tr>\n",
       "      <th>macbook_user</th>\n",
       "      <td>49</td>\n",
       "      <td>20</td>\n",
       "    </tr>\n",
       "    <tr>\n",
       "      <th>not_macbook</th>\n",
       "      <td>1</td>\n",
       "      <td>30</td>\n",
       "    </tr>\n",
       "  </tbody>\n",
       "</table>\n",
       "</div>"
      ],
      "text/plain": [
       "              codeup_student  not_student\n",
       "macbook_user              49           20\n",
       "not_macbook                1           30"
      ]
     },
     "execution_count": 55,
     "metadata": {},
     "output_type": "execute_result"
    }
   ],
   "source": [
    "observed"
   ]
  },
  {
   "cell_type": "code",
   "execution_count": 56,
   "id": "844a703e",
   "metadata": {},
   "outputs": [],
   "source": [
    "# H0: There is no dependence between being a codeup\n",
    "# student and being a macbook user\n",
    "# Ha: There is a dependence between being a codeup student\n",
    "# and being a macbook user"
   ]
  },
  {
   "cell_type": "code",
   "execution_count": 57,
   "id": "116b642d",
   "metadata": {},
   "outputs": [],
   "source": [
    "chi2, p, _, expected = stats.chi2_contingency(observed)"
   ]
  },
  {
   "cell_type": "code",
   "execution_count": 58,
   "id": "6c0e9777",
   "metadata": {},
   "outputs": [
    {
     "data": {
      "text/plain": [
       "36.65264142122487"
      ]
     },
     "execution_count": 58,
     "metadata": {},
     "output_type": "execute_result"
    }
   ],
   "source": [
    "chi2"
   ]
  },
  {
   "cell_type": "code",
   "execution_count": 59,
   "id": "e2031e79",
   "metadata": {},
   "outputs": [
    {
     "data": {
      "text/plain": [
       "True"
      ]
     },
     "execution_count": 59,
     "metadata": {},
     "output_type": "execute_result"
    }
   ],
   "source": [
    "p<α"
   ]
  },
  {
   "cell_type": "code",
   "execution_count": 60,
   "id": "cc433d2e",
   "metadata": {},
   "outputs": [
    {
     "data": {
      "text/plain": [
       "1.4116760526193828e-09"
      ]
     },
     "execution_count": 60,
     "metadata": {},
     "output_type": "execute_result"
    }
   ],
   "source": [
    "p"
   ]
  },
  {
   "cell_type": "code",
   "execution_count": 61,
   "id": "2a1739c6",
   "metadata": {},
   "outputs": [
    {
     "data": {
      "text/plain": [
       "array([[34.5, 34.5],\n",
       "       [15.5, 15.5]])"
      ]
     },
     "execution_count": 61,
     "metadata": {},
     "output_type": "execute_result"
    }
   ],
   "source": [
    "expected"
   ]
  },
  {
   "cell_type": "code",
   "execution_count": 64,
   "id": "7c865160",
   "metadata": {},
   "outputs": [
    {
     "data": {
      "text/html": [
       "<div>\n",
       "<style scoped>\n",
       "    .dataframe tbody tr th:only-of-type {\n",
       "        vertical-align: middle;\n",
       "    }\n",
       "\n",
       "    .dataframe tbody tr th {\n",
       "        vertical-align: top;\n",
       "    }\n",
       "\n",
       "    .dataframe thead th {\n",
       "        text-align: right;\n",
       "    }\n",
       "</style>\n",
       "<table border=\"1\" class=\"dataframe\">\n",
       "  <thead>\n",
       "    <tr style=\"text-align: right;\">\n",
       "      <th></th>\n",
       "      <th>manufacturer</th>\n",
       "      <th>model</th>\n",
       "      <th>displ</th>\n",
       "      <th>year</th>\n",
       "      <th>cyl</th>\n",
       "      <th>trans</th>\n",
       "      <th>drv</th>\n",
       "      <th>cty</th>\n",
       "      <th>hwy</th>\n",
       "      <th>fl</th>\n",
       "      <th>class</th>\n",
       "    </tr>\n",
       "  </thead>\n",
       "  <tbody>\n",
       "    <tr>\n",
       "      <th>1</th>\n",
       "      <td>audi</td>\n",
       "      <td>a4</td>\n",
       "      <td>1.8</td>\n",
       "      <td>1999</td>\n",
       "      <td>4</td>\n",
       "      <td>auto(l5)</td>\n",
       "      <td>f</td>\n",
       "      <td>18</td>\n",
       "      <td>29</td>\n",
       "      <td>p</td>\n",
       "      <td>compact</td>\n",
       "    </tr>\n",
       "    <tr>\n",
       "      <th>2</th>\n",
       "      <td>audi</td>\n",
       "      <td>a4</td>\n",
       "      <td>1.8</td>\n",
       "      <td>1999</td>\n",
       "      <td>4</td>\n",
       "      <td>manual(m5)</td>\n",
       "      <td>f</td>\n",
       "      <td>21</td>\n",
       "      <td>29</td>\n",
       "      <td>p</td>\n",
       "      <td>compact</td>\n",
       "    </tr>\n",
       "    <tr>\n",
       "      <th>3</th>\n",
       "      <td>audi</td>\n",
       "      <td>a4</td>\n",
       "      <td>2.0</td>\n",
       "      <td>2008</td>\n",
       "      <td>4</td>\n",
       "      <td>manual(m6)</td>\n",
       "      <td>f</td>\n",
       "      <td>20</td>\n",
       "      <td>31</td>\n",
       "      <td>p</td>\n",
       "      <td>compact</td>\n",
       "    </tr>\n",
       "    <tr>\n",
       "      <th>4</th>\n",
       "      <td>audi</td>\n",
       "      <td>a4</td>\n",
       "      <td>2.0</td>\n",
       "      <td>2008</td>\n",
       "      <td>4</td>\n",
       "      <td>auto(av)</td>\n",
       "      <td>f</td>\n",
       "      <td>21</td>\n",
       "      <td>30</td>\n",
       "      <td>p</td>\n",
       "      <td>compact</td>\n",
       "    </tr>\n",
       "    <tr>\n",
       "      <th>5</th>\n",
       "      <td>audi</td>\n",
       "      <td>a4</td>\n",
       "      <td>2.8</td>\n",
       "      <td>1999</td>\n",
       "      <td>6</td>\n",
       "      <td>auto(l5)</td>\n",
       "      <td>f</td>\n",
       "      <td>16</td>\n",
       "      <td>26</td>\n",
       "      <td>p</td>\n",
       "      <td>compact</td>\n",
       "    </tr>\n",
       "    <tr>\n",
       "      <th>...</th>\n",
       "      <td>...</td>\n",
       "      <td>...</td>\n",
       "      <td>...</td>\n",
       "      <td>...</td>\n",
       "      <td>...</td>\n",
       "      <td>...</td>\n",
       "      <td>...</td>\n",
       "      <td>...</td>\n",
       "      <td>...</td>\n",
       "      <td>...</td>\n",
       "      <td>...</td>\n",
       "    </tr>\n",
       "    <tr>\n",
       "      <th>230</th>\n",
       "      <td>volkswagen</td>\n",
       "      <td>passat</td>\n",
       "      <td>2.0</td>\n",
       "      <td>2008</td>\n",
       "      <td>4</td>\n",
       "      <td>auto(s6)</td>\n",
       "      <td>f</td>\n",
       "      <td>19</td>\n",
       "      <td>28</td>\n",
       "      <td>p</td>\n",
       "      <td>midsize</td>\n",
       "    </tr>\n",
       "    <tr>\n",
       "      <th>231</th>\n",
       "      <td>volkswagen</td>\n",
       "      <td>passat</td>\n",
       "      <td>2.0</td>\n",
       "      <td>2008</td>\n",
       "      <td>4</td>\n",
       "      <td>manual(m6)</td>\n",
       "      <td>f</td>\n",
       "      <td>21</td>\n",
       "      <td>29</td>\n",
       "      <td>p</td>\n",
       "      <td>midsize</td>\n",
       "    </tr>\n",
       "    <tr>\n",
       "      <th>232</th>\n",
       "      <td>volkswagen</td>\n",
       "      <td>passat</td>\n",
       "      <td>2.8</td>\n",
       "      <td>1999</td>\n",
       "      <td>6</td>\n",
       "      <td>auto(l5)</td>\n",
       "      <td>f</td>\n",
       "      <td>16</td>\n",
       "      <td>26</td>\n",
       "      <td>p</td>\n",
       "      <td>midsize</td>\n",
       "    </tr>\n",
       "    <tr>\n",
       "      <th>233</th>\n",
       "      <td>volkswagen</td>\n",
       "      <td>passat</td>\n",
       "      <td>2.8</td>\n",
       "      <td>1999</td>\n",
       "      <td>6</td>\n",
       "      <td>manual(m5)</td>\n",
       "      <td>f</td>\n",
       "      <td>18</td>\n",
       "      <td>26</td>\n",
       "      <td>p</td>\n",
       "      <td>midsize</td>\n",
       "    </tr>\n",
       "    <tr>\n",
       "      <th>234</th>\n",
       "      <td>volkswagen</td>\n",
       "      <td>passat</td>\n",
       "      <td>3.6</td>\n",
       "      <td>2008</td>\n",
       "      <td>6</td>\n",
       "      <td>auto(s6)</td>\n",
       "      <td>f</td>\n",
       "      <td>17</td>\n",
       "      <td>26</td>\n",
       "      <td>p</td>\n",
       "      <td>midsize</td>\n",
       "    </tr>\n",
       "  </tbody>\n",
       "</table>\n",
       "<p>234 rows × 11 columns</p>\n",
       "</div>"
      ],
      "text/plain": [
       "    manufacturer   model  displ  year  cyl       trans drv  cty  hwy fl  \\\n",
       "1           audi      a4    1.8  1999    4    auto(l5)   f   18   29  p   \n",
       "2           audi      a4    1.8  1999    4  manual(m5)   f   21   29  p   \n",
       "3           audi      a4    2.0  2008    4  manual(m6)   f   20   31  p   \n",
       "4           audi      a4    2.0  2008    4    auto(av)   f   21   30  p   \n",
       "5           audi      a4    2.8  1999    6    auto(l5)   f   16   26  p   \n",
       "..           ...     ...    ...   ...  ...         ...  ..  ...  ... ..   \n",
       "230   volkswagen  passat    2.0  2008    4    auto(s6)   f   19   28  p   \n",
       "231   volkswagen  passat    2.0  2008    4  manual(m6)   f   21   29  p   \n",
       "232   volkswagen  passat    2.8  1999    6    auto(l5)   f   16   26  p   \n",
       "233   volkswagen  passat    2.8  1999    6  manual(m5)   f   18   26  p   \n",
       "234   volkswagen  passat    3.6  2008    6    auto(s6)   f   17   26  p   \n",
       "\n",
       "       class  \n",
       "1    compact  \n",
       "2    compact  \n",
       "3    compact  \n",
       "4    compact  \n",
       "5    compact  \n",
       "..       ...  \n",
       "230  midsize  \n",
       "231  midsize  \n",
       "232  midsize  \n",
       "233  midsize  \n",
       "234  midsize  \n",
       "\n",
       "[234 rows x 11 columns]"
      ]
     },
     "execution_count": 64,
     "metadata": {},
     "output_type": "execute_result"
    }
   ],
   "source": [
    "#Choose another 2 categorical variables from the mpg dataset and perform a \n",
    "#contingency table test with them. Be sure to state your null and alternative hypotheses.\n",
    "mpg"
   ]
  },
  {
   "cell_type": "code",
   "execution_count": 65,
   "id": "55970776",
   "metadata": {},
   "outputs": [],
   "source": [
    "observed = pd.crosstab(mpg.drv, mpg.year)"
   ]
  },
  {
   "cell_type": "code",
   "execution_count": 66,
   "id": "0f7930eb",
   "metadata": {},
   "outputs": [],
   "source": [
    "# H0: Drive and Year are independent of eachother\n",
    "#Ha: Drive and Year have dependency"
   ]
  },
  {
   "cell_type": "code",
   "execution_count": 67,
   "id": "2eb96643",
   "metadata": {},
   "outputs": [
    {
     "name": "stdout",
     "output_type": "stream",
     "text": [
      "we fail to reject the null hypothesis\n"
     ]
    }
   ],
   "source": [
    "chi2, p, _, expected = stats.chi2_contingency(observed)\n",
    "if p < α:\n",
    "    print('we can reject the null hypothesis')\n",
    "else:\n",
    "    print('we fail to reject the null hypothesis')"
   ]
  },
  {
   "cell_type": "code",
   "execution_count": 68,
   "id": "a22139d2",
   "metadata": {},
   "outputs": [],
   "source": [
    "# our p is too high to say with certainty that there is any type of \n",
    "# relationship going on here"
   ]
  },
  {
   "cell_type": "markdown",
   "id": "23640893",
   "metadata": {},
   "source": [
    "use the data from the employees database to answer these questions:\n",
    "\n",
    "    Is an employee's gender independent of whether an employee works in sales or marketing? (only look at current employees)"
   ]
  },
  {
   "cell_type": "code",
   "execution_count": 69,
   "id": "b21107ed",
   "metadata": {},
   "outputs": [],
   "source": [
    "query = ''' \n",
    "        select emp_no, gender, dept_name\n",
    "        from employees\n",
    "            join dept_emp\n",
    "                using (emp_no)\n",
    "            join departments\n",
    "                using (dept_no)\n",
    "        where to_date = '9999-01-01'\n",
    "        and dept_name in ('Marketing','Sales')\n",
    "        '''\n",
    "gender_dept = pd.read_sql(query, url)"
   ]
  },
  {
   "cell_type": "code",
   "execution_count": 70,
   "id": "48ddc012",
   "metadata": {},
   "outputs": [],
   "source": [
    "observed = pd.crosstab(gender_dept.gender, gender_dept.dept_name)"
   ]
  },
  {
   "cell_type": "code",
   "execution_count": 71,
   "id": "23b943c2",
   "metadata": {},
   "outputs": [
    {
     "data": {
      "text/html": [
       "<div>\n",
       "<style scoped>\n",
       "    .dataframe tbody tr th:only-of-type {\n",
       "        vertical-align: middle;\n",
       "    }\n",
       "\n",
       "    .dataframe tbody tr th {\n",
       "        vertical-align: top;\n",
       "    }\n",
       "\n",
       "    .dataframe thead th {\n",
       "        text-align: right;\n",
       "    }\n",
       "</style>\n",
       "<table border=\"1\" class=\"dataframe\">\n",
       "  <thead>\n",
       "    <tr style=\"text-align: right;\">\n",
       "      <th>dept_name</th>\n",
       "      <th>Marketing</th>\n",
       "      <th>Sales</th>\n",
       "    </tr>\n",
       "    <tr>\n",
       "      <th>gender</th>\n",
       "      <th></th>\n",
       "      <th></th>\n",
       "    </tr>\n",
       "  </thead>\n",
       "  <tbody>\n",
       "    <tr>\n",
       "      <th>F</th>\n",
       "      <td>5864</td>\n",
       "      <td>14999</td>\n",
       "    </tr>\n",
       "    <tr>\n",
       "      <th>M</th>\n",
       "      <td>8978</td>\n",
       "      <td>22702</td>\n",
       "    </tr>\n",
       "  </tbody>\n",
       "</table>\n",
       "</div>"
      ],
      "text/plain": [
       "dept_name  Marketing  Sales\n",
       "gender                     \n",
       "F               5864  14999\n",
       "M               8978  22702"
      ]
     },
     "execution_count": 71,
     "metadata": {},
     "output_type": "execute_result"
    }
   ],
   "source": [
    "observed"
   ]
  },
  {
   "cell_type": "code",
   "execution_count": 72,
   "id": "7f2afb07",
   "metadata": {},
   "outputs": [],
   "source": [
    "# H0: Gender and status in market or sales is independent\n",
    "# Ha: Gender and status in marketing or sales is dependent"
   ]
  },
  {
   "cell_type": "code",
   "execution_count": 73,
   "id": "014ee5a7",
   "metadata": {},
   "outputs": [],
   "source": [
    "chi2, p, _, expected = \\\n",
    "stats.chi2_contingency(observed)"
   ]
  },
  {
   "cell_type": "code",
   "execution_count": 74,
   "id": "82b98d4b",
   "metadata": {},
   "outputs": [],
   "source": [
    "if p < α:\n",
    "    print('reject the null')"
   ]
  },
  {
   "cell_type": "code",
   "execution_count": 75,
   "id": "71269a67",
   "metadata": {},
   "outputs": [
    {
     "data": {
      "text/plain": [
       "0.5691938610810126"
      ]
     },
     "execution_count": 75,
     "metadata": {},
     "output_type": "execute_result"
    }
   ],
   "source": [
    "p"
   ]
  },
  {
   "cell_type": "code",
   "execution_count": 76,
   "id": "bac19754",
   "metadata": {},
   "outputs": [
    {
     "data": {
      "text/plain": [
       "0.3240332004060638"
      ]
     },
     "execution_count": 76,
     "metadata": {},
     "output_type": "execute_result"
    }
   ],
   "source": [
    "chi2"
   ]
  },
  {
   "cell_type": "markdown",
   "id": "5a23c969",
   "metadata": {},
   "source": [
    "Is an employee's gender independent of whether or not they are or have been a manager?"
   ]
  },
  {
   "cell_type": "code",
   "execution_count": 77,
   "id": "de8d42ab",
   "metadata": {},
   "outputs": [],
   "source": [
    "query = '''\n",
    "        select emp_no, gender, dept_no\n",
    "        from employees\n",
    "            left join dept_manager\n",
    "                using (emp_no)\n",
    "        '''\n",
    "gender_managers = pd.read_sql(query, url)"
   ]
  },
  {
   "cell_type": "code",
   "execution_count": 78,
   "id": "e44d5589",
   "metadata": {},
   "outputs": [
    {
     "data": {
      "text/plain": [
       "d004    4\n",
       "d006    4\n",
       "d009    4\n",
       "d001    2\n",
       "d002    2\n",
       "d003    2\n",
       "d005    2\n",
       "d007    2\n",
       "d008    2\n",
       "Name: dept_no, dtype: int64"
      ]
     },
     "execution_count": 78,
     "metadata": {},
     "output_type": "execute_result"
    }
   ],
   "source": [
    "gender_managers.dept_no.value_counts()"
   ]
  },
  {
   "cell_type": "code",
   "execution_count": 79,
   "id": "3c5d5d62",
   "metadata": {},
   "outputs": [
    {
     "data": {
      "text/plain": [
       "0         0\n",
       "1         0\n",
       "2         0\n",
       "3         0\n",
       "4         0\n",
       "         ..\n",
       "300019    0\n",
       "300020    0\n",
       "300021    0\n",
       "300022    0\n",
       "300023    0\n",
       "Name: dept_no, Length: 300024, dtype: int64"
      ]
     },
     "execution_count": 79,
     "metadata": {},
     "output_type": "execute_result"
    }
   ],
   "source": [
    "gender_managers.dept_no.fillna('no').str.startswith('d').astype(int)"
   ]
  },
  {
   "cell_type": "code",
   "execution_count": 80,
   "id": "24825129",
   "metadata": {},
   "outputs": [],
   "source": [
    "gender_managers['manager'] = gender_managers.dept_no.fillna('no').str.startswith('d').astype(int)"
   ]
  },
  {
   "cell_type": "code",
   "execution_count": 81,
   "id": "a7e306a2",
   "metadata": {},
   "outputs": [
    {
     "data": {
      "text/plain": [
       "0    300000\n",
       "1        24\n",
       "Name: manager, dtype: int64"
      ]
     },
     "execution_count": 81,
     "metadata": {},
     "output_type": "execute_result"
    }
   ],
   "source": [
    "gender_managers.manager.value_counts()"
   ]
  },
  {
   "cell_type": "code",
   "execution_count": 82,
   "id": "47294a0d",
   "metadata": {},
   "outputs": [
    {
     "data": {
      "text/plain": [
       "M    179973\n",
       "F    120051\n",
       "Name: gender, dtype: int64"
      ]
     },
     "execution_count": 82,
     "metadata": {},
     "output_type": "execute_result"
    }
   ],
   "source": [
    "gender_managers.gender.value_counts()"
   ]
  },
  {
   "cell_type": "code",
   "execution_count": 83,
   "id": "1894818d",
   "metadata": {},
   "outputs": [],
   "source": [
    "observed = pd.crosstab(gender_managers.gender,\n",
    "                       gender_managers.manager)"
   ]
  },
  {
   "cell_type": "code",
   "execution_count": 84,
   "id": "59f01acc",
   "metadata": {},
   "outputs": [],
   "source": [
    "chi2, p, _, expected = stats.chi2_contingency(observed)"
   ]
  },
  {
   "cell_type": "code",
   "execution_count": 85,
   "id": "86613907",
   "metadata": {},
   "outputs": [
    {
     "data": {
      "text/plain": [
       "False"
      ]
     },
     "execution_count": 85,
     "metadata": {},
     "output_type": "execute_result"
    }
   ],
   "source": [
    "p < α"
   ]
  },
  {
   "cell_type": "code",
   "execution_count": 86,
   "id": "3a9be9d0",
   "metadata": {},
   "outputs": [],
   "source": [
    "# We cannot reject the null hypothesis that there is no\n",
    "# relationship between being a man or a woman and being a manager"
   ]
  },
  {
   "cell_type": "code",
   "execution_count": null,
   "id": "1b40205a",
   "metadata": {},
   "outputs": [],
   "source": []
  },
  {
   "cell_type": "code",
   "execution_count": null,
   "id": "38a5cc6c",
   "metadata": {},
   "outputs": [],
   "source": []
  },
  {
   "cell_type": "code",
   "execution_count": null,
   "id": "721a6434",
   "metadata": {},
   "outputs": [],
   "source": [
    "data('mpg',show_doc=True)"
   ]
  },
  {
   "cell_type": "markdown",
   "id": "62e82128",
   "metadata": {},
   "source": [
    "H$_0$: volkswagens independent of the fuel type regular\n",
    "\n",
    "H$_a$: There is a relationship between volkswagens and fuel type"
   ]
  },
  {
   "cell_type": "code",
   "execution_count": 31,
   "id": "79212b2d",
   "metadata": {},
   "outputs": [],
   "source": [
    "mpg['volkswagens'] = mpg['manufacturer'] == 'volkswagen'"
   ]
  },
  {
   "cell_type": "code",
   "execution_count": 32,
   "id": "1f767de9",
   "metadata": {},
   "outputs": [],
   "source": [
    "mpg['rgas'] = mpg['fl'] == 'r'"
   ]
  },
  {
   "cell_type": "code",
   "execution_count": 37,
   "id": "1891ff9e",
   "metadata": {},
   "outputs": [],
   "source": [
    "observed = pd.crosstab(mpg['volkswagens'],mpg['rgas'])\n",
    "α = 0.05"
   ]
  },
  {
   "cell_type": "code",
   "execution_count": 36,
   "id": "f07dc85b",
   "metadata": {},
   "outputs": [],
   "source": [
    "chi2, p, dfr, expected = stats.chi2_contingency(observed)"
   ]
  },
  {
   "cell_type": "code",
   "execution_count": 38,
   "id": "19e5e744",
   "metadata": {},
   "outputs": [
    {
     "name": "stdout",
     "output_type": "stream",
     "text": [
      "we can reject our null hypothesis\n",
      "we can say that our p value of 0.0074558579231561286 is totally independent\n",
      "our chi-squared stat is 7.159726143421796\n"
     ]
    }
   ],
   "source": [
    "if p < α:\n",
    "    print('we can reject our null hypothesis')\n",
    "    print(f'we can say that our p value of {p} is totally independent')\n",
    "    print(f'our chi-squared stat is {chi2}')\n",
    "else:\n",
    "    print('we failed to reject the null hypothesis')\n",
    "    print('we cannot say that these two (volkswagens and regular gas are not independent)')"
   ]
  },
  {
   "cell_type": "code",
   "execution_count": 3,
   "id": "fc73fcdd",
   "metadata": {},
   "outputs": [],
   "source": [
    "#Use the data from the employees database to answer these questions:\n"
   ]
  },
  {
   "cell_type": "code",
   "execution_count": 4,
   "id": "5e231841",
   "metadata": {},
   "outputs": [],
   "source": [
    "get_db_url('employees')"
   ]
  },
  {
   "cell_type": "code",
   "execution_count": 9,
   "id": "1c7f6819",
   "metadata": {},
   "outputs": [],
   "source": [
    "url = f'mysql+pymysql://{env.user}:{env.password}@{env.host}/employees'"
   ]
  },
  {
   "cell_type": "code",
   "execution_count": 18,
   "id": "35e6478c",
   "metadata": {},
   "outputs": [],
   "source": [
    "employees = pd.read_sql('SELECT e.gender,d.dept_name\\\n",
    "                        FROM employees e\\\n",
    "                        JOIN dept_emp de\\\n",
    "                        USING (emp_no)\\\n",
    "                        RIGHT JOIN departments d\\\n",
    "                        USING (dept_no)\\\n",
    "                        WHERE de.to_date > now()',url)"
   ]
  },
  {
   "cell_type": "code",
   "execution_count": 19,
   "id": "16a2af97",
   "metadata": {},
   "outputs": [
    {
     "name": "stdout",
     "output_type": "stream",
     "text": [
      "<class 'pandas.core.frame.DataFrame'>\n",
      "RangeIndex: 240124 entries, 0 to 240123\n",
      "Data columns (total 2 columns):\n",
      " #   Column     Non-Null Count   Dtype \n",
      "---  ------     --------------   ----- \n",
      " 0   gender     240124 non-null  object\n",
      " 1   dept_name  240124 non-null  object\n",
      "dtypes: object(2)\n",
      "memory usage: 3.7+ MB\n"
     ]
    }
   ],
   "source": [
    "employees.info()"
   ]
  },
  {
   "cell_type": "code",
   "execution_count": 22,
   "id": "3367d69a",
   "metadata": {},
   "outputs": [
    {
     "ename": "ValueError",
     "evalue": "('Lengths must match to compare', (240124,), (2,))",
     "output_type": "error",
     "traceback": [
      "\u001b[0;31m---------------------------------------------------------------------------\u001b[0m",
      "\u001b[0;31mValueError\u001b[0m                                Traceback (most recent call last)",
      "\u001b[0;32m/var/folders/73/8c9znrxs6gv1sc4y9jvw8pvh0000gn/T/ipykernel_86608/1095090630.py\u001b[0m in \u001b[0;36m<module>\u001b[0;34m\u001b[0m\n\u001b[1;32m      1\u001b[0m \u001b[0;31m#Is an employee's gender independent of whether an employee works\u001b[0m\u001b[0;34m\u001b[0m\u001b[0;34m\u001b[0m\u001b[0m\n\u001b[1;32m      2\u001b[0m \u001b[0;31m#in sales or marketing? (only look at current employees)\u001b[0m\u001b[0;34m\u001b[0m\u001b[0;34m\u001b[0m\u001b[0m\n\u001b[0;32m----> 3\u001b[0;31m \u001b[0memployees\u001b[0m\u001b[0;34m[\u001b[0m\u001b[0memployees\u001b[0m\u001b[0;34m.\u001b[0m\u001b[0mdept_name\u001b[0m \u001b[0;34m==\u001b[0m \u001b[0;34m[\u001b[0m\u001b[0;34m'Sales'\u001b[0m\u001b[0;34m,\u001b[0m\u001b[0;34m'Marketing'\u001b[0m\u001b[0;34m]\u001b[0m\u001b[0;34m]\u001b[0m\u001b[0;34m\u001b[0m\u001b[0;34m\u001b[0m\u001b[0m\n\u001b[0m",
      "\u001b[0;32m/usr/local/anaconda3/lib/python3.9/site-packages/pandas/core/ops/common.py\u001b[0m in \u001b[0;36mnew_method\u001b[0;34m(self, other)\u001b[0m\n\u001b[1;32m     68\u001b[0m         \u001b[0mother\u001b[0m \u001b[0;34m=\u001b[0m \u001b[0mitem_from_zerodim\u001b[0m\u001b[0;34m(\u001b[0m\u001b[0mother\u001b[0m\u001b[0;34m)\u001b[0m\u001b[0;34m\u001b[0m\u001b[0;34m\u001b[0m\u001b[0m\n\u001b[1;32m     69\u001b[0m \u001b[0;34m\u001b[0m\u001b[0m\n\u001b[0;32m---> 70\u001b[0;31m         \u001b[0;32mreturn\u001b[0m \u001b[0mmethod\u001b[0m\u001b[0;34m(\u001b[0m\u001b[0mself\u001b[0m\u001b[0;34m,\u001b[0m \u001b[0mother\u001b[0m\u001b[0;34m)\u001b[0m\u001b[0;34m\u001b[0m\u001b[0;34m\u001b[0m\u001b[0m\n\u001b[0m\u001b[1;32m     71\u001b[0m \u001b[0;34m\u001b[0m\u001b[0m\n\u001b[1;32m     72\u001b[0m     \u001b[0;32mreturn\u001b[0m \u001b[0mnew_method\u001b[0m\u001b[0;34m\u001b[0m\u001b[0;34m\u001b[0m\u001b[0m\n",
      "\u001b[0;32m/usr/local/anaconda3/lib/python3.9/site-packages/pandas/core/arraylike.py\u001b[0m in \u001b[0;36m__eq__\u001b[0;34m(self, other)\u001b[0m\n\u001b[1;32m     38\u001b[0m     \u001b[0;34m@\u001b[0m\u001b[0munpack_zerodim_and_defer\u001b[0m\u001b[0;34m(\u001b[0m\u001b[0;34m\"__eq__\"\u001b[0m\u001b[0;34m)\u001b[0m\u001b[0;34m\u001b[0m\u001b[0;34m\u001b[0m\u001b[0m\n\u001b[1;32m     39\u001b[0m     \u001b[0;32mdef\u001b[0m \u001b[0m__eq__\u001b[0m\u001b[0;34m(\u001b[0m\u001b[0mself\u001b[0m\u001b[0;34m,\u001b[0m \u001b[0mother\u001b[0m\u001b[0;34m)\u001b[0m\u001b[0;34m:\u001b[0m\u001b[0;34m\u001b[0m\u001b[0;34m\u001b[0m\u001b[0m\n\u001b[0;32m---> 40\u001b[0;31m         \u001b[0;32mreturn\u001b[0m \u001b[0mself\u001b[0m\u001b[0;34m.\u001b[0m\u001b[0m_cmp_method\u001b[0m\u001b[0;34m(\u001b[0m\u001b[0mother\u001b[0m\u001b[0;34m,\u001b[0m \u001b[0moperator\u001b[0m\u001b[0;34m.\u001b[0m\u001b[0meq\u001b[0m\u001b[0;34m)\u001b[0m\u001b[0;34m\u001b[0m\u001b[0;34m\u001b[0m\u001b[0m\n\u001b[0m\u001b[1;32m     41\u001b[0m \u001b[0;34m\u001b[0m\u001b[0m\n\u001b[1;32m     42\u001b[0m     \u001b[0;34m@\u001b[0m\u001b[0munpack_zerodim_and_defer\u001b[0m\u001b[0;34m(\u001b[0m\u001b[0;34m\"__ne__\"\u001b[0m\u001b[0;34m)\u001b[0m\u001b[0;34m\u001b[0m\u001b[0;34m\u001b[0m\u001b[0m\n",
      "\u001b[0;32m/usr/local/anaconda3/lib/python3.9/site-packages/pandas/core/series.py\u001b[0m in \u001b[0;36m_cmp_method\u001b[0;34m(self, other, op)\u001b[0m\n\u001b[1;32m   5621\u001b[0m \u001b[0;34m\u001b[0m\u001b[0m\n\u001b[1;32m   5622\u001b[0m         \u001b[0;32mwith\u001b[0m \u001b[0mnp\u001b[0m\u001b[0;34m.\u001b[0m\u001b[0merrstate\u001b[0m\u001b[0;34m(\u001b[0m\u001b[0mall\u001b[0m\u001b[0;34m=\u001b[0m\u001b[0;34m\"ignore\"\u001b[0m\u001b[0;34m)\u001b[0m\u001b[0;34m:\u001b[0m\u001b[0;34m\u001b[0m\u001b[0;34m\u001b[0m\u001b[0m\n\u001b[0;32m-> 5623\u001b[0;31m             \u001b[0mres_values\u001b[0m \u001b[0;34m=\u001b[0m \u001b[0mops\u001b[0m\u001b[0;34m.\u001b[0m\u001b[0mcomparison_op\u001b[0m\u001b[0;34m(\u001b[0m\u001b[0mlvalues\u001b[0m\u001b[0;34m,\u001b[0m \u001b[0mrvalues\u001b[0m\u001b[0;34m,\u001b[0m \u001b[0mop\u001b[0m\u001b[0;34m)\u001b[0m\u001b[0;34m\u001b[0m\u001b[0;34m\u001b[0m\u001b[0m\n\u001b[0m\u001b[1;32m   5624\u001b[0m \u001b[0;34m\u001b[0m\u001b[0m\n\u001b[1;32m   5625\u001b[0m         \u001b[0;32mreturn\u001b[0m \u001b[0mself\u001b[0m\u001b[0;34m.\u001b[0m\u001b[0m_construct_result\u001b[0m\u001b[0;34m(\u001b[0m\u001b[0mres_values\u001b[0m\u001b[0;34m,\u001b[0m \u001b[0mname\u001b[0m\u001b[0;34m=\u001b[0m\u001b[0mres_name\u001b[0m\u001b[0;34m)\u001b[0m\u001b[0;34m\u001b[0m\u001b[0;34m\u001b[0m\u001b[0m\n",
      "\u001b[0;32m/usr/local/anaconda3/lib/python3.9/site-packages/pandas/core/ops/array_ops.py\u001b[0m in \u001b[0;36mcomparison_op\u001b[0;34m(left, right, op)\u001b[0m\n\u001b[1;32m    258\u001b[0m         \u001b[0;31m#  The ambiguous case is object-dtype.  See GH#27803\u001b[0m\u001b[0;34m\u001b[0m\u001b[0;34m\u001b[0m\u001b[0m\n\u001b[1;32m    259\u001b[0m         \u001b[0;32mif\u001b[0m \u001b[0mlen\u001b[0m\u001b[0;34m(\u001b[0m\u001b[0mlvalues\u001b[0m\u001b[0;34m)\u001b[0m \u001b[0;34m!=\u001b[0m \u001b[0mlen\u001b[0m\u001b[0;34m(\u001b[0m\u001b[0mrvalues\u001b[0m\u001b[0;34m)\u001b[0m\u001b[0;34m:\u001b[0m\u001b[0;34m\u001b[0m\u001b[0;34m\u001b[0m\u001b[0m\n\u001b[0;32m--> 260\u001b[0;31m             raise ValueError(\n\u001b[0m\u001b[1;32m    261\u001b[0m                 \u001b[0;34m\"Lengths must match to compare\"\u001b[0m\u001b[0;34m,\u001b[0m \u001b[0mlvalues\u001b[0m\u001b[0;34m.\u001b[0m\u001b[0mshape\u001b[0m\u001b[0;34m,\u001b[0m \u001b[0mrvalues\u001b[0m\u001b[0;34m.\u001b[0m\u001b[0mshape\u001b[0m\u001b[0;34m\u001b[0m\u001b[0;34m\u001b[0m\u001b[0m\n\u001b[1;32m    262\u001b[0m             )\n",
      "\u001b[0;31mValueError\u001b[0m: ('Lengths must match to compare', (240124,), (2,))"
     ]
    }
   ],
   "source": [
    "#Is an employee's gender independent of whether an employee works \n",
    "#in sales or marketing? (only look at current employees)\n",
    "employees[employees.dept_name == ['Sales','Marketing']]"
   ]
  },
  {
   "cell_type": "code",
   "execution_count": null,
   "id": "fa938d2f",
   "metadata": {},
   "outputs": [],
   "source": [
    "observed = pd.crosstab(employees.gender,employees.de[])"
   ]
  }
 ],
 "metadata": {
  "kernelspec": {
   "display_name": "Python 3 (ipykernel)",
   "language": "python",
   "name": "python3"
  },
  "language_info": {
   "codemirror_mode": {
    "name": "ipython",
    "version": 3
   },
   "file_extension": ".py",
   "mimetype": "text/x-python",
   "name": "python",
   "nbconvert_exporter": "python",
   "pygments_lexer": "ipython3",
   "version": "3.9.13"
  }
 },
 "nbformat": 4,
 "nbformat_minor": 5
}
