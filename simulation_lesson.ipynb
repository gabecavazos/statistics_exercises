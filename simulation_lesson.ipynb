{
 "cells": [
  {
   "cell_type": "code",
   "execution_count": 1,
   "id": "bd787404",
   "metadata": {},
   "outputs": [],
   "source": [
    "%matplotlib inline\n",
    "import numpy as np\n",
    "import pandas as pd\n",
    "\n",
    "import viz\n",
    "\n",
    "np.random.seed(29)"
   ]
  },
  {
   "cell_type": "code",
   "execution_count": null,
   "id": "58cca389",
   "metadata": {},
   "outputs": [],
   "source": []
  },
  {
   "cell_type": "code",
   "execution_count": 2,
   "id": "ec817bf0",
   "metadata": {},
   "outputs": [
    {
     "data": {
      "text/plain": [
       "array([[6, 4, 5],\n",
       "       [6, 3, 1],\n",
       "       [1, 2, 2],\n",
       "       ...,\n",
       "       [6, 2, 1],\n",
       "       [3, 4, 3],\n",
       "       [4, 2, 4]])"
      ]
     },
     "execution_count": 2,
     "metadata": {},
     "output_type": "execute_result"
    }
   ],
   "source": [
    "### set number of trials\n",
    "\n",
    "n_trials = 10_000\n",
    "n_rows = 10_000\n",
    "\n",
    "##roll three dice\n",
    "\n",
    "n_dice = 3\n",
    "n_col = 3\n",
    "\n",
    "#use np random choice\n",
    "# to select from [1,2,3,4,5,6]\n",
    "\n",
    "rolls = np.random.choice([1,2,3,4,5,6], n_trials * n_dice).reshape(n_rows, n_col)\n",
    "\n",
    "rolls"
   ]
  },
  {
   "cell_type": "code",
   "execution_count": 3,
   "id": "1f4140d8",
   "metadata": {},
   "outputs": [],
   "source": [
    "sum_by_trials = rolls.sum(axis=1)"
   ]
  },
  {
   "cell_type": "code",
   "execution_count": 5,
   "id": "72d26cfe",
   "metadata": {},
   "outputs": [
    {
     "ename": "AttributeError",
     "evalue": "module 'viz' has no attribute 'simulation_example'",
     "output_type": "error",
     "traceback": [
      "\u001b[0;31m---------------------------------------------------------------------------\u001b[0m",
      "\u001b[0;31mAttributeError\u001b[0m                            Traceback (most recent call last)",
      "\u001b[0;32m/var/folders/73/8c9znrxs6gv1sc4y9jvw8pvh0000gn/T/ipykernel_13133/2892601063.py\u001b[0m in \u001b[0;36m<module>\u001b[0;34m\u001b[0m\n\u001b[0;32m----> 1\u001b[0;31m \u001b[0mviz\u001b[0m\u001b[0;34m.\u001b[0m\u001b[0msimulation_example\u001b[0m\u001b[0;34m(\u001b[0m\u001b[0msum_by_trials\u001b[0m\u001b[0;34m)\u001b[0m\u001b[0;34m\u001b[0m\u001b[0;34m\u001b[0m\u001b[0m\n\u001b[0m",
      "\u001b[0;31mAttributeError\u001b[0m: module 'viz' has no attribute 'simulation_example'"
     ]
    }
   ],
   "source": [
    "viz.simulation_example(sum_by_trials)"
   ]
  },
  {
   "cell_type": "code",
   "execution_count": 7,
   "id": "54112069",
   "metadata": {},
   "outputs": [
    {
     "name": "stdout",
     "output_type": "stream",
     "text": [
      "Help on package viz:\n",
      "\n",
      "NAME\n",
      "    viz\n",
      "\n",
      "PACKAGE CONTENTS\n",
      "    cli\n",
      "    format\n",
      "    geom\n",
      "    gloss\n",
      "    stats\n",
      "    terminal\n",
      "    text\n",
      "\n",
      "FILE\n",
      "    /usr/local/anaconda3/lib/python3.9/site-packages/viz/__init__.py\n",
      "\n",
      "\n"
     ]
    }
   ],
   "source": [
    "help(viz)"
   ]
  },
  {
   "cell_type": "code",
   "execution_count": 6,
   "id": "30e59695",
   "metadata": {},
   "outputs": [
    {
     "name": "stdout",
     "output_type": "stream",
     "text": [
      "Help on package viz:\n",
      "\n",
      "NAME\n",
      "    viz\n",
      "\n",
      "PACKAGE CONTENTS\n",
      "    cli\n",
      "    format\n",
      "    geom\n",
      "    gloss\n",
      "    stats\n",
      "    terminal\n",
      "    text\n",
      "\n",
      "FILE\n",
      "    /usr/local/anaconda3/lib/python3.9/site-packages/viz/__init__.py\n",
      "\n",
      "\n"
     ]
    }
   ],
   "source": [
    "help(viz)"
   ]
  },
  {
   "cell_type": "code",
   "execution_count": 7,
   "id": "f661a743",
   "metadata": {},
   "outputs": [
    {
     "data": {
      "text/plain": [
       "<module 'viz' from '/usr/local/anaconda3/lib/python3.9/site-packages/viz/__init__.py'>"
      ]
     },
     "execution_count": 7,
     "metadata": {},
     "output_type": "execute_result"
    }
   ],
   "source": [
    "viz"
   ]
  },
  {
   "cell_type": "code",
   "execution_count": 8,
   "id": "dc87f430",
   "metadata": {},
   "outputs": [],
   "source": [
    "p_nap = 0.3\n",
    "\n",
    "ndays = ncols = 2\n",
    "\n",
    "n_simulated_weekends = nrows = 10**5"
   ]
  },
  {
   "cell_type": "code",
   "execution_count": 9,
   "id": "0635defd",
   "metadata": {},
   "outputs": [],
   "source": [
    "data = np.random.random((nrows, ncols))"
   ]
  },
  {
   "cell_type": "code",
   "execution_count": 10,
   "id": "0eb99b57",
   "metadata": {},
   "outputs": [
    {
     "data": {
      "text/plain": [
       "array([[0.46762045, 0.70078355],\n",
       "       [0.18897809, 0.54312897],\n",
       "       [0.253291  , 0.43836437],\n",
       "       ...,\n",
       "       [0.15008559, 0.37577491],\n",
       "       [0.34690321, 0.58934311],\n",
       "       [0.97135998, 0.57219933]])"
      ]
     },
     "execution_count": 10,
     "metadata": {},
     "output_type": "execute_result"
    }
   ],
   "source": [
    "data"
   ]
  },
  {
   "cell_type": "code",
   "execution_count": 13,
   "id": "65187234",
   "metadata": {},
   "outputs": [
    {
     "data": {
      "text/plain": [
       "array([[False, False],\n",
       "       [ True, False],\n",
       "       [ True, False],\n",
       "       ...,\n",
       "       [ True, False],\n",
       "       [False, False],\n",
       "       [False, False]])"
      ]
     },
     "execution_count": 13,
     "metadata": {},
     "output_type": "execute_result"
    }
   ],
   "source": [
    "naps = data < p_nap\n",
    "naps"
   ]
  },
  {
   "cell_type": "code",
   "execution_count": 14,
   "id": "d43f7e78",
   "metadata": {},
   "outputs": [
    {
     "data": {
      "text/plain": [
       "array([0, 1, 1, ..., 1, 0, 0])"
      ]
     },
     "execution_count": 14,
     "metadata": {},
     "output_type": "execute_result"
    }
   ],
   "source": [
    "naps.sum(axis=1)"
   ]
  },
  {
   "cell_type": "code",
   "execution_count": 16,
   "id": "7bdc93ef",
   "metadata": {},
   "outputs": [
    {
     "data": {
      "text/plain": [
       "0.50998"
      ]
     },
     "execution_count": 16,
     "metadata": {},
     "output_type": "execute_result"
    }
   ],
   "source": [
    "((naps.sum(axis=1) >= 1) == 1).mean()"
   ]
  },
  {
   "cell_type": "code",
   "execution_count": 17,
   "id": "bd0ec762",
   "metadata": {},
   "outputs": [
    {
     "data": {
      "text/plain": [
       "0.49002"
      ]
     },
     "execution_count": 17,
     "metadata": {},
     "output_type": "execute_result"
    }
   ],
   "source": [
    "((naps.sum(axis=1) >= 1) == 0).mean()"
   ]
  },
  {
   "cell_type": "code",
   "execution_count": null,
   "id": "6aca8195",
   "metadata": {},
   "outputs": [],
   "source": []
  },
  {
   "cell_type": "code",
   "execution_count": null,
   "id": "6ae713d6",
   "metadata": {},
   "outputs": [],
   "source": []
  },
  {
   "cell_type": "code",
   "execution_count": 19,
   "id": "83e886cd",
   "metadata": {},
   "outputs": [
    {
     "data": {
      "text/plain": [
       "0.4212"
      ]
     },
     "execution_count": 19,
     "metadata": {},
     "output_type": "execute_result"
    }
   ],
   "source": [
    "n_simulations = nrows = 10**5\n",
    "n_dice_rolled = ncols = 3\n",
    "\n",
    "rolls = np.random.choice([1, 2, 3, 4, 5, 6], nrows * ncols).reshape(nrows, ncols)\n",
    "\n",
    "(pd.DataFrame(rolls)\n",
    " .apply(lambda row: 3 in row.values, axis=1)\n",
    " .mean())\n"
   ]
  },
  {
   "cell_type": "code",
   "execution_count": 24,
   "id": "e0428ddc",
   "metadata": {},
   "outputs": [
    {
     "data": {
      "text/plain": [
       "0    False\n",
       "1    False\n",
       "2    False\n",
       "3    False\n",
       "4    False\n",
       "dtype: bool"
      ]
     },
     "execution_count": 24,
     "metadata": {},
     "output_type": "execute_result"
    }
   ],
   "source": [
    "(pd.DataFrame(rolls)\n",
    " .apply(lambda row: 3 in row, axis=1)\n",
    " .head())"
   ]
  },
  {
   "cell_type": "code",
   "execution_count": 22,
   "id": "9b141c79",
   "metadata": {},
   "outputs": [
    {
     "data": {
      "text/plain": [
       "0     True\n",
       "1    False\n",
       "2     True\n",
       "3    False\n",
       "4    False\n",
       "dtype: bool"
      ]
     },
     "execution_count": 22,
     "metadata": {},
     "output_type": "execute_result"
    }
   ],
   "source": [
    "(pd.DataFrame(rolls)\n",
    " .apply(lambda row: 3 in row.values, axis=1)\n",
    " .head())"
   ]
  },
  {
   "cell_type": "code",
   "execution_count": null,
   "id": "894aeee6",
   "metadata": {},
   "outputs": [],
   "source": []
  }
 ],
 "metadata": {
  "kernelspec": {
   "display_name": "Python 3 (ipykernel)",
   "language": "python",
   "name": "python3"
  },
  "language_info": {
   "codemirror_mode": {
    "name": "ipython",
    "version": 3
   },
   "file_extension": ".py",
   "mimetype": "text/x-python",
   "name": "python",
   "nbconvert_exporter": "python",
   "pygments_lexer": "ipython3",
   "version": "3.9.13"
  }
 },
 "nbformat": 4,
 "nbformat_minor": 5
}
