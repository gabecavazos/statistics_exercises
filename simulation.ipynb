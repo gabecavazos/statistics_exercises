{
 "cells": [
  {
   "cell_type": "code",
   "execution_count": 2,
   "id": "18564c29",
   "metadata": {},
   "outputs": [],
   "source": [
    "%matplotlib inline\n",
    "import numpy as np\n",
    "import pandas as pd\n",
    "\n",
    "\n",
    "np.random.seed(29)\n",
    "\n"
   ]
  },
  {
   "cell_type": "code",
   "execution_count": 4,
   "id": "86887770",
   "metadata": {},
   "outputs": [
    {
     "data": {
      "text/plain": [
       "array([[6, 3],\n",
       "       [4, 5],\n",
       "       [3, 5],\n",
       "       ...,\n",
       "       [2, 2],\n",
       "       [1, 5],\n",
       "       [3, 1]])"
      ]
     },
     "execution_count": 4,
     "metadata": {},
     "output_type": "execute_result"
    }
   ],
   "source": [
    "#How likely is it that you roll doubles when rolling two dice?\n",
    "### set number of trials\n",
    "\n",
    "n_trials = 10_000\n",
    "n_rows = 10_000\n",
    "\n",
    "##roll 2 dice\n",
    "\n",
    "n_dice = 2\n",
    "n_col = 2\n",
    "\n",
    "#use np random choice\n",
    "# to select from [1,2,3,4,5,6]\n",
    "\n",
    "rolls = np.random.choice([1,2,3,4,5,6], n_trials * n_dice).reshape(n_rows, n_col)\n",
    "\n",
    "rolls"
   ]
  },
  {
   "cell_type": "code",
   "execution_count": null,
   "id": "1f097606",
   "metadata": {},
   "outputs": [],
   "source": [
    "#probability of doubles when rolling two dice\n",
    "(n_rows = n_col)"
   ]
  },
  {
   "cell_type": "code",
   "execution_count": 5,
   "id": "d28dbf7e",
   "metadata": {},
   "outputs": [],
   "source": [
    "## set a list of dice outcomes\n",
    "outcomes = [1,2,3,4,5,6]"
   ]
  },
  {
   "cell_type": "code",
   "execution_count": 6,
   "id": "de57ef9b",
   "metadata": {},
   "outputs": [],
   "source": [
    "rolls = np.random.choice(outcomes, size = (10_000, 2))"
   ]
  },
  {
   "cell_type": "code",
   "execution_count": 7,
   "id": "8d020719",
   "metadata": {},
   "outputs": [
    {
     "data": {
      "text/plain": [
       "array([[5, 5],\n",
       "       [1, 5],\n",
       "       [4, 3],\n",
       "       ...,\n",
       "       [1, 4],\n",
       "       [2, 6],\n",
       "       [4, 6]])"
      ]
     },
     "execution_count": 7,
     "metadata": {},
     "output_type": "execute_result"
    }
   ],
   "source": [
    "rolls"
   ]
  },
  {
   "cell_type": "code",
   "execution_count": 8,
   "id": "fb248bfd",
   "metadata": {},
   "outputs": [],
   "source": [
    "rolls_df = pd.DataFrame(rolls)"
   ]
  },
  {
   "cell_type": "code",
   "execution_count": 9,
   "id": "d96041ec",
   "metadata": {},
   "outputs": [
    {
     "data": {
      "text/html": [
       "<div>\n",
       "<style scoped>\n",
       "    .dataframe tbody tr th:only-of-type {\n",
       "        vertical-align: middle;\n",
       "    }\n",
       "\n",
       "    .dataframe tbody tr th {\n",
       "        vertical-align: top;\n",
       "    }\n",
       "\n",
       "    .dataframe thead th {\n",
       "        text-align: right;\n",
       "    }\n",
       "</style>\n",
       "<table border=\"1\" class=\"dataframe\">\n",
       "  <thead>\n",
       "    <tr style=\"text-align: right;\">\n",
       "      <th></th>\n",
       "      <th>0</th>\n",
       "      <th>1</th>\n",
       "    </tr>\n",
       "  </thead>\n",
       "  <tbody>\n",
       "    <tr>\n",
       "      <th>0</th>\n",
       "      <td>5</td>\n",
       "      <td>5</td>\n",
       "    </tr>\n",
       "    <tr>\n",
       "      <th>1</th>\n",
       "      <td>1</td>\n",
       "      <td>5</td>\n",
       "    </tr>\n",
       "    <tr>\n",
       "      <th>2</th>\n",
       "      <td>4</td>\n",
       "      <td>3</td>\n",
       "    </tr>\n",
       "    <tr>\n",
       "      <th>3</th>\n",
       "      <td>4</td>\n",
       "      <td>4</td>\n",
       "    </tr>\n",
       "    <tr>\n",
       "      <th>4</th>\n",
       "      <td>5</td>\n",
       "      <td>1</td>\n",
       "    </tr>\n",
       "    <tr>\n",
       "      <th>...</th>\n",
       "      <td>...</td>\n",
       "      <td>...</td>\n",
       "    </tr>\n",
       "    <tr>\n",
       "      <th>9995</th>\n",
       "      <td>4</td>\n",
       "      <td>1</td>\n",
       "    </tr>\n",
       "    <tr>\n",
       "      <th>9996</th>\n",
       "      <td>2</td>\n",
       "      <td>5</td>\n",
       "    </tr>\n",
       "    <tr>\n",
       "      <th>9997</th>\n",
       "      <td>1</td>\n",
       "      <td>4</td>\n",
       "    </tr>\n",
       "    <tr>\n",
       "      <th>9998</th>\n",
       "      <td>2</td>\n",
       "      <td>6</td>\n",
       "    </tr>\n",
       "    <tr>\n",
       "      <th>9999</th>\n",
       "      <td>4</td>\n",
       "      <td>6</td>\n",
       "    </tr>\n",
       "  </tbody>\n",
       "</table>\n",
       "<p>10000 rows × 2 columns</p>\n",
       "</div>"
      ],
      "text/plain": [
       "      0  1\n",
       "0     5  5\n",
       "1     1  5\n",
       "2     4  3\n",
       "3     4  4\n",
       "4     5  1\n",
       "...  .. ..\n",
       "9995  4  1\n",
       "9996  2  5\n",
       "9997  1  4\n",
       "9998  2  6\n",
       "9999  4  6\n",
       "\n",
       "[10000 rows x 2 columns]"
      ]
     },
     "execution_count": 9,
     "metadata": {},
     "output_type": "execute_result"
    }
   ],
   "source": [
    "rolls_df[0] == rolls_df[1]"
   ]
  },
  {
   "cell_type": "code",
   "execution_count": 10,
   "id": "48f4fcaf",
   "metadata": {},
   "outputs": [
    {
     "data": {
      "text/plain": [
       "0.1638"
      ]
     },
     "execution_count": 10,
     "metadata": {},
     "output_type": "execute_result"
    }
   ],
   "source": [
    "(rolls_df[0] == rolls_df[1]).mean()"
   ]
  },
  {
   "cell_type": "code",
   "execution_count": 12,
   "id": "ca09acbc",
   "metadata": {},
   "outputs": [],
   "source": [
    "## If you flip 8 coins, what is the probability of getting exactly 3 heads? \n",
    "trials = 10000\n",
    "number_coins = 8\n",
    "\n",
    "coins = np.random.choice(['H','T'], trials * number_coins).reshape(trials,number_coins)"
   ]
  },
  {
   "cell_type": "code",
   "execution_count": 13,
   "id": "b5347b41",
   "metadata": {},
   "outputs": [],
   "source": [
    "coins_df = pd.DataFrame(coins)"
   ]
  },
  {
   "cell_type": "code",
   "execution_count": null,
   "id": "012ac4cc",
   "metadata": {},
   "outputs": [],
   "source": []
  },
  {
   "cell_type": "code",
   "execution_count": null,
   "id": "c32d9bb9",
   "metadata": {},
   "outputs": [],
   "source": [
    "# What is the probability of getting more than 3 heads?"
   ]
  },
  {
   "cell_type": "code",
   "execution_count": 14,
   "id": "195130c4",
   "metadata": {},
   "outputs": [],
   "source": [
    "# set probability\n",
    "\n",
    "p_webdev = 0.75\n",
    "p_ds = 0.25"
   ]
  },
  {
   "cell_type": "code",
   "execution_count": 15,
   "id": "1992f3e4",
   "metadata": {},
   "outputs": [],
   "source": [
    "#set the number of bilboards\n",
    "n_cols = 2\n",
    "n_trials = 10000"
   ]
  },
  {
   "cell_type": "code",
   "execution_count": null,
   "id": "ff76f30f",
   "metadata": {},
   "outputs": [],
   "source": [
    "cohorts = np.random.choice(['wd', 'wd','wd','ds'])"
   ]
  },
  {
   "cell_type": "code",
   "execution_count": 16,
   "id": "9101fc3f",
   "metadata": {},
   "outputs": [],
   "source": [
    "billboard_options = ['DS','WD']"
   ]
  },
  {
   "cell_type": "code",
   "execution_count": 17,
   "id": "72bf5c29",
   "metadata": {},
   "outputs": [],
   "source": [
    "billboards = np.random.choice(billboard_options, size= (n_trials,n_cols), p =[0.75,0.25])"
   ]
  },
  {
   "cell_type": "code",
   "execution_count": 18,
   "id": "b636358d",
   "metadata": {},
   "outputs": [
    {
     "data": {
      "text/plain": [
       "array([['DS', 'DS'],\n",
       "       ['DS', 'DS'],\n",
       "       ['DS', 'DS'],\n",
       "       ...,\n",
       "       ['DS', 'DS'],\n",
       "       ['DS', 'WD'],\n",
       "       ['DS', 'DS']], dtype='<U2')"
      ]
     },
     "execution_count": 18,
     "metadata": {},
     "output_type": "execute_result"
    }
   ],
   "source": [
    "billboards"
   ]
  },
  {
   "cell_type": "code",
   "execution_count": 19,
   "id": "404f9b72",
   "metadata": {},
   "outputs": [
    {
     "data": {
      "text/plain": [
       "array([[ True,  True],\n",
       "       [ True,  True],\n",
       "       [ True,  True],\n",
       "       ...,\n",
       "       [ True,  True],\n",
       "       [ True, False],\n",
       "       [ True,  True]])"
      ]
     },
     "execution_count": 19,
     "metadata": {},
     "output_type": "execute_result"
    }
   ],
   "source": [
    "billboards == 'DS'"
   ]
  },
  {
   "cell_type": "code",
   "execution_count": 21,
   "id": "8553b3ba",
   "metadata": {},
   "outputs": [],
   "source": [
    "#sum to find the instances of 'DS'\n",
    "successes = ((billboards == 'DS').sum(axis=1) == 2)"
   ]
  },
  {
   "cell_type": "code",
   "execution_count": 22,
   "id": "edef73ec",
   "metadata": {},
   "outputs": [
    {
     "data": {
      "text/plain": [
       "0.5617"
      ]
     },
     "execution_count": 22,
     "metadata": {},
     "output_type": "execute_result"
    }
   ],
   "source": [
    "successes.mean()"
   ]
  },
  {
   "cell_type": "markdown",
   "id": "7c7cd714",
   "metadata": {},
   "source": [
    "#\n",
    "### Codeup students buy, on average, 3 poptart packages with a standard deviation of 1.5 a day from the snack vending machine. If on monday the machine is restocked with 17 poptart packages, how likely is it that I will be able to buy some poptarts on Friday afternoon? (Remember, if you have mean and standard deviation, use the np.random.normal) You'll need to make a judgement call on how to handle some of your values"
   ]
  },
  {
   "cell_type": "code",
   "execution_count": null,
   "id": "a69591b5",
   "metadata": {},
   "outputs": [],
   "source": [
    "### normal distribution of poptart purchases"
   ]
  },
  {
   "cell_type": "code",
   "execution_count": 26,
   "id": "39b52808",
   "metadata": {},
   "outputs": [],
   "source": [
    "mean = 3\n",
    "sd = 1.5\n",
    "n_days = 5\n",
    "n_trials = 10000"
   ]
  },
  {
   "cell_type": "code",
   "execution_count": 27,
   "id": "b6a6fb9f",
   "metadata": {},
   "outputs": [],
   "source": [
    "poptart_sales = np.random.normal(mean,sd,size= (n_trials,n_days))"
   ]
  },
  {
   "cell_type": "code",
   "execution_count": 28,
   "id": "73a79432",
   "metadata": {},
   "outputs": [
    {
     "data": {
      "text/plain": [
       "array([[5.14281785, 3.14243984, 1.58130182, 3.86650639, 3.51802513],\n",
       "       [1.34093837, 0.68456971, 5.33573723, 2.79008837, 6.55939687],\n",
       "       [0.83754989, 2.03904919, 2.85965094, 3.96363   , 2.83551944],\n",
       "       ...,\n",
       "       [0.90220289, 5.0027549 , 2.93549825, 1.05657189, 2.59670168],\n",
       "       [1.43150348, 1.67828036, 3.20728276, 3.66062338, 3.40183932],\n",
       "       [4.28559329, 2.34446247, 4.45290265, 4.68908304, 2.76286268]])"
      ]
     },
     "execution_count": 28,
     "metadata": {},
     "output_type": "execute_result"
    }
   ],
   "source": [
    "poptart_sales"
   ]
  },
  {
   "cell_type": "code",
   "execution_count": 31,
   "id": "6bc2be8a",
   "metadata": {},
   "outputs": [],
   "source": [
    "poptart_sales[poptart_sales < 0] = 0"
   ]
  },
  {
   "cell_type": "code",
   "execution_count": 32,
   "id": "61606369",
   "metadata": {},
   "outputs": [],
   "source": [
    "poptart_weekly_sales = poptart_sales.sum(axis=1)"
   ]
  },
  {
   "cell_type": "code",
   "execution_count": null,
   "id": "9b30bd75",
   "metadata": {},
   "outputs": [],
   "source": []
  },
  {
   "cell_type": "code",
   "execution_count": 33,
   "id": "b7fa6638",
   "metadata": {},
   "outputs": [
    {
     "data": {
      "text/plain": [
       "array([17.25109103, 16.71073054, 12.53539946, ..., 12.4937296 ,\n",
       "       13.37952931, 18.53490413])"
      ]
     },
     "execution_count": 33,
     "metadata": {},
     "output_type": "execute_result"
    }
   ],
   "source": [
    "poptart_weekly_sales"
   ]
  },
  {
   "cell_type": "code",
   "execution_count": 34,
   "id": "cd427e53",
   "metadata": {},
   "outputs": [
    {
     "data": {
      "text/plain": [
       "0.276"
      ]
     },
     "execution_count": 34,
     "metadata": {},
     "output_type": "execute_result"
    }
   ],
   "source": [
    "(poptart_weekly_sales >= 17).mean()"
   ]
  },
  {
   "cell_type": "code",
   "execution_count": 35,
   "id": "d265814d",
   "metadata": {},
   "outputs": [],
   "source": [
    "### comparison of heights\n",
    "men = 178\n",
    "mstd = 8\n",
    "women = 170\n",
    "wstd = 6"
   ]
  },
  {
   "cell_type": "code",
   "execution_count": 37,
   "id": "a3607cc3",
   "metadata": {},
   "outputs": [
    {
     "data": {
      "text/plain": [
       "161.72445472488266"
      ]
     },
     "execution_count": 37,
     "metadata": {},
     "output_type": "execute_result"
    }
   ],
   "source": [
    "#1 random height for 1 women\n",
    "np.random.normal(170,6)"
   ]
  },
  {
   "cell_type": "code",
   "execution_count": 38,
   "id": "b73fd5bc",
   "metadata": {},
   "outputs": [
    {
     "data": {
      "text/plain": [
       "186.50086507795433"
      ]
     },
     "execution_count": 38,
     "metadata": {},
     "output_type": "execute_result"
    }
   ],
   "source": [
    "### random height for man\n",
    "np.random.normal(178,8)"
   ]
  },
  {
   "cell_type": "code",
   "execution_count": 39,
   "id": "c423aa5c",
   "metadata": {},
   "outputs": [],
   "source": [
    "women_heights = np.random.normal(170,6,10000)"
   ]
  },
  {
   "cell_type": "code",
   "execution_count": 40,
   "id": "170fbd53",
   "metadata": {},
   "outputs": [],
   "source": [
    "men_heights = np.random.normal(178,8,10000)"
   ]
  },
  {
   "cell_type": "code",
   "execution_count": 41,
   "id": "05df57f6",
   "metadata": {},
   "outputs": [
    {
     "data": {
      "text/plain": [
       "0.2089"
      ]
     },
     "execution_count": 41,
     "metadata": {},
     "output_type": "execute_result"
    }
   ],
   "source": [
    "(women_heights > men_heights).mean()"
   ]
  },
  {
   "cell_type": "code",
   "execution_count": 48,
   "id": "c359e773",
   "metadata": {},
   "outputs": [],
   "source": [
    "outcomes = ['S','F']\n",
    "\n",
    "n_students = 100"
   ]
  },
  {
   "cell_type": "code",
   "execution_count": 51,
   "id": "6b4a50a1",
   "metadata": {},
   "outputs": [],
   "source": [
    "downloads = np.random.choice(outcomes, size = (10000,150), p = [249/250,1/250])"
   ]
  },
  {
   "cell_type": "code",
   "execution_count": 52,
   "id": "720818e9",
   "metadata": {},
   "outputs": [
    {
     "data": {
      "text/plain": [
       "0.0"
      ]
     },
     "execution_count": 52,
     "metadata": {},
     "output_type": "execute_result"
    }
   ],
   "source": [
    "((downloads == 'S').sum(axis =1) == 50).mean() "
   ]
  },
  {
   "cell_type": "code",
   "execution_count": 53,
   "id": "163394ba",
   "metadata": {},
   "outputs": [
    {
     "data": {
      "text/plain": [
       "0.0"
      ]
     },
     "execution_count": 53,
     "metadata": {},
     "output_type": "execute_result"
    }
   ],
   "source": [
    "((downloads == 'S').sum(axis =1) == 100).mean() "
   ]
  },
  {
   "cell_type": "code",
   "execution_count": 54,
   "id": "0f50a481",
   "metadata": {},
   "outputs": [],
   "source": [
    "bools = downloads == 'S'"
   ]
  },
  {
   "cell_type": "code",
   "execution_count": 56,
   "id": "55fd3ac5",
   "metadata": {},
   "outputs": [],
   "source": [
    "number_sux_installs = bools.sum(axis = 1)"
   ]
  },
  {
   "cell_type": "code",
   "execution_count": null,
   "id": "bd53db97",
   "metadata": {},
   "outputs": [],
   "source": []
  },
  {
   "cell_type": "code",
   "execution_count": 60,
   "id": "da290990",
   "metadata": {},
   "outputs": [
    {
     "data": {
      "text/plain": [
       "0.451"
      ]
     },
     "execution_count": 60,
     "metadata": {},
     "output_type": "execute_result"
    }
   ],
   "source": [
    "((bools.sum(axis = 1))<150).mean()"
   ]
  },
  {
   "cell_type": "code",
   "execution_count": 59,
   "id": "52c2ac10",
   "metadata": {},
   "outputs": [
    {
     "data": {
      "text/plain": [
       "0.451"
      ]
     },
     "execution_count": 59,
     "metadata": {},
     "output_type": "execute_result"
    }
   ],
   "source": [
    "(number_sux_installs != 150).mean()"
   ]
  },
  {
   "cell_type": "code",
   "execution_count": 63,
   "id": "075aff1a",
   "metadata": {},
   "outputs": [
    {
     "data": {
      "text/plain": [
       "0.8391"
      ]
     },
     "execution_count": 63,
     "metadata": {},
     "output_type": "execute_result"
    }
   ],
   "source": [
    "outcomes = ['S','F']\n",
    "\n",
    "n_students = 100\n",
    "\n",
    "downloads = np.random.choice(outcomes, size = (10000,450), p = [249/250,1/250])\n",
    "\n",
    "\n",
    "((downloads == 'S').sum(axis =1) == 100).mean() \n",
    "\n",
    "bools = downloads == 'S'\n",
    "\n",
    "number_sux_installs = bools.sum(axis = 1)\n",
    "\n",
    "\n",
    "\n",
    "((bools.sum(axis = 1))<450).mean()\n"
   ]
  },
  {
   "cell_type": "code",
   "execution_count": 62,
   "id": "6c308352",
   "metadata": {},
   "outputs": [
    {
     "data": {
      "text/plain": [
       "0.8336"
      ]
     },
     "execution_count": 62,
     "metadata": {},
     "output_type": "execute_result"
    }
   ],
   "source": [
    "(number_sux_installs != 450).mean()"
   ]
  },
  {
   "cell_type": "code",
   "execution_count": 64,
   "id": "a28d6b72",
   "metadata": {},
   "outputs": [],
   "source": [
    "## assign some outcomes\n",
    "\n",
    "#0 = no truck\n",
    "#1 = truck\n",
    "\n",
    "trucks = np.random.choice([0,1],size = (10000,3), p =[0.3, 0.7])"
   ]
  },
  {
   "cell_type": "code",
   "execution_count": 65,
   "id": "97ae2110",
   "metadata": {},
   "outputs": [
    {
     "data": {
      "text/plain": [
       "array([[1, 1, 0],\n",
       "       [1, 0, 1],\n",
       "       [0, 1, 1],\n",
       "       ...,\n",
       "       [0, 0, 1],\n",
       "       [1, 1, 1],\n",
       "       [0, 1, 1]])"
      ]
     },
     "execution_count": 65,
     "metadata": {},
     "output_type": "execute_result"
    }
   ],
   "source": [
    "trucks"
   ]
  },
  {
   "cell_type": "code",
   "execution_count": 66,
   "id": "1cf1daad",
   "metadata": {},
   "outputs": [
    {
     "data": {
      "text/plain": [
       "0.0313"
      ]
     },
     "execution_count": 66,
     "metadata": {},
     "output_type": "execute_result"
    }
   ],
   "source": [
    "#probability that no truck shows up\n",
    "(trucks.sum(axis=1) == 0).mean()"
   ]
  },
  {
   "cell_type": "code",
   "execution_count": 67,
   "id": "c564dd6b",
   "metadata": {},
   "outputs": [
    {
     "data": {
      "text/plain": [
       "0.9687"
      ]
     },
     "execution_count": 67,
     "metadata": {},
     "output_type": "execute_result"
    }
   ],
   "source": [
    "#p that the truck shows up at least 1\n",
    "(trucks.sum(axis=1) >= 1).mean()"
   ]
  },
  {
   "cell_type": "code",
   "execution_count": 91,
   "id": "3da62204",
   "metadata": {},
   "outputs": [],
   "source": [
    "### p that the truck shows up at least once in a week\n",
    "week_trucks = np.random.choice([0,1], size = (10000,7), p=[0.3,0.7])"
   ]
  },
  {
   "cell_type": "code",
   "execution_count": 92,
   "id": "5bdd383a",
   "metadata": {},
   "outputs": [
    {
     "data": {
      "text/plain": [
       "0.9998"
      ]
     },
     "execution_count": 92,
     "metadata": {},
     "output_type": "execute_result"
    }
   ],
   "source": [
    "(week_trucks.sum(axis=1) > 0).mean()"
   ]
  },
  {
   "cell_type": "code",
   "execution_count": 95,
   "id": "d79ac0e5",
   "metadata": {},
   "outputs": [],
   "source": [
    "### \n",
    "birthdates = range(0,366)\n",
    "\n",
    "n_students = 23"
   ]
  },
  {
   "cell_type": "code",
   "execution_count": 98,
   "id": "d61fb412",
   "metadata": {},
   "outputs": [],
   "source": [
    "birthday = np.random.choice(birthdates, size = (10000,23))"
   ]
  },
  {
   "cell_type": "code",
   "execution_count": 99,
   "id": "a9ef28ab",
   "metadata": {},
   "outputs": [
    {
     "data": {
      "text/plain": [
       "array([[352, 146, 148, ...,  49,  83, 301],\n",
       "       [256,  76, 175, ..., 111, 314, 235],\n",
       "       [330, 259, 261, ...,  16, 296, 319],\n",
       "       ...,\n",
       "       [259,  59,   3, ...,  39,  40,  57],\n",
       "       [317, 139,  17, ..., 292, 348,  92],\n",
       "       [244, 289, 101, ..., 312, 168,  79]])"
      ]
     },
     "execution_count": 99,
     "metadata": {},
     "output_type": "execute_result"
    }
   ],
   "source": [
    "birthday"
   ]
  },
  {
   "cell_type": "code",
   "execution_count": 100,
   "id": "b716b607",
   "metadata": {},
   "outputs": [],
   "source": [
    "birthday_df = pd.DataFrame(birthday)"
   ]
  },
  {
   "cell_type": "code",
   "execution_count": 104,
   "id": "83e7c346",
   "metadata": {},
   "outputs": [
    {
     "data": {
      "text/plain": [
       "0        True\n",
       "1       False\n",
       "2       False\n",
       "3        True\n",
       "4       False\n",
       "        ...  \n",
       "9995    False\n",
       "9996     True\n",
       "9997     True\n",
       "9998     True\n",
       "9999    False\n",
       "Length: 10000, dtype: bool"
      ]
     },
     "execution_count": 104,
     "metadata": {},
     "output_type": "execute_result"
    }
   ],
   "source": [
    "#check that the unique value count corresponds to at least 2 sharing a birhtday\n",
    "(birthday_df.nunique(axis = 1) != 23)"
   ]
  },
  {
   "cell_type": "code",
   "execution_count": 105,
   "id": "32fea5f1",
   "metadata": {},
   "outputs": [
    {
     "data": {
      "text/plain": [
       "0.501"
      ]
     },
     "execution_count": 105,
     "metadata": {},
     "output_type": "execute_result"
    }
   ],
   "source": [
    "(birthday_df.nunique(axis = 1) != 23).mean()"
   ]
  },
  {
   "cell_type": "code",
   "execution_count": 107,
   "id": "d23b2560",
   "metadata": {},
   "outputs": [
    {
     "data": {
      "text/plain": [
       "0.8894"
      ]
     },
     "execution_count": 107,
     "metadata": {},
     "output_type": "execute_result"
    }
   ],
   "source": [
    "#looking for 40 students now\n",
    "birthday = np.random.choice(birthdates, size = (10000,40))\n",
    "birthday_df = pd.DataFrame(birthday)\n",
    "(birthday_df.nunique(axis = 1) != 40).mean()"
   ]
  },
  {
   "cell_type": "code",
   "execution_count": null,
   "id": "b0777ba2",
   "metadata": {},
   "outputs": [],
   "source": []
  }
 ],
 "metadata": {
  "kernelspec": {
   "display_name": "Python 3 (ipykernel)",
   "language": "python",
   "name": "python3"
  },
  "language_info": {
   "codemirror_mode": {
    "name": "ipython",
    "version": 3
   },
   "file_extension": ".py",
   "mimetype": "text/x-python",
   "name": "python",
   "nbconvert_exporter": "python",
   "pygments_lexer": "ipython3",
   "version": "3.9.13"
  }
 },
 "nbformat": 4,
 "nbformat_minor": 5
}
