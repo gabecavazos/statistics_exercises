{
 "cells": [
  {
   "cell_type": "code",
   "execution_count": 1,
   "id": "3d4f25f8-f893-4de2-8d8f-38bf0c63318f",
   "metadata": {},
   "outputs": [],
   "source": [
    "import numpy as np\n",
    "import pandas as pd\n",
    "from scipy import stats\n",
    "import matplotlib.pyplot as plt\n",
    "import seaborn as sns\n",
    "import env"
   ]
  },
  {
   "cell_type": "markdown",
   "id": "40f71ba6-90ab-43ed-be7b-df5b6c4c67ec",
   "metadata": {},
   "source": [
    "Answer with the type of stats test you would use (assume normal distribution):"
   ]
  },
  {
   "cell_type": "code",
   "execution_count": null,
   "id": "a222ba22-fb2b-45e2-8fb1-50e930fcc8ab",
   "metadata": {},
   "outputs": [],
   "source": []
  },
  {
   "cell_type": "markdown",
   "id": "ee3662f8-9345-4f87-9d9d-30a193eb0670",
   "metadata": {},
   "source": [
    "Is there a relationship between the length of your arm and the length of your foot?"
   ]
  },
  {
   "cell_type": "markdown",
   "id": "ac173c18-2c9a-4917-a652-36a1bfb7a0ad",
   "metadata": {},
   "source": [
    "length of arm: continuous\n",
    "length of foot: continuous\n",
    "continuous v continuous: pearson's r for correlation"
   ]
  },
  {
   "cell_type": "markdown",
   "id": "af0e21e5-c1ae-45eb-a5ca-14c4f376c5d7",
   "metadata": {},
   "source": [
    "Do guys and gals quit their jobs at the same rate?"
   ]
  },
  {
   "cell_type": "markdown",
   "id": "997a13e6-6cc7-43ec-976c-6e6da5e6fd14",
   "metadata": {},
   "source": [
    "quit/attrition : did the employee leave or not?\n",
    "==> category\n",
    "gender ==> categorical\n",
    "cat vs cat ==> chi^2"
   ]
  },
  {
   "cell_type": "markdown",
   "id": "c2ce1141-1e10-4fd8-926e-0d52aecc20b7",
   "metadata": {},
   "source": [
    "Does the length of time of the lecture correlate with a students grade?"
   ]
  },
  {
   "cell_type": "markdown",
   "id": "adf8361f-29bd-4768-8b88-02939fc7291a",
   "metadata": {},
   "source": [
    "pearson's r"
   ]
  },
  {
   "cell_type": "markdown",
   "id": "17cf284f-6d32-4661-9011-0da3709f4659",
   "metadata": {},
   "source": [
    "Do students get better test grades if they have a rubber duck on their desk?\n",
    "    "
   ]
  },
  {
   "cell_type": "markdown",
   "id": "740d1f19-f177-4a92-ab64-d5cd8587c2c6",
   "metadata": {},
   "source": [
    "t_test"
   ]
  },
  {
   "cell_type": "markdown",
   "id": "f6f3d7a5-ca7d-4719-b1db-76b601a030d8",
   "metadata": {},
   "source": [
    "Does smoking affect when or not someone has lung cancer?"
   ]
  },
  {
   "cell_type": "markdown",
   "id": "104da3d0-8dfd-42e3-9e4d-cc78cd97f9df",
   "metadata": {},
   "source": [
    "chi^2"
   ]
  },
  {
   "cell_type": "markdown",
   "id": "a9e72593-83dd-4a17-b233-36e74732bc77",
   "metadata": {},
   "source": [
    "Is gender independent of a person’s blood type?"
   ]
  },
  {
   "cell_type": "markdown",
   "id": "0327cfc1-c147-4f7b-b7f9-1632d06ada30",
   "metadata": {},
   "source": [
    "chi^2"
   ]
  },
  {
   "cell_type": "markdown",
   "id": "8b441f86-5e08-4a0e-b75e-b1c7fc157580",
   "metadata": {},
   "source": [
    "A farming company wants to know if a new fertilizer has improved crop yield or not"
   ]
  },
  {
   "cell_type": "markdown",
   "id": "633253f1-6fd8-454f-9d34-5307529b8777",
   "metadata": {},
   "source": [
    "t_test!"
   ]
  },
  {
   "cell_type": "markdown",
   "id": "fb51f924-7047-405d-87dc-2379fe47d6a3",
   "metadata": {},
   "source": [
    "Do people with dogs live in apartments more than people with cats?"
   ]
  },
  {
   "cell_type": "markdown",
   "id": "23a572a2-9504-4199-91c4-ffa276db489c",
   "metadata": {},
   "source": [
    "chi^2"
   ]
  },
  {
   "cell_type": "markdown",
   "id": "ca82d628-4ad7-47a8-856a-00b4301d8b82",
   "metadata": {},
   "source": [
    "Use the telco_churn data.\n",
    "Does tenure correlate with monthly charges?"
   ]
  },
  {
   "cell_type": "code",
   "execution_count": 36,
   "id": "5d51de84-66ca-4785-b299-eb30cf2ba0c1",
   "metadata": {},
   "outputs": [],
   "source": [
    "telco = pd.read_csv('/Users/madeleinecapper/Desktop/telco_churn.csv')"
   ]
  },
  {
   "cell_type": "code",
   "execution_count": null,
   "id": "1bbd4a05-65e1-47c4-b39d-7b980dd8dac2",
   "metadata": {},
   "outputs": [],
   "source": []
  },
  {
   "cell_type": "code",
   "execution_count": 38,
   "id": "12f27345-fb4b-428f-9059-9f83d79ce96c",
   "metadata": {},
   "outputs": [
    {
     "data": {
      "text/html": [
       "<div>\n",
       "<style scoped>\n",
       "    .dataframe tbody tr th:only-of-type {\n",
       "        vertical-align: middle;\n",
       "    }\n",
       "\n",
       "    .dataframe tbody tr th {\n",
       "        vertical-align: top;\n",
       "    }\n",
       "\n",
       "    .dataframe thead th {\n",
       "        text-align: right;\n",
       "    }\n",
       "</style>\n",
       "<table border=\"1\" class=\"dataframe\">\n",
       "  <thead>\n",
       "    <tr style=\"text-align: right;\">\n",
       "      <th></th>\n",
       "      <th>customerID</th>\n",
       "      <th>gender</th>\n",
       "      <th>SeniorCitizen</th>\n",
       "      <th>Partner</th>\n",
       "      <th>Dependents</th>\n",
       "      <th>tenure</th>\n",
       "      <th>PhoneService</th>\n",
       "      <th>MultipleLines</th>\n",
       "      <th>InternetService</th>\n",
       "      <th>OnlineSecurity</th>\n",
       "      <th>...</th>\n",
       "      <th>DeviceProtection</th>\n",
       "      <th>TechSupport</th>\n",
       "      <th>StreamingTV</th>\n",
       "      <th>StreamingMovies</th>\n",
       "      <th>Contract</th>\n",
       "      <th>PaperlessBilling</th>\n",
       "      <th>PaymentMethod</th>\n",
       "      <th>MonthlyCharges</th>\n",
       "      <th>TotalCharges</th>\n",
       "      <th>Churn</th>\n",
       "    </tr>\n",
       "  </thead>\n",
       "  <tbody>\n",
       "    <tr>\n",
       "      <th>0</th>\n",
       "      <td>7590-VHVEG</td>\n",
       "      <td>Female</td>\n",
       "      <td>0</td>\n",
       "      <td>Yes</td>\n",
       "      <td>No</td>\n",
       "      <td>1</td>\n",
       "      <td>No</td>\n",
       "      <td>No phone service</td>\n",
       "      <td>DSL</td>\n",
       "      <td>No</td>\n",
       "      <td>...</td>\n",
       "      <td>No</td>\n",
       "      <td>No</td>\n",
       "      <td>No</td>\n",
       "      <td>No</td>\n",
       "      <td>Month-to-month</td>\n",
       "      <td>Yes</td>\n",
       "      <td>Electronic check</td>\n",
       "      <td>29.85</td>\n",
       "      <td>29.85</td>\n",
       "      <td>No</td>\n",
       "    </tr>\n",
       "  </tbody>\n",
       "</table>\n",
       "<p>1 rows × 21 columns</p>\n",
       "</div>"
      ],
      "text/plain": [
       "   customerID  gender  SeniorCitizen Partner Dependents  tenure PhoneService  \\\n",
       "0  7590-VHVEG  Female              0     Yes         No       1           No   \n",
       "\n",
       "      MultipleLines InternetService OnlineSecurity  ... DeviceProtection  \\\n",
       "0  No phone service             DSL             No  ...               No   \n",
       "\n",
       "  TechSupport StreamingTV StreamingMovies        Contract PaperlessBilling  \\\n",
       "0          No          No              No  Month-to-month              Yes   \n",
       "\n",
       "      PaymentMethod MonthlyCharges  TotalCharges Churn  \n",
       "0  Electronic check          29.85         29.85    No  \n",
       "\n",
       "[1 rows x 21 columns]"
      ]
     },
     "execution_count": 38,
     "metadata": {},
     "output_type": "execute_result"
    }
   ],
   "source": [
    "telco.head(1)"
   ]
  },
  {
   "cell_type": "markdown",
   "id": "a5f9f84d-e820-4a3f-b7ef-37a004a22317",
   "metadata": {},
   "source": [
    "H$_0$: There is no linear realationship between tenure and monthly charges\n",
    "\n",
    "H$_a$: There is a linear relationship between tenure and monthly charges"
   ]
  },
  {
   "cell_type": "code",
   "execution_count": 39,
   "id": "5f7817d4-784b-4229-a125-fd594628b860",
   "metadata": {},
   "outputs": [],
   "source": [
    "# Set an alpha for a 95% confidence level\n",
    "α = 0.05"
   ]
  },
  {
   "cell_type": "code",
   "execution_count": 40,
   "id": "354a142a-fef6-452b-939c-a66217e7555e",
   "metadata": {
    "tags": []
   },
   "outputs": [],
   "source": [
    "r, p = stats.pearsonr(telco.tenure, telco.MonthlyCharges)"
   ]
  },
  {
   "cell_type": "code",
   "execution_count": 41,
   "id": "09d851b3-369c-4a88-9a79-215668df9e7d",
   "metadata": {},
   "outputs": [
    {
     "name": "stdout",
     "output_type": "stream",
     "text": [
      "We can reject the null hypothesis!\n"
     ]
    }
   ],
   "source": [
    "if p < α:\n",
    "    print('We can reject the null hypothesis!')"
   ]
  },
  {
   "cell_type": "code",
   "execution_count": 42,
   "id": "3a844d87-bb9b-4306-b180-06382212ff09",
   "metadata": {},
   "outputs": [
    {
     "data": {
      "text/plain": [
       "4.094044991483017e-99"
      ]
     },
     "execution_count": 42,
     "metadata": {},
     "output_type": "execute_result"
    }
   ],
   "source": [
    "p"
   ]
  },
  {
   "cell_type": "code",
   "execution_count": 43,
   "id": "63a879e2-d96d-4693-8011-ecf210e80e6a",
   "metadata": {},
   "outputs": [
    {
     "data": {
      "text/plain": [
       "0.24789985628615246"
      ]
     },
     "execution_count": 43,
     "metadata": {},
     "output_type": "execute_result"
    }
   ],
   "source": [
    "r"
   ]
  },
  {
   "cell_type": "markdown",
   "id": "d5a5eaf3-cd50-41ea-81bb-42a8a44d6c98",
   "metadata": {},
   "source": [
    "Total charges?"
   ]
  },
  {
   "cell_type": "code",
   "execution_count": 45,
   "id": "473ee426-abb9-4de2-851f-93a4ca674759",
   "metadata": {},
   "outputs": [
    {
     "name": "stdout",
     "output_type": "stream",
     "text": [
      "<class 'pandas.core.frame.DataFrame'>\n",
      "RangeIndex: 7043 entries, 0 to 7042\n",
      "Data columns (total 21 columns):\n",
      " #   Column            Non-Null Count  Dtype  \n",
      "---  ------            --------------  -----  \n",
      " 0   customerID        7043 non-null   object \n",
      " 1   gender            7043 non-null   object \n",
      " 2   SeniorCitizen     7043 non-null   int64  \n",
      " 3   Partner           7043 non-null   object \n",
      " 4   Dependents        7043 non-null   object \n",
      " 5   tenure            7043 non-null   int64  \n",
      " 6   PhoneService      7043 non-null   object \n",
      " 7   MultipleLines     7043 non-null   object \n",
      " 8   InternetService   7043 non-null   object \n",
      " 9   OnlineSecurity    7043 non-null   object \n",
      " 10  OnlineBackup      7043 non-null   object \n",
      " 11  DeviceProtection  7043 non-null   object \n",
      " 12  TechSupport       7043 non-null   object \n",
      " 13  StreamingTV       7043 non-null   object \n",
      " 14  StreamingMovies   7043 non-null   object \n",
      " 15  Contract          7043 non-null   object \n",
      " 16  PaperlessBilling  7043 non-null   object \n",
      " 17  PaymentMethod     7043 non-null   object \n",
      " 18  MonthlyCharges    7043 non-null   float64\n",
      " 19  TotalCharges      7043 non-null   object \n",
      " 20  Churn             7043 non-null   object \n",
      "dtypes: float64(1), int64(2), object(18)\n",
      "memory usage: 1.1+ MB\n"
     ]
    }
   ],
   "source": [
    "# looks like total charges isnt a number yet.  Let's fix that!\n",
    "telco.info()"
   ]
  },
  {
   "cell_type": "code",
   "execution_count": 48,
   "id": "17dec863-7e39-44e4-9427-f8c7582b102b",
   "metadata": {},
   "outputs": [
    {
     "data": {
      "text/plain": [
       "20.2       11\n",
       "           11\n",
       "19.75       9\n",
       "20.05       8\n",
       "19.65       8\n",
       "           ..\n",
       "509.3       1\n",
       "717.95      1\n",
       "1429.65     1\n",
       "4113.7      1\n",
       "5127.95     1\n",
       "Name: TotalCharges, Length: 6531, dtype: int64"
      ]
     },
     "execution_count": 48,
     "metadata": {},
     "output_type": "execute_result"
    }
   ],
   "source": [
    "telco.TotalCharges.value_counts()"
   ]
  },
  {
   "cell_type": "code",
   "execution_count": null,
   "id": "687de5e9-4806-42d9-b2c5-27df8afa0976",
   "metadata": {},
   "outputs": [],
   "source": []
  },
  {
   "cell_type": "code",
   "execution_count": 51,
   "id": "f379adb0-9363-4b76-ba49-356f6142f0e2",
   "metadata": {},
   "outputs": [],
   "source": [
    "telco.TotalCharges = (\n",
    "    telco.TotalCharges + \n",
    "    '0').astype(float)"
   ]
  },
  {
   "cell_type": "markdown",
   "id": "4812d62f-0e06-4f65-b8ef-118c7d19c10c",
   "metadata": {},
   "source": [
    "H$_0$: There is no linear realationship between tenure and total charges\n",
    "\n",
    "H$_a$: There is a linear relationship between tenure and total charges"
   ]
  },
  {
   "cell_type": "code",
   "execution_count": 55,
   "id": "75c3f8ec-4a24-42c0-98e5-655a350e12f7",
   "metadata": {},
   "outputs": [
    {
     "name": "stdout",
     "output_type": "stream",
     "text": [
      "We can reject the null hypothesis\n"
     ]
    }
   ],
   "source": [
    "r, p = stats.pearsonr(telco.TotalCharges,\n",
    "                     telco.tenure)\n",
    "if p < α:\n",
    "    print('We can reject the null hypothesis')"
   ]
  },
  {
   "cell_type": "code",
   "execution_count": 56,
   "id": "ecfb13fe-8191-49da-a9de-094c3dd30f7b",
   "metadata": {},
   "outputs": [
    {
     "data": {
      "text/plain": [
       "4.382201025222442e-254"
      ]
     },
     "execution_count": 56,
     "metadata": {},
     "output_type": "execute_result"
    }
   ],
   "source": [
    "p"
   ]
  },
  {
   "cell_type": "code",
   "execution_count": 57,
   "id": "a49bf1a9-405f-4981-a8fd-774e23af4fb7",
   "metadata": {},
   "outputs": [
    {
     "data": {
      "text/plain": [
       "0.38963197449414844"
      ]
     },
     "execution_count": 57,
     "metadata": {},
     "output_type": "execute_result"
    }
   ],
   "source": [
    "r"
   ]
  },
  {
   "cell_type": "markdown",
   "id": "cacbd549-496a-4197-9b53-50365ab38b6e",
   "metadata": {},
   "source": [
    "What happens if you control for phone and internet service?"
   ]
  },
  {
   "cell_type": "code",
   "execution_count": 62,
   "id": "5ee5c06a-cda2-4ee2-9907-ae4f8ffbb606",
   "metadata": {},
   "outputs": [],
   "source": [
    "internets = telco.InternetService.unique()"
   ]
  },
  {
   "cell_type": "code",
   "execution_count": 63,
   "id": "10516583-5a44-4404-b5a6-92c7f3223e9b",
   "metadata": {},
   "outputs": [],
   "source": [
    "phones = telco.PhoneService.unique()"
   ]
  },
  {
   "cell_type": "code",
   "execution_count": 61,
   "id": "2266e6a4-d3dd-44aa-9bac-5416c59531e3",
   "metadata": {},
   "outputs": [],
   "source": [
    "import itertools"
   ]
  },
  {
   "cell_type": "code",
   "execution_count": 67,
   "id": "2a479bbd-6eb5-4aa2-a21a-8333ef148c6b",
   "metadata": {},
   "outputs": [],
   "source": [
    "combos = list(itertools.product(internets,phones))"
   ]
  },
  {
   "cell_type": "code",
   "execution_count": 17,
   "id": "f9bb8f73-2103-451c-aa1a-03acf2c8670d",
   "metadata": {},
   "outputs": [],
   "source": [
    "# lets create a for loop for each of these combinations"
   ]
  },
  {
   "cell_type": "code",
   "execution_count": 66,
   "id": "357a5d46-98d8-4356-a59d-751e5a9c9b22",
   "metadata": {},
   "outputs": [
    {
     "data": {
      "text/html": [
       "<div>\n",
       "<style scoped>\n",
       "    .dataframe tbody tr th:only-of-type {\n",
       "        vertical-align: middle;\n",
       "    }\n",
       "\n",
       "    .dataframe tbody tr th {\n",
       "        vertical-align: top;\n",
       "    }\n",
       "\n",
       "    .dataframe thead th {\n",
       "        text-align: right;\n",
       "    }\n",
       "</style>\n",
       "<table border=\"1\" class=\"dataframe\">\n",
       "  <thead>\n",
       "    <tr style=\"text-align: right;\">\n",
       "      <th></th>\n",
       "      <th>customerID</th>\n",
       "      <th>gender</th>\n",
       "      <th>SeniorCitizen</th>\n",
       "      <th>Partner</th>\n",
       "      <th>Dependents</th>\n",
       "      <th>tenure</th>\n",
       "      <th>PhoneService</th>\n",
       "      <th>MultipleLines</th>\n",
       "      <th>InternetService</th>\n",
       "      <th>OnlineSecurity</th>\n",
       "      <th>...</th>\n",
       "      <th>DeviceProtection</th>\n",
       "      <th>TechSupport</th>\n",
       "      <th>StreamingTV</th>\n",
       "      <th>StreamingMovies</th>\n",
       "      <th>Contract</th>\n",
       "      <th>PaperlessBilling</th>\n",
       "      <th>PaymentMethod</th>\n",
       "      <th>MonthlyCharges</th>\n",
       "      <th>TotalCharges</th>\n",
       "      <th>Churn</th>\n",
       "    </tr>\n",
       "  </thead>\n",
       "  <tbody>\n",
       "    <tr>\n",
       "      <th>0</th>\n",
       "      <td>7590-VHVEG</td>\n",
       "      <td>Female</td>\n",
       "      <td>0</td>\n",
       "      <td>Yes</td>\n",
       "      <td>No</td>\n",
       "      <td>1</td>\n",
       "      <td>No</td>\n",
       "      <td>No phone service</td>\n",
       "      <td>DSL</td>\n",
       "      <td>No</td>\n",
       "      <td>...</td>\n",
       "      <td>No</td>\n",
       "      <td>No</td>\n",
       "      <td>No</td>\n",
       "      <td>No</td>\n",
       "      <td>Month-to-month</td>\n",
       "      <td>Yes</td>\n",
       "      <td>Electronic check</td>\n",
       "      <td>29.85</td>\n",
       "      <td>29.85</td>\n",
       "      <td>No</td>\n",
       "    </tr>\n",
       "    <tr>\n",
       "      <th>3</th>\n",
       "      <td>7795-CFOCW</td>\n",
       "      <td>Male</td>\n",
       "      <td>0</td>\n",
       "      <td>No</td>\n",
       "      <td>No</td>\n",
       "      <td>45</td>\n",
       "      <td>No</td>\n",
       "      <td>No phone service</td>\n",
       "      <td>DSL</td>\n",
       "      <td>Yes</td>\n",
       "      <td>...</td>\n",
       "      <td>Yes</td>\n",
       "      <td>Yes</td>\n",
       "      <td>No</td>\n",
       "      <td>No</td>\n",
       "      <td>One year</td>\n",
       "      <td>No</td>\n",
       "      <td>Bank transfer (automatic)</td>\n",
       "      <td>42.30</td>\n",
       "      <td>1840.75</td>\n",
       "      <td>No</td>\n",
       "    </tr>\n",
       "    <tr>\n",
       "      <th>7</th>\n",
       "      <td>6713-OKOMC</td>\n",
       "      <td>Female</td>\n",
       "      <td>0</td>\n",
       "      <td>No</td>\n",
       "      <td>No</td>\n",
       "      <td>10</td>\n",
       "      <td>No</td>\n",
       "      <td>No phone service</td>\n",
       "      <td>DSL</td>\n",
       "      <td>Yes</td>\n",
       "      <td>...</td>\n",
       "      <td>No</td>\n",
       "      <td>No</td>\n",
       "      <td>No</td>\n",
       "      <td>No</td>\n",
       "      <td>Month-to-month</td>\n",
       "      <td>No</td>\n",
       "      <td>Mailed check</td>\n",
       "      <td>29.75</td>\n",
       "      <td>301.90</td>\n",
       "      <td>No</td>\n",
       "    </tr>\n",
       "    <tr>\n",
       "      <th>20</th>\n",
       "      <td>8779-QRDMV</td>\n",
       "      <td>Male</td>\n",
       "      <td>1</td>\n",
       "      <td>No</td>\n",
       "      <td>No</td>\n",
       "      <td>1</td>\n",
       "      <td>No</td>\n",
       "      <td>No phone service</td>\n",
       "      <td>DSL</td>\n",
       "      <td>No</td>\n",
       "      <td>...</td>\n",
       "      <td>Yes</td>\n",
       "      <td>No</td>\n",
       "      <td>No</td>\n",
       "      <td>Yes</td>\n",
       "      <td>Month-to-month</td>\n",
       "      <td>Yes</td>\n",
       "      <td>Electronic check</td>\n",
       "      <td>39.65</td>\n",
       "      <td>39.65</td>\n",
       "      <td>Yes</td>\n",
       "    </tr>\n",
       "    <tr>\n",
       "      <th>27</th>\n",
       "      <td>8665-UTDHZ</td>\n",
       "      <td>Male</td>\n",
       "      <td>0</td>\n",
       "      <td>Yes</td>\n",
       "      <td>Yes</td>\n",
       "      <td>1</td>\n",
       "      <td>No</td>\n",
       "      <td>No phone service</td>\n",
       "      <td>DSL</td>\n",
       "      <td>No</td>\n",
       "      <td>...</td>\n",
       "      <td>No</td>\n",
       "      <td>No</td>\n",
       "      <td>No</td>\n",
       "      <td>No</td>\n",
       "      <td>Month-to-month</td>\n",
       "      <td>No</td>\n",
       "      <td>Electronic check</td>\n",
       "      <td>30.20</td>\n",
       "      <td>30.20</td>\n",
       "      <td>Yes</td>\n",
       "    </tr>\n",
       "    <tr>\n",
       "      <th>...</th>\n",
       "      <td>...</td>\n",
       "      <td>...</td>\n",
       "      <td>...</td>\n",
       "      <td>...</td>\n",
       "      <td>...</td>\n",
       "      <td>...</td>\n",
       "      <td>...</td>\n",
       "      <td>...</td>\n",
       "      <td>...</td>\n",
       "      <td>...</td>\n",
       "      <td>...</td>\n",
       "      <td>...</td>\n",
       "      <td>...</td>\n",
       "      <td>...</td>\n",
       "      <td>...</td>\n",
       "      <td>...</td>\n",
       "      <td>...</td>\n",
       "      <td>...</td>\n",
       "      <td>...</td>\n",
       "      <td>...</td>\n",
       "      <td>...</td>\n",
       "    </tr>\n",
       "    <tr>\n",
       "      <th>7003</th>\n",
       "      <td>4501-VCPFK</td>\n",
       "      <td>Male</td>\n",
       "      <td>0</td>\n",
       "      <td>No</td>\n",
       "      <td>No</td>\n",
       "      <td>26</td>\n",
       "      <td>No</td>\n",
       "      <td>No phone service</td>\n",
       "      <td>DSL</td>\n",
       "      <td>No</td>\n",
       "      <td>...</td>\n",
       "      <td>Yes</td>\n",
       "      <td>Yes</td>\n",
       "      <td>No</td>\n",
       "      <td>No</td>\n",
       "      <td>Month-to-month</td>\n",
       "      <td>No</td>\n",
       "      <td>Electronic check</td>\n",
       "      <td>35.75</td>\n",
       "      <td>1022.50</td>\n",
       "      <td>No</td>\n",
       "    </tr>\n",
       "    <tr>\n",
       "      <th>7007</th>\n",
       "      <td>2274-XUATA</td>\n",
       "      <td>Male</td>\n",
       "      <td>1</td>\n",
       "      <td>Yes</td>\n",
       "      <td>No</td>\n",
       "      <td>72</td>\n",
       "      <td>No</td>\n",
       "      <td>No phone service</td>\n",
       "      <td>DSL</td>\n",
       "      <td>Yes</td>\n",
       "      <td>...</td>\n",
       "      <td>Yes</td>\n",
       "      <td>Yes</td>\n",
       "      <td>Yes</td>\n",
       "      <td>Yes</td>\n",
       "      <td>Two year</td>\n",
       "      <td>Yes</td>\n",
       "      <td>Bank transfer (automatic)</td>\n",
       "      <td>63.10</td>\n",
       "      <td>4685.55</td>\n",
       "      <td>No</td>\n",
       "    </tr>\n",
       "    <tr>\n",
       "      <th>7029</th>\n",
       "      <td>2235-DWLJU</td>\n",
       "      <td>Female</td>\n",
       "      <td>1</td>\n",
       "      <td>No</td>\n",
       "      <td>No</td>\n",
       "      <td>6</td>\n",
       "      <td>No</td>\n",
       "      <td>No phone service</td>\n",
       "      <td>DSL</td>\n",
       "      <td>No</td>\n",
       "      <td>...</td>\n",
       "      <td>No</td>\n",
       "      <td>No</td>\n",
       "      <td>Yes</td>\n",
       "      <td>Yes</td>\n",
       "      <td>Month-to-month</td>\n",
       "      <td>Yes</td>\n",
       "      <td>Electronic check</td>\n",
       "      <td>44.40</td>\n",
       "      <td>263.05</td>\n",
       "      <td>No</td>\n",
       "    </tr>\n",
       "    <tr>\n",
       "      <th>7036</th>\n",
       "      <td>7750-EYXWZ</td>\n",
       "      <td>Female</td>\n",
       "      <td>0</td>\n",
       "      <td>No</td>\n",
       "      <td>No</td>\n",
       "      <td>12</td>\n",
       "      <td>No</td>\n",
       "      <td>No phone service</td>\n",
       "      <td>DSL</td>\n",
       "      <td>No</td>\n",
       "      <td>...</td>\n",
       "      <td>Yes</td>\n",
       "      <td>Yes</td>\n",
       "      <td>Yes</td>\n",
       "      <td>Yes</td>\n",
       "      <td>One year</td>\n",
       "      <td>No</td>\n",
       "      <td>Electronic check</td>\n",
       "      <td>60.65</td>\n",
       "      <td>743.30</td>\n",
       "      <td>No</td>\n",
       "    </tr>\n",
       "    <tr>\n",
       "      <th>7040</th>\n",
       "      <td>4801-JZAZL</td>\n",
       "      <td>Female</td>\n",
       "      <td>0</td>\n",
       "      <td>Yes</td>\n",
       "      <td>Yes</td>\n",
       "      <td>11</td>\n",
       "      <td>No</td>\n",
       "      <td>No phone service</td>\n",
       "      <td>DSL</td>\n",
       "      <td>Yes</td>\n",
       "      <td>...</td>\n",
       "      <td>No</td>\n",
       "      <td>No</td>\n",
       "      <td>No</td>\n",
       "      <td>No</td>\n",
       "      <td>Month-to-month</td>\n",
       "      <td>Yes</td>\n",
       "      <td>Electronic check</td>\n",
       "      <td>29.60</td>\n",
       "      <td>346.45</td>\n",
       "      <td>No</td>\n",
       "    </tr>\n",
       "  </tbody>\n",
       "</table>\n",
       "<p>682 rows × 21 columns</p>\n",
       "</div>"
      ],
      "text/plain": [
       "      customerID  gender  SeniorCitizen Partner Dependents  tenure  \\\n",
       "0     7590-VHVEG  Female              0     Yes         No       1   \n",
       "3     7795-CFOCW    Male              0      No         No      45   \n",
       "7     6713-OKOMC  Female              0      No         No      10   \n",
       "20    8779-QRDMV    Male              1      No         No       1   \n",
       "27    8665-UTDHZ    Male              0     Yes        Yes       1   \n",
       "...          ...     ...            ...     ...        ...     ...   \n",
       "7003  4501-VCPFK    Male              0      No         No      26   \n",
       "7007  2274-XUATA    Male              1     Yes         No      72   \n",
       "7029  2235-DWLJU  Female              1      No         No       6   \n",
       "7036  7750-EYXWZ  Female              0      No         No      12   \n",
       "7040  4801-JZAZL  Female              0     Yes        Yes      11   \n",
       "\n",
       "     PhoneService     MultipleLines InternetService OnlineSecurity  ...  \\\n",
       "0              No  No phone service             DSL             No  ...   \n",
       "3              No  No phone service             DSL            Yes  ...   \n",
       "7              No  No phone service             DSL            Yes  ...   \n",
       "20             No  No phone service             DSL             No  ...   \n",
       "27             No  No phone service             DSL             No  ...   \n",
       "...           ...               ...             ...            ...  ...   \n",
       "7003           No  No phone service             DSL             No  ...   \n",
       "7007           No  No phone service             DSL            Yes  ...   \n",
       "7029           No  No phone service             DSL             No  ...   \n",
       "7036           No  No phone service             DSL             No  ...   \n",
       "7040           No  No phone service             DSL            Yes  ...   \n",
       "\n",
       "     DeviceProtection TechSupport StreamingTV StreamingMovies        Contract  \\\n",
       "0                  No          No          No              No  Month-to-month   \n",
       "3                 Yes         Yes          No              No        One year   \n",
       "7                  No          No          No              No  Month-to-month   \n",
       "20                Yes          No          No             Yes  Month-to-month   \n",
       "27                 No          No          No              No  Month-to-month   \n",
       "...               ...         ...         ...             ...             ...   \n",
       "7003              Yes         Yes          No              No  Month-to-month   \n",
       "7007              Yes         Yes         Yes             Yes        Two year   \n",
       "7029               No          No         Yes             Yes  Month-to-month   \n",
       "7036              Yes         Yes         Yes             Yes        One year   \n",
       "7040               No          No          No              No  Month-to-month   \n",
       "\n",
       "     PaperlessBilling              PaymentMethod MonthlyCharges  TotalCharges  \\\n",
       "0                 Yes           Electronic check          29.85         29.85   \n",
       "3                  No  Bank transfer (automatic)          42.30       1840.75   \n",
       "7                  No               Mailed check          29.75        301.90   \n",
       "20                Yes           Electronic check          39.65         39.65   \n",
       "27                 No           Electronic check          30.20         30.20   \n",
       "...               ...                        ...            ...           ...   \n",
       "7003               No           Electronic check          35.75       1022.50   \n",
       "7007              Yes  Bank transfer (automatic)          63.10       4685.55   \n",
       "7029              Yes           Electronic check          44.40        263.05   \n",
       "7036               No           Electronic check          60.65        743.30   \n",
       "7040              Yes           Electronic check          29.60        346.45   \n",
       "\n",
       "      Churn  \n",
       "0        No  \n",
       "3        No  \n",
       "7        No  \n",
       "20      Yes  \n",
       "27      Yes  \n",
       "...     ...  \n",
       "7003     No  \n",
       "7007     No  \n",
       "7029     No  \n",
       "7036     No  \n",
       "7040     No  \n",
       "\n",
       "[682 rows x 21 columns]"
      ]
     },
     "execution_count": 66,
     "metadata": {},
     "output_type": "execute_result"
    }
   ],
   "source": [
    "telco[(telco['InternetService'] == 'DSL'\n",
    "      )& (telco['PhoneService'] == 'No')]"
   ]
  },
  {
   "cell_type": "code",
   "execution_count": null,
   "id": "c6cf481e-82d6-4a43-a00f-27e38ad8b53d",
   "metadata": {},
   "outputs": [],
   "source": []
  },
  {
   "cell_type": "code",
   "execution_count": 131,
   "id": "14c2d910-6e95-4199-8719-d9632dac5fc4",
   "metadata": {
    "tags": []
   },
   "outputs": [
    {
     "name": "stdout",
     "output_type": "stream",
     "text": [
      "('DSL', 'No')\n",
      "(682, 21)\n",
      "\n",
      "            we can reject the null hypothesis that\n",
      "            there is no linear relationship between Internet\n",
      "            Service Type DSL and Phone Service Type\n",
      "            No\n",
      "('DSL', 'Yes')\n",
      "(1739, 21)\n",
      "\n",
      "            we can reject the null hypothesis that\n",
      "            there is no linear relationship between Internet\n",
      "            Service Type DSL and Phone Service Type\n",
      "            Yes\n",
      "('Fiber optic', 'No')\n",
      "(0, 21)\n",
      "('Fiber optic', 'Yes')\n",
      "(3096, 21)\n",
      "\n",
      "            we can reject the null hypothesis that\n",
      "            there is no linear relationship between Internet\n",
      "            Service Type Fiber optic and Phone Service Type\n",
      "            Yes\n",
      "('No', 'No')\n",
      "(0, 21)\n",
      "('No', 'Yes')\n",
      "(1526, 21)\n",
      "\n",
      "            we can reject the null hypothesis that\n",
      "            there is no linear relationship between Internet\n",
      "            Service Type No and Phone Service Type\n",
      "            Yes\n"
     ]
    }
   ],
   "source": [
    "for combo in combos:\n",
    "    subset = telco[(telco['InternetService'] == combo[0]\n",
    "      )& (telco['PhoneService'] == combo[1])]\n",
    "    print(combo)\n",
    "    print(subset.shape)\n",
    "    if (combo == ('Fiber optic', 'No')) or (combo == ('No', 'No')):\n",
    "        pass\n",
    "    else:\n",
    "        r, p = stats.pearsonr(subset.tenure, \n",
    "                             subset.TotalCharges)\n",
    "        if p < α:\n",
    "            print(f'''\n",
    "            we can reject the null hypothesis that\n",
    "            there is no linear relationship between Internet\n",
    "            Service Type {combo[0]} and Phone Service Type\n",
    "            {combo[1]}''')"
   ]
  },
  {
   "cell_type": "markdown",
   "id": "3fe557f6-34ba-473e-9381-f70f376ba1c9",
   "metadata": {},
   "source": [
    "Use the employees database.\n",
    "Is there a relationship between how long an employee has been with the company and their salary?"
   ]
  },
  {
   "cell_type": "code",
   "execution_count": 8,
   "id": "79b35cc8-4f81-43a1-9273-c3ac1c60cf67",
   "metadata": {},
   "outputs": [],
   "source": [
    "url = f'mysql+pymysql://{env.user}:{env.password}@{env.host}/employees'"
   ]
  },
  {
   "cell_type": "code",
   "execution_count": 24,
   "id": "2db29e3b-c38d-4813-a496-6fe210ee40bf",
   "metadata": {
    "tags": []
   },
   "outputs": [],
   "source": [
    "query = '''\n",
    "SELECT\n",
    "    DATEDIFF((SELECT MAX(hire_date) \n",
    "    FROM employees), e.hire_date) AS tenure,\n",
    "    s.salary AS salary\n",
    "FROM employees e\n",
    "JOIN salaries s USING (emp_no)\n",
    "WHERE s.to_date > NOW()\n",
    "'''\n",
    "employees_with_salaries = pd.read_sql(query, url)"
   ]
  },
  {
   "cell_type": "code",
   "execution_count": 33,
   "id": "346ba9d7-2fea-4044-9c0c-a1a4fdeb8a49",
   "metadata": {
    "tags": []
   },
   "outputs": [
    {
     "data": {
      "text/html": [
       "<div>\n",
       "<style scoped>\n",
       "    .dataframe tbody tr th:only-of-type {\n",
       "        vertical-align: middle;\n",
       "    }\n",
       "\n",
       "    .dataframe tbody tr th {\n",
       "        vertical-align: top;\n",
       "    }\n",
       "\n",
       "    .dataframe thead th {\n",
       "        text-align: right;\n",
       "    }\n",
       "</style>\n",
       "<table border=\"1\" class=\"dataframe\">\n",
       "  <thead>\n",
       "    <tr style=\"text-align: right;\">\n",
       "      <th></th>\n",
       "      <th>tenure</th>\n",
       "      <th>salary</th>\n",
       "    </tr>\n",
       "  </thead>\n",
       "  <tbody>\n",
       "    <tr>\n",
       "      <th>0</th>\n",
       "      <td>4964</td>\n",
       "      <td>88958</td>\n",
       "    </tr>\n",
       "    <tr>\n",
       "      <th>1</th>\n",
       "      <td>5181</td>\n",
       "      <td>72527</td>\n",
       "    </tr>\n",
       "    <tr>\n",
       "      <th>2</th>\n",
       "      <td>4901</td>\n",
       "      <td>43311</td>\n",
       "    </tr>\n",
       "    <tr>\n",
       "      <th>3</th>\n",
       "      <td>4806</td>\n",
       "      <td>74057</td>\n",
       "    </tr>\n",
       "    <tr>\n",
       "      <th>4</th>\n",
       "      <td>3790</td>\n",
       "      <td>94692</td>\n",
       "    </tr>\n",
       "  </tbody>\n",
       "</table>\n",
       "</div>"
      ],
      "text/plain": [
       "   tenure  salary\n",
       "0    4964   88958\n",
       "1    5181   72527\n",
       "2    4901   43311\n",
       "3    4806   74057\n",
       "4    3790   94692"
      ]
     },
     "execution_count": 33,
     "metadata": {},
     "output_type": "execute_result"
    }
   ],
   "source": [
    "employees_with_salaries.head()"
   ]
  },
  {
   "cell_type": "markdown",
   "id": "f11ec4ed-3b3a-4457-9062-b4b6ac63bd52",
   "metadata": {},
   "source": [
    "H$_0$: There is no linear relationship between tenure and salary\n",
    "\n",
    "H$_a$: There is a linear relattionship between tenure and salary"
   ]
  },
  {
   "cell_type": "code",
   "execution_count": 74,
   "id": "cf9e1cb9-b011-42d3-84d9-5c2c4a08abb6",
   "metadata": {},
   "outputs": [],
   "source": [
    "r, p = stats.pearsonr(\n",
    "    employees_with_salaries['tenure'],\n",
    "employees_with_salaries['salary'])"
   ]
  },
  {
   "cell_type": "code",
   "execution_count": 76,
   "id": "80326db4-4409-4a0e-bcb7-593eb72975d9",
   "metadata": {},
   "outputs": [
    {
     "data": {
      "text/plain": [
       "True"
      ]
     },
     "execution_count": 76,
     "metadata": {},
     "output_type": "execute_result"
    }
   ],
   "source": [
    "p < α"
   ]
  },
  {
   "cell_type": "code",
   "execution_count": 77,
   "id": "6cc93583-a4bb-4a0f-b652-4978535f96e5",
   "metadata": {},
   "outputs": [
    {
     "data": {
      "text/plain": [
       "0.30646256131860894"
      ]
     },
     "execution_count": 77,
     "metadata": {},
     "output_type": "execute_result"
    }
   ],
   "source": [
    "r"
   ]
  },
  {
   "cell_type": "markdown",
   "id": "da874824-0bc6-4f61-9dba-560d0b11db85",
   "metadata": {},
   "source": [
    "Is there a relationship between how long an employee has been with the company and the number of titles they have had?"
   ]
  },
  {
   "cell_type": "code",
   "execution_count": 25,
   "id": "bc759983-0400-4f20-a059-0d7aebc74e69",
   "metadata": {
    "tags": []
   },
   "outputs": [],
   "source": [
    "query = '''\n",
    "SELECT \n",
    "DATEDIFF(\n",
    "(SELECT MAX(hire_date) FROM employees),\n",
    "hire_date\n",
    ") AS tenure, \n",
    "t.title_count\n",
    "FROM employees e\n",
    "JOIN (\n",
    "SELECT \n",
    "emp_no, \n",
    "COUNT(*) \n",
    "title_count\n",
    "FROM titles GROUP BY emp_no) t USING(emp_no)\n",
    "ORDER BY title_count DESC;\n",
    "'''\n",
    "title_tenure = pd.read_sql(query, url)"
   ]
  },
  {
   "cell_type": "code",
   "execution_count": 32,
   "id": "1df89d0c-057d-4c75-ae92-db85ca73cbd7",
   "metadata": {
    "jupyter": {
     "source_hidden": true
    },
    "tags": []
   },
   "outputs": [
    {
     "data": {
      "text/html": [
       "<div>\n",
       "<style scoped>\n",
       "    .dataframe tbody tr th:only-of-type {\n",
       "        vertical-align: middle;\n",
       "    }\n",
       "\n",
       "    .dataframe tbody tr th {\n",
       "        vertical-align: top;\n",
       "    }\n",
       "\n",
       "    .dataframe thead th {\n",
       "        text-align: right;\n",
       "    }\n",
       "</style>\n",
       "<table border=\"1\" class=\"dataframe\">\n",
       "  <thead>\n",
       "    <tr style=\"text-align: right;\">\n",
       "      <th></th>\n",
       "      <th>tenure</th>\n",
       "      <th>title_count</th>\n",
       "    </tr>\n",
       "  </thead>\n",
       "  <tbody>\n",
       "    <tr>\n",
       "      <th>0</th>\n",
       "      <td>3538</td>\n",
       "      <td>3</td>\n",
       "    </tr>\n",
       "    <tr>\n",
       "      <th>1</th>\n",
       "      <td>3966</td>\n",
       "      <td>3</td>\n",
       "    </tr>\n",
       "    <tr>\n",
       "      <th>2</th>\n",
       "      <td>3482</td>\n",
       "      <td>3</td>\n",
       "    </tr>\n",
       "    <tr>\n",
       "      <th>3</th>\n",
       "      <td>4299</td>\n",
       "      <td>3</td>\n",
       "    </tr>\n",
       "    <tr>\n",
       "      <th>4</th>\n",
       "      <td>4149</td>\n",
       "      <td>3</td>\n",
       "    </tr>\n",
       "  </tbody>\n",
       "</table>\n",
       "</div>"
      ],
      "text/plain": [
       "   tenure  title_count\n",
       "0    3538            3\n",
       "1    3966            3\n",
       "2    3482            3\n",
       "3    4299            3\n",
       "4    4149            3"
      ]
     },
     "execution_count": 32,
     "metadata": {},
     "output_type": "execute_result"
    }
   ],
   "source": [
    "title_tenure.head()"
   ]
  },
  {
   "cell_type": "markdown",
   "id": "810c924e-96c9-4113-b76c-2c6de5d0f82f",
   "metadata": {},
   "source": [
    "H$_0$ : There is no linear relationship between tenure and number of titles\n",
    "\n",
    "H$_a$ : There is a linear relationship between tenure and number of titles"
   ]
  },
  {
   "cell_type": "code",
   "execution_count": 79,
   "id": "0ffcdc51-d9d3-44e8-adf3-b9cfead5251a",
   "metadata": {},
   "outputs": [
    {
     "name": "stdout",
     "output_type": "stream",
     "text": [
      "we can reject the null hypothesis\n"
     ]
    }
   ],
   "source": [
    "r, p = stats.pearsonr(title_tenure.tenure, title_tenure.title_count)\n",
    "if p < α:\n",
    "    print('we can reject the null hypothesis')"
   ]
  },
  {
   "cell_type": "code",
   "execution_count": 80,
   "id": "cbdef2ea-cd8f-4f05-917c-43ceaaf3b0ff",
   "metadata": {},
   "outputs": [
    {
     "data": {
      "text/plain": [
       "0.2665989299136884"
      ]
     },
     "execution_count": 80,
     "metadata": {},
     "output_type": "execute_result"
    }
   ],
   "source": [
    "r"
   ]
  },
  {
   "cell_type": "markdown",
   "id": "34097f7e-8c71-4e87-b7a0-88c0a41696bd",
   "metadata": {},
   "source": [
    "Use the sleepstudy data."
   ]
  },
  {
   "cell_type": "markdown",
   "id": "a7fe6e6b-428a-4034-9051-2e8c82119fd5",
   "metadata": {},
   "source": [
    "Is there a relationship between days and reaction time?"
   ]
  },
  {
   "cell_type": "code",
   "execution_count": null,
   "id": "51df19d0-d274-433f-bc49-8c93eb8d3860",
   "metadata": {},
   "outputs": [],
   "source": []
  },
  {
   "cell_type": "code",
   "execution_count": 81,
   "id": "9ffdd281-2083-4caf-b072-fcb01caa3c5b",
   "metadata": {},
   "outputs": [],
   "source": [
    "from pydataset import data"
   ]
  },
  {
   "cell_type": "code",
   "execution_count": 82,
   "id": "2b8f84a9-9a3e-4d2f-bc29-8032178ea78d",
   "metadata": {},
   "outputs": [],
   "source": [
    "sleep = data('sleepstudy')"
   ]
  },
  {
   "cell_type": "code",
   "execution_count": 84,
   "id": "1212e336-289d-4369-ad47-228eb8eca547",
   "metadata": {},
   "outputs": [
    {
     "data": {
      "text/plain": [
       "Index(['Reaction', 'Days', 'Subject'], dtype='object')"
      ]
     },
     "execution_count": 84,
     "metadata": {},
     "output_type": "execute_result"
    }
   ],
   "source": [
    "sleep.columns"
   ]
  },
  {
   "cell_type": "code",
   "execution_count": 85,
   "id": "5700b104-e7d8-4eeb-9fd8-f2bc294e6447",
   "metadata": {},
   "outputs": [],
   "source": [
    "# H0 no linear relationship between reaction time and days\n",
    "# Ha there is a linear relationship between reaction time and days"
   ]
  },
  {
   "cell_type": "code",
   "execution_count": 86,
   "id": "176be76b-95dd-4e53-85bd-b9d09362193c",
   "metadata": {},
   "outputs": [
    {
     "name": "stdout",
     "output_type": "stream",
     "text": [
      "we can reject the null hypothesis\n"
     ]
    }
   ],
   "source": [
    "r, p = stats.pearsonr(sleep.Reaction, sleep.Days)\n",
    "if p < α:\n",
    "    print('we can reject the null hypothesis')"
   ]
  },
  {
   "cell_type": "markdown",
   "id": "aae01e86-0f04-4fce-a1b6-1e18a5f20724",
   "metadata": {},
   "source": [
    "Use the following contingency table to help answer the question of whether using a macbook and being a codeup student are independent of each other."
   ]
  },
  {
   "cell_type": "code",
   "execution_count": 87,
   "id": "547d72e0-e1dc-40f8-ae5f-13b2ce6136a3",
   "metadata": {},
   "outputs": [],
   "source": [
    "observed = pd.DataFrame(\n",
    "    {\n",
    "        'codeup_student': [49,1],\n",
    "        'not_student': [20,30]\n",
    "    }, index=['macbook_user', 'not_macbook']\n",
    ")"
   ]
  },
  {
   "cell_type": "code",
   "execution_count": 88,
   "id": "4f40e2a8-08cf-451c-a62f-c9cd2eebe028",
   "metadata": {},
   "outputs": [
    {
     "data": {
      "text/html": [
       "<div>\n",
       "<style scoped>\n",
       "    .dataframe tbody tr th:only-of-type {\n",
       "        vertical-align: middle;\n",
       "    }\n",
       "\n",
       "    .dataframe tbody tr th {\n",
       "        vertical-align: top;\n",
       "    }\n",
       "\n",
       "    .dataframe thead th {\n",
       "        text-align: right;\n",
       "    }\n",
       "</style>\n",
       "<table border=\"1\" class=\"dataframe\">\n",
       "  <thead>\n",
       "    <tr style=\"text-align: right;\">\n",
       "      <th></th>\n",
       "      <th>codeup_student</th>\n",
       "      <th>not_student</th>\n",
       "    </tr>\n",
       "  </thead>\n",
       "  <tbody>\n",
       "    <tr>\n",
       "      <th>macbook_user</th>\n",
       "      <td>49</td>\n",
       "      <td>20</td>\n",
       "    </tr>\n",
       "    <tr>\n",
       "      <th>not_macbook</th>\n",
       "      <td>1</td>\n",
       "      <td>30</td>\n",
       "    </tr>\n",
       "  </tbody>\n",
       "</table>\n",
       "</div>"
      ],
      "text/plain": [
       "              codeup_student  not_student\n",
       "macbook_user              49           20\n",
       "not_macbook                1           30"
      ]
     },
     "execution_count": 88,
     "metadata": {},
     "output_type": "execute_result"
    }
   ],
   "source": [
    "observed"
   ]
  },
  {
   "cell_type": "code",
   "execution_count": 89,
   "id": "6452b3a0-0eb9-4ff5-b3c7-e95c34d2747b",
   "metadata": {},
   "outputs": [],
   "source": [
    "# H0: There is no dependence between being a codeup\n",
    "# student and being a macbook user\n",
    "# Ha: There is a dependence between being a codeup student\n",
    "# and being a macbook user"
   ]
  },
  {
   "cell_type": "code",
   "execution_count": 90,
   "id": "19436bb7-9969-42c2-9c37-77616f06f74c",
   "metadata": {},
   "outputs": [],
   "source": [
    "chi2, p, _, expected = stats.chi2_contingency(observed)"
   ]
  },
  {
   "cell_type": "code",
   "execution_count": 91,
   "id": "d01f9ccc-9a6e-4f19-a089-808ed357d471",
   "metadata": {},
   "outputs": [
    {
     "data": {
      "text/plain": [
       "36.65264142122487"
      ]
     },
     "execution_count": 91,
     "metadata": {},
     "output_type": "execute_result"
    }
   ],
   "source": [
    "chi2"
   ]
  },
  {
   "cell_type": "code",
   "execution_count": 92,
   "id": "3c1e06c3-6b96-4c49-b044-3fa18fee3fc2",
   "metadata": {},
   "outputs": [
    {
     "data": {
      "text/plain": [
       "True"
      ]
     },
     "execution_count": 92,
     "metadata": {},
     "output_type": "execute_result"
    }
   ],
   "source": [
    "p < α"
   ]
  },
  {
   "cell_type": "code",
   "execution_count": 93,
   "id": "bafaebb5-7b5f-4bfd-8dc9-917e840b8401",
   "metadata": {},
   "outputs": [
    {
     "data": {
      "text/plain": [
       "1.4116760526193828e-09"
      ]
     },
     "execution_count": 93,
     "metadata": {},
     "output_type": "execute_result"
    }
   ],
   "source": [
    "p"
   ]
  },
  {
   "cell_type": "code",
   "execution_count": 94,
   "id": "a6dc4097-117c-4843-b721-5b0a9eaa9a14",
   "metadata": {},
   "outputs": [
    {
     "data": {
      "text/plain": [
       "array([[34.5, 34.5],\n",
       "       [15.5, 15.5]])"
      ]
     },
     "execution_count": 94,
     "metadata": {},
     "output_type": "execute_result"
    }
   ],
   "source": [
    "expected"
   ]
  },
  {
   "cell_type": "markdown",
   "id": "23312b76-18b7-496d-941d-6b1dce0f96b0",
   "metadata": {},
   "source": [
    "Choose another 2 categorical variables from the mpg dataset and perform a chi2 contingency table test with them. Be sure to state your null and alternative hypotheses."
   ]
  },
  {
   "cell_type": "code",
   "execution_count": 95,
   "id": "bffa4691-7a1e-4b10-892d-db1365692730",
   "metadata": {},
   "outputs": [],
   "source": [
    "mpg = data('mpg')"
   ]
  },
  {
   "cell_type": "code",
   "execution_count": 96,
   "id": "a133237f-f7a8-4161-926f-1d66e7484633",
   "metadata": {},
   "outputs": [
    {
     "data": {
      "text/html": [
       "<div>\n",
       "<style scoped>\n",
       "    .dataframe tbody tr th:only-of-type {\n",
       "        vertical-align: middle;\n",
       "    }\n",
       "\n",
       "    .dataframe tbody tr th {\n",
       "        vertical-align: top;\n",
       "    }\n",
       "\n",
       "    .dataframe thead th {\n",
       "        text-align: right;\n",
       "    }\n",
       "</style>\n",
       "<table border=\"1\" class=\"dataframe\">\n",
       "  <thead>\n",
       "    <tr style=\"text-align: right;\">\n",
       "      <th></th>\n",
       "      <th>manufacturer</th>\n",
       "      <th>model</th>\n",
       "      <th>displ</th>\n",
       "      <th>year</th>\n",
       "      <th>cyl</th>\n",
       "      <th>trans</th>\n",
       "      <th>drv</th>\n",
       "      <th>cty</th>\n",
       "      <th>hwy</th>\n",
       "      <th>fl</th>\n",
       "      <th>class</th>\n",
       "    </tr>\n",
       "  </thead>\n",
       "  <tbody>\n",
       "    <tr>\n",
       "      <th>1</th>\n",
       "      <td>audi</td>\n",
       "      <td>a4</td>\n",
       "      <td>1.8</td>\n",
       "      <td>1999</td>\n",
       "      <td>4</td>\n",
       "      <td>auto(l5)</td>\n",
       "      <td>f</td>\n",
       "      <td>18</td>\n",
       "      <td>29</td>\n",
       "      <td>p</td>\n",
       "      <td>compact</td>\n",
       "    </tr>\n",
       "    <tr>\n",
       "      <th>2</th>\n",
       "      <td>audi</td>\n",
       "      <td>a4</td>\n",
       "      <td>1.8</td>\n",
       "      <td>1999</td>\n",
       "      <td>4</td>\n",
       "      <td>manual(m5)</td>\n",
       "      <td>f</td>\n",
       "      <td>21</td>\n",
       "      <td>29</td>\n",
       "      <td>p</td>\n",
       "      <td>compact</td>\n",
       "    </tr>\n",
       "  </tbody>\n",
       "</table>\n",
       "</div>"
      ],
      "text/plain": [
       "  manufacturer model  displ  year  cyl       trans drv  cty  hwy fl    class\n",
       "1         audi    a4    1.8  1999    4    auto(l5)   f   18   29  p  compact\n",
       "2         audi    a4    1.8  1999    4  manual(m5)   f   21   29  p  compact"
      ]
     },
     "execution_count": 96,
     "metadata": {},
     "output_type": "execute_result"
    }
   ],
   "source": [
    "mpg.head(2)"
   ]
  },
  {
   "cell_type": "code",
   "execution_count": 98,
   "id": "67252462-91dc-46d3-8386-b17501bc3a7a",
   "metadata": {},
   "outputs": [],
   "source": [
    "observed = pd.crosstab(mpg.drv, mpg.year)"
   ]
  },
  {
   "cell_type": "code",
   "execution_count": 99,
   "id": "afc7dc66-a15c-486a-bee6-2a674fd433c7",
   "metadata": {},
   "outputs": [],
   "source": [
    "# H0: Drive and Year are independent of eachother\n",
    "#Ha: Drive and Year have dependency"
   ]
  },
  {
   "cell_type": "code",
   "execution_count": 100,
   "id": "d15d762e-abcc-40c5-ae15-f9315b99190e",
   "metadata": {},
   "outputs": [
    {
     "name": "stdout",
     "output_type": "stream",
     "text": [
      "we fail to reject the null hypothesis\n"
     ]
    }
   ],
   "source": [
    "chi2, p, _, expected = stats.chi2_contingency(observed)\n",
    "if p < α:\n",
    "    print('we can reject the null hypothesis')\n",
    "else:\n",
    "    print('we fail to reject the null hypothesis')\n",
    "    "
   ]
  },
  {
   "cell_type": "code",
   "execution_count": 101,
   "id": "22aabd2a-1930-4dc4-8f0b-68fca6f732a2",
   "metadata": {},
   "outputs": [
    {
     "data": {
      "text/plain": [
       "0.547033073060878"
      ]
     },
     "execution_count": 101,
     "metadata": {},
     "output_type": "execute_result"
    }
   ],
   "source": [
    "p"
   ]
  },
  {
   "cell_type": "code",
   "execution_count": 103,
   "id": "31c84c4d-1299-43cb-a254-a7f498505574",
   "metadata": {},
   "outputs": [],
   "source": [
    "# our p is too high to say with certainty that there is any type of \n",
    "# relationship going on here"
   ]
  },
  {
   "cell_type": "code",
   "execution_count": 102,
   "id": "26b76b54-d966-47a5-b9f9-f0b88b4519c5",
   "metadata": {},
   "outputs": [
    {
     "data": {
      "text/plain": [
       "1.206492031507602"
      ]
     },
     "execution_count": 102,
     "metadata": {},
     "output_type": "execute_result"
    }
   ],
   "source": [
    "chi2"
   ]
  },
  {
   "cell_type": "markdown",
   "id": "7e16939a-a1d4-406e-925b-791eed6d4793",
   "metadata": {},
   "source": [
    "Use the data from the employees database to answer these questions:"
   ]
  },
  {
   "cell_type": "markdown",
   "id": "860aec6e-3dd7-4b4e-a09d-c28e108993e9",
   "metadata": {},
   "source": [
    "    Is an employee's gender independent of whether an employee works in sales or marketing? (only look at current employees)"
   ]
  },
  {
   "cell_type": "code",
   "execution_count": 31,
   "id": "251f8d74-6aec-4d62-bb39-ad26e2d9872a",
   "metadata": {
    "tags": []
   },
   "outputs": [],
   "source": [
    "query = ''' \n",
    "        select emp_no, gender, dept_name\n",
    "        from employees\n",
    "            join dept_emp\n",
    "                using (emp_no)\n",
    "            join departments\n",
    "                using (dept_no)\n",
    "        where to_date = '9999-01-01'\n",
    "        and dept_name in ('Marketing','Sales')\n",
    "        '''\n",
    "gender_dept = pd.read_sql(query, url)"
   ]
  },
  {
   "cell_type": "code",
   "execution_count": 107,
   "id": "632555cb-6ddc-4486-bf48-3e0a6e0910d7",
   "metadata": {},
   "outputs": [],
   "source": [
    "observed = pd.crosstab(gender_dept.gender, gender_dept.dept_name)"
   ]
  },
  {
   "cell_type": "code",
   "execution_count": 113,
   "id": "9de810ac-a667-4750-ac52-03a80fd1589b",
   "metadata": {},
   "outputs": [
    {
     "data": {
      "text/html": [
       "<div>\n",
       "<style scoped>\n",
       "    .dataframe tbody tr th:only-of-type {\n",
       "        vertical-align: middle;\n",
       "    }\n",
       "\n",
       "    .dataframe tbody tr th {\n",
       "        vertical-align: top;\n",
       "    }\n",
       "\n",
       "    .dataframe thead th {\n",
       "        text-align: right;\n",
       "    }\n",
       "</style>\n",
       "<table border=\"1\" class=\"dataframe\">\n",
       "  <thead>\n",
       "    <tr style=\"text-align: right;\">\n",
       "      <th>dept_name</th>\n",
       "      <th>Marketing</th>\n",
       "      <th>Sales</th>\n",
       "    </tr>\n",
       "    <tr>\n",
       "      <th>gender</th>\n",
       "      <th></th>\n",
       "      <th></th>\n",
       "    </tr>\n",
       "  </thead>\n",
       "  <tbody>\n",
       "    <tr>\n",
       "      <th>F</th>\n",
       "      <td>5864</td>\n",
       "      <td>14999</td>\n",
       "    </tr>\n",
       "    <tr>\n",
       "      <th>M</th>\n",
       "      <td>8978</td>\n",
       "      <td>22702</td>\n",
       "    </tr>\n",
       "  </tbody>\n",
       "</table>\n",
       "</div>"
      ],
      "text/plain": [
       "dept_name  Marketing  Sales\n",
       "gender                     \n",
       "F               5864  14999\n",
       "M               8978  22702"
      ]
     },
     "execution_count": 113,
     "metadata": {},
     "output_type": "execute_result"
    }
   ],
   "source": [
    "observed"
   ]
  },
  {
   "cell_type": "code",
   "execution_count": 106,
   "id": "cd5cb941-24da-4dc7-b983-6271af872626",
   "metadata": {},
   "outputs": [],
   "source": [
    "# H0: Gender and status in market or sales is independent\n",
    "# Ha: Gender and status in marketing or sales is dependent"
   ]
  },
  {
   "cell_type": "code",
   "execution_count": 108,
   "id": "402c8e60-2f88-4ed0-ac84-f70e375561a2",
   "metadata": {},
   "outputs": [],
   "source": [
    "chi2, p, _, expected = \\\n",
    "stats.chi2_contingency(observed)"
   ]
  },
  {
   "cell_type": "code",
   "execution_count": 110,
   "id": "86a8507f-cb79-4003-954a-0853ccdb358e",
   "metadata": {},
   "outputs": [],
   "source": [
    "if p < α:\n",
    "    print('reject the null')"
   ]
  },
  {
   "cell_type": "code",
   "execution_count": 111,
   "id": "a7dec9cc-dceb-4be1-b60c-f20c9633f218",
   "metadata": {},
   "outputs": [
    {
     "data": {
      "text/plain": [
       "0.5691938610810126"
      ]
     },
     "execution_count": 111,
     "metadata": {},
     "output_type": "execute_result"
    }
   ],
   "source": [
    "p"
   ]
  },
  {
   "cell_type": "code",
   "execution_count": 112,
   "id": "00b1ee09-852a-490e-a3b4-f3add2065156",
   "metadata": {},
   "outputs": [
    {
     "data": {
      "text/plain": [
       "0.3240332004060638"
      ]
     },
     "execution_count": 112,
     "metadata": {},
     "output_type": "execute_result"
    }
   ],
   "source": [
    "chi2"
   ]
  },
  {
   "cell_type": "markdown",
   "id": "9dda3d37-d4a1-42f6-a6ea-c2380726430d",
   "metadata": {},
   "source": [
    "Is an employee's gender independent of whether or not they are or have been a manager?"
   ]
  },
  {
   "cell_type": "code",
   "execution_count": 30,
   "id": "64e23fa4-f9d3-41d8-907c-c0c2e624bb7a",
   "metadata": {
    "tags": []
   },
   "outputs": [],
   "source": [
    "query = '''\n",
    "        select emp_no, gender, dept_no\n",
    "        from employees\n",
    "            left join dept_manager\n",
    "                using (emp_no)\n",
    "        '''\n",
    "gender_managers = pd.read_sql(query, url)"
   ]
  },
  {
   "cell_type": "code",
   "execution_count": 115,
   "id": "2fbdb587-4168-4f6e-b65b-8bc38717040e",
   "metadata": {},
   "outputs": [
    {
     "data": {
      "text/plain": [
       "d009    4\n",
       "d004    4\n",
       "d006    4\n",
       "d003    2\n",
       "d001    2\n",
       "d005    2\n",
       "d007    2\n",
       "d008    2\n",
       "d002    2\n",
       "Name: dept_no, dtype: int64"
      ]
     },
     "execution_count": 115,
     "metadata": {},
     "output_type": "execute_result"
    }
   ],
   "source": [
    "gender_managers.dept_no.value_counts()"
   ]
  },
  {
   "cell_type": "code",
   "execution_count": 120,
   "id": "af44c6d1-ea87-4f14-ac68-12e93269d651",
   "metadata": {},
   "outputs": [
    {
     "data": {
      "text/plain": [
       "0         0\n",
       "1         0\n",
       "2         0\n",
       "3         0\n",
       "4         0\n",
       "         ..\n",
       "300019    0\n",
       "300020    0\n",
       "300021    0\n",
       "300022    0\n",
       "300023    0\n",
       "Name: dept_no, Length: 300024, dtype: int64"
      ]
     },
     "execution_count": 120,
     "metadata": {},
     "output_type": "execute_result"
    }
   ],
   "source": [
    "gender_managers.dept_no.fillna('no').str.startswith('d').astype(int)"
   ]
  },
  {
   "cell_type": "code",
   "execution_count": 117,
   "id": "15e166a0-4200-49ec-ac11-05bbbcf80f7d",
   "metadata": {},
   "outputs": [
    {
     "data": {
      "text/plain": [
       "0         0\n",
       "1         0\n",
       "2         0\n",
       "3         0\n",
       "4         0\n",
       "         ..\n",
       "300019    0\n",
       "300020    0\n",
       "300021    0\n",
       "300022    0\n",
       "300023    0\n",
       "Name: dept_no, Length: 300024, dtype: object"
      ]
     },
     "execution_count": 117,
     "metadata": {},
     "output_type": "execute_result"
    }
   ],
   "source": []
  },
  {
   "cell_type": "code",
   "execution_count": 121,
   "id": "f6775e7b-b805-48cb-8c51-5500760f3b75",
   "metadata": {},
   "outputs": [],
   "source": [
    "gender_managers['manager'] = gender_managers.dept_no.fillna('no').str.startswith('d').astype(int)"
   ]
  },
  {
   "cell_type": "code",
   "execution_count": 122,
   "id": "4692697f-9301-43a4-a96d-705d78e19b0d",
   "metadata": {},
   "outputs": [
    {
     "data": {
      "text/plain": [
       "0    300000\n",
       "1        24\n",
       "Name: manager, dtype: int64"
      ]
     },
     "execution_count": 122,
     "metadata": {},
     "output_type": "execute_result"
    }
   ],
   "source": [
    "gender_managers.manager.value_counts()"
   ]
  },
  {
   "cell_type": "code",
   "execution_count": 123,
   "id": "9333bcbd-e692-4036-bc2a-77a0e48f2394",
   "metadata": {},
   "outputs": [
    {
     "data": {
      "text/plain": [
       "M    179973\n",
       "F    120051\n",
       "Name: gender, dtype: int64"
      ]
     },
     "execution_count": 123,
     "metadata": {},
     "output_type": "execute_result"
    }
   ],
   "source": [
    "gender_managers.gender.value_counts()"
   ]
  },
  {
   "cell_type": "code",
   "execution_count": 125,
   "id": "21788c31-8b1d-4ffb-8799-ea55e5ed9d51",
   "metadata": {},
   "outputs": [],
   "source": [
    "observed = pd.crosstab(gender_managers.gender,\n",
    "                       gender_managers.manager)"
   ]
  },
  {
   "cell_type": "code",
   "execution_count": 126,
   "id": "60277b8b-8e4b-458f-a40a-347bf4bb2f3c",
   "metadata": {},
   "outputs": [],
   "source": [
    "chi2, p, _, expected = stats.chi2_contingency(observed)"
   ]
  },
  {
   "cell_type": "code",
   "execution_count": 127,
   "id": "ea55cb05-b886-4c5d-8923-10f253f0eab4",
   "metadata": {},
   "outputs": [
    {
     "data": {
      "text/plain": [
       "0.22745818732810363"
      ]
     },
     "execution_count": 127,
     "metadata": {},
     "output_type": "execute_result"
    }
   ],
   "source": [
    "p"
   ]
  },
  {
   "cell_type": "code",
   "execution_count": 128,
   "id": "6593f2b3-d37e-47b8-84c9-71d88b693638",
   "metadata": {},
   "outputs": [
    {
     "data": {
      "text/plain": [
       "False"
      ]
     },
     "execution_count": 128,
     "metadata": {},
     "output_type": "execute_result"
    }
   ],
   "source": [
    "p < α"
   ]
  },
  {
   "cell_type": "code",
   "execution_count": 129,
   "id": "df780ce7-c548-4a45-bffa-c0bc509347fe",
   "metadata": {},
   "outputs": [],
   "source": [
    "# We cannot reject the null hypothesis that there is no\n",
    "# relationship between being a man or a woman and being a manager"
   ]
  },
  {
   "cell_type": "code",
   "execution_count": null,
   "id": "b0c12b63-f1f8-4420-b91e-f2e08917702d",
   "metadata": {},
   "outputs": [],
   "source": []
  }
 ],
 "metadata": {
  "kernelspec": {
   "display_name": "Python 3 (ipykernel)",
   "language": "python",
   "name": "python3"
  },
  "language_info": {
   "codemirror_mode": {
    "name": "ipython",
    "version": 3
   },
   "file_extension": ".py",
   "mimetype": "text/x-python",
   "name": "python",
   "nbconvert_exporter": "python",
   "pygments_lexer": "ipython3",
   "version": "3.9.13"
  }
 },
 "nbformat": 4,
 "nbformat_minor": 5
}
