{
 "cells": [
  {
   "cell_type": "markdown",
   "id": "3b7fdd63-e4e2-4a15-892c-5aa71598041a",
   "metadata": {},
   "source": [
    "Answer with the type of test you would use (assume normal distribution):\n",
    "        Is there a difference in grades of students on the second floor compared to grades of all students?\n",
    "        "
   ]
  },
  {
   "cell_type": "code",
   "execution_count": 1,
   "id": "e39e3d49-96b6-4b4f-99d8-eb29e244c2d1",
   "metadata": {},
   "outputs": [],
   "source": [
    "# grades of students on second floor\n",
    "# grades of all students\n",
    "# i have a continuos variable in grades ==> means test\n",
    "# accross two different categories (means test as opposed to corr)\n",
    "# the two groups: second floor students (subset)\n",
    "# versus all students (population)\n",
    "# subset v population: 1-sample\n",
    "# non-directional difference: two tailed\n",
    "# what I want here (presuming appropriate parameters)\n",
    "# is a two-tailed, one sample t-test"
   ]
  },
  {
   "cell_type": "markdown",
   "id": "2805111b-40b4-4f9e-8c1b-53f6bed8d384",
   "metadata": {},
   "source": [
    "Are adults who drink milk taller than adults who dont drink milk?\n",
    "        "
   ]
  },
  {
   "cell_type": "code",
   "execution_count": null,
   "id": "d5edfb84-7d40-452c-926a-bca278cdd6b2",
   "metadata": {},
   "outputs": [],
   "source": [
    "# adults that drink milk\n",
    "# adults that dont drink milk\n",
    "# two sub groups: milk drinkers vs non milk drinkers\n",
    "# two independent groups, no overlap ==> two sample\n",
    "# one-tailed test because we want to know if one is specifcally\n",
    "# taller than the other height_a > height_b\n",
    "# a: one tailed, independent t-test"
   ]
  },
  {
   "cell_type": "markdown",
   "id": "ddbd47d8-7dea-42a1-baba-a68836b9ade4",
   "metadata": {},
   "source": [
    "Is the the price of gas higher in texas or in new mexico?\n",
    "        "
   ]
  },
  {
   "cell_type": "code",
   "execution_count": 2,
   "id": "5d56a5a4-37ec-4d8f-acc6-b527f896f75a",
   "metadata": {},
   "outputs": [],
   "source": [
    "# one-tailed: asking specifically if its *higher* in one state\n",
    "# two-sample: two subgroups of texas and nm"
   ]
  },
  {
   "cell_type": "markdown",
   "id": "355b68e6-e796-4db4-9372-1ee10587e8e8",
   "metadata": {},
   "source": [
    "Are there differences in stress levels between students who take data science vs students who take web development vs students who take cloud academy?"
   ]
  },
  {
   "cell_type": "code",
   "execution_count": 4,
   "id": "5914bd8f-f76f-4712-9293-87c0f9994fd4",
   "metadata": {},
   "outputs": [],
   "source": [
    "# mean that is different across three different groups\n",
    "# non-directional, because its across more than two groups\n",
    "# we would use an anova test"
   ]
  },
  {
   "cell_type": "code",
   "execution_count": 5,
   "id": "b13f46bb-d937-4365-826a-cb26386c93cb",
   "metadata": {},
   "outputs": [],
   "source": [
    "import pandas as pd\n",
    "import numpy as np\n",
    "import matplotlib.pyplot as plt\n",
    "from pydataset import data\n",
    "from scipy import stats"
   ]
  },
  {
   "cell_type": "markdown",
   "id": "d558cba8-c93e-4a5d-8636-7fd4d6c7d817",
   "metadata": {},
   "source": [
    "Ace Realty wants to determine whether the average time it takes to sell homes is different for its two offices. A sample of 40 sales from office #1 revealed a mean of 90 days and a standard deviation of 15 days. A sample of 50 sales from office #2 revealed a mean of 100 days and a standard deviation of 20 days. Use a .05 level of significance."
   ]
  },
  {
   "cell_type": "code",
   "execution_count": 6,
   "id": "328e8a8e-8cf9-49b3-a448-a0b69a1b0172",
   "metadata": {},
   "outputs": [],
   "source": [
    "# by instruction: alpha is set at 0.05\n",
    "# two groups here:\n",
    "# office #1:\n",
    "# mean 90 day sale time, with a stdev 15\n",
    "# office #2:\n",
    "# mean 100 day sale time, stdev of 20 days"
   ]
  },
  {
   "cell_type": "code",
   "execution_count": 15,
   "id": "44772e23-8a66-4074-98e1-0906e9a78bf4",
   "metadata": {},
   "outputs": [],
   "source": [
    "office_1 = stats.norm(90,15).rvs(40)"
   ]
  },
  {
   "cell_type": "code",
   "execution_count": 8,
   "id": "dff5bc15-386f-4e54-8a95-2bd82bbf0bed",
   "metadata": {},
   "outputs": [
    {
     "data": {
      "text/plain": [
       "array([ 95.36831367,  53.43568144,  75.88781825,  60.97223215,\n",
       "       108.25108683,  83.30302501,  75.03502572,  84.68834355,\n",
       "        68.9889433 ,  78.39174171,  79.2164916 ,  97.05805229,\n",
       "       109.55543407,  77.47611543,  75.81287557, 109.99729603,\n",
       "       117.0054397 ,  46.77486189,  98.8199445 ,  93.57761442,\n",
       "       106.05363447,  70.66612706,  73.69660899, 104.67456735,\n",
       "       116.79043144,  97.78569254,  80.70180013,  84.04345936,\n",
       "        74.2993029 , 102.24878884,  71.90218606,  83.21532586,\n",
       "        83.15839453,  63.8929124 ,  96.43336795,  77.20130307,\n",
       "        71.20545637,  88.52061819, 116.53896976, 104.9810575 ])"
      ]
     },
     "execution_count": 8,
     "metadata": {},
     "output_type": "execute_result"
    }
   ],
   "source": [
    "office_1"
   ]
  },
  {
   "cell_type": "code",
   "execution_count": 16,
   "id": "0ce47b50-73ae-476f-96ee-f2bf7baeb0ab",
   "metadata": {},
   "outputs": [],
   "source": [
    "office_2 = stats.norm(100, 20).rvs(50)"
   ]
  },
  {
   "cell_type": "code",
   "execution_count": 10,
   "id": "f18f3fb3-9dda-497b-8c6c-a69ea8fb389e",
   "metadata": {},
   "outputs": [
    {
     "data": {
      "image/png": "[encoded data removed]",
      "text/plain": [
       "<Figure size 432x288 with 1 Axes>"
      ]
     },
     "metadata": {
      "needs_background": "light"
     },
     "output_type": "display_data"
    }
   ],
   "source": [
    "x = np.arange(60, 165)\n",
    "y = stats.norm(90,15).pdf(x)\n",
    "y2 = stats.norm(100, 20).pdf(x)\n",
    "plt.plot(x, y)\n",
    "plt.plot(x, y2)\n",
    "plt.title('Office Differences by Probability of Sale Time')\n",
    "plt.show()"
   ]
  },
  {
   "cell_type": "markdown",
   "id": "cefd5908-df7f-4be5-8765-2f2f2b891707",
   "metadata": {},
   "source": [
    "H$_0$ : There is no difference in the average sale time of properties via office no 1 and office no 2\n",
    "\n",
    "H$_a$ : There is a difference in the average sale time of properties between office no. 1 and office no. 2"
   ]
  },
  {
   "cell_type": "code",
   "execution_count": 11,
   "id": "598a8f43-8242-443e-9930-87cd41fc6184",
   "metadata": {},
   "outputs": [],
   "source": [
    "# two tailed test, just checking for any difference in the means\n",
    "# two sample test ==> two independent groups"
   ]
  },
  {
   "cell_type": "code",
   "execution_count": 13,
   "id": "a1f96f12-0687-4b6d-9cb2-32fc29af9296",
   "metadata": {},
   "outputs": [],
   "source": [
    "office_1_mean = 90\n",
    "office_1_stdv = 15\n",
    "office_2_mean = 100\n",
    "office_2_stdv = 20"
   ]
  },
  {
   "cell_type": "code",
   "execution_count": null,
   "id": "3b6ae4e2-325a-4de9-83d1-b791efdfe27f",
   "metadata": {},
   "outputs": [],
   "source": []
  },
  {
   "cell_type": "code",
   "execution_count": 21,
   "id": "cea0bde9-7c22-4e62-a608-2e6509ca58d8",
   "metadata": {},
   "outputs": [],
   "source": [
    "# bonus: we can check for equal variance, \n",
    "# because we are populating values with rvs via the normal distribution\n",
    "# object from scipy"
   ]
  },
  {
   "cell_type": "code",
   "execution_count": 29,
   "id": "b48a1c1c-d924-43b4-9efc-666ad428e0b4",
   "metadata": {},
   "outputs": [],
   "source": [
    "# levene test:\n",
    "# H0: there is equal variance between the two offices\n",
    "# Ha: there is inequal variance between the two offices\n",
    "stat, p_levene = stats.levene(office_1, office_2)"
   ]
  },
  {
   "cell_type": "code",
   "execution_count": 30,
   "id": "6ccf7dc1-8fd6-44e3-a682-53831808a555",
   "metadata": {},
   "outputs": [
    {
     "data": {
      "text/plain": [
       "False"
      ]
     },
     "execution_count": 30,
     "metadata": {},
     "output_type": "execute_result"
    }
   ],
   "source": [
    "p_levene < α"
   ]
  },
  {
   "cell_type": "code",
   "execution_count": 66,
   "id": "551f577f-6782-4edf-965c-f624f91ad332",
   "metadata": {},
   "outputs": [],
   "source": [
    "# we fail to reject the null hypothesis,\n",
    "# presume equal variance"
   ]
  },
  {
   "cell_type": "code",
   "execution_count": 31,
   "id": "b752ca91-08f8-4469-89ab-fa8a94649896",
   "metadata": {},
   "outputs": [],
   "source": [
    "t_stat, p_val = stats.ttest_ind_from_stats(\n",
    "    mean1 = office_1_mean,\n",
    "    std1 = office_1_stdv,\n",
    "    nobs1 = 40,\n",
    "    mean2 = office_2_mean,\n",
    "    std2 = office_2_stdv,\n",
    "    nobs2 = 50,\n",
    "    equal_var=True)"
   ]
  },
  {
   "cell_type": "code",
   "execution_count": 32,
   "id": "5f1d45dc-4d15-4c4c-a2f6-a7781a006200",
   "metadata": {},
   "outputs": [],
   "source": [
    "α = 0.05"
   ]
  },
  {
   "cell_type": "code",
   "execution_count": 33,
   "id": "c74b10fa-412b-4c3e-951d-15ea983c0b8a",
   "metadata": {},
   "outputs": [
    {
     "name": "stdout",
     "output_type": "stream",
     "text": [
      "We can reject the null hypothesis, and suggest that there is a difference in mean sale time between the offices\n"
     ]
    }
   ],
   "source": [
    "# two tailed test: I do not need to divide p by 2\n",
    "if p_val < α:\n",
    "    print('We can reject the null hypothesis, and suggest that there is a difference in mean sale time between the offices')\n",
    "else:\n",
    "    print('We failed to reject the null hypothesis')"
   ]
  },
  {
   "cell_type": "markdown",
   "id": "8b22e88f-bcac-4245-941c-d155f9fbe728",
   "metadata": {},
   "source": [
    "Load the mpg dataset and use it to answer the following questions:\n",
    "        "
   ]
  },
  {
   "cell_type": "code",
   "execution_count": 34,
   "id": "6876e646-c9c2-4b09-81c0-ed7f6f5908a2",
   "metadata": {},
   "outputs": [],
   "source": [
    "mpg = data('mpg')"
   ]
  },
  {
   "cell_type": "code",
   "execution_count": 37,
   "id": "f837279a-f596-446b-bd73-6917b45e5ad7",
   "metadata": {},
   "outputs": [],
   "source": [
    "mpg['fe'] = stats.hmean((mpg['hwy'], mpg['cty']))"
   ]
  },
  {
   "cell_type": "code",
   "execution_count": 40,
   "id": "77b8d569-f4b2-4934-b427-6d5e6f32bc5f",
   "metadata": {},
   "outputs": [
    {
     "data": {
      "text/html": [
       "<div>\n",
       "<style scoped>\n",
       "    .dataframe tbody tr th:only-of-type {\n",
       "        vertical-align: middle;\n",
       "    }\n",
       "\n",
       "    .dataframe tbody tr th {\n",
       "        vertical-align: top;\n",
       "    }\n",
       "\n",
       "    .dataframe thead th {\n",
       "        text-align: right;\n",
       "    }\n",
       "</style>\n",
       "<table border=\"1\" class=\"dataframe\">\n",
       "  <thead>\n",
       "    <tr style=\"text-align: right;\">\n",
       "      <th></th>\n",
       "      <th>manufacturer</th>\n",
       "      <th>model</th>\n",
       "      <th>displ</th>\n",
       "      <th>year</th>\n",
       "      <th>cyl</th>\n",
       "      <th>trans</th>\n",
       "      <th>drv</th>\n",
       "      <th>cty</th>\n",
       "      <th>hwy</th>\n",
       "      <th>fl</th>\n",
       "      <th>class</th>\n",
       "      <th>fe</th>\n",
       "    </tr>\n",
       "  </thead>\n",
       "  <tbody>\n",
       "    <tr>\n",
       "      <th>1</th>\n",
       "      <td>audi</td>\n",
       "      <td>a4</td>\n",
       "      <td>1.8</td>\n",
       "      <td>1999</td>\n",
       "      <td>4</td>\n",
       "      <td>auto(l5)</td>\n",
       "      <td>f</td>\n",
       "      <td>18</td>\n",
       "      <td>29</td>\n",
       "      <td>p</td>\n",
       "      <td>compact</td>\n",
       "      <td>22.212766</td>\n",
       "    </tr>\n",
       "    <tr>\n",
       "      <th>2</th>\n",
       "      <td>audi</td>\n",
       "      <td>a4</td>\n",
       "      <td>1.8</td>\n",
       "      <td>1999</td>\n",
       "      <td>4</td>\n",
       "      <td>manual(m5)</td>\n",
       "      <td>f</td>\n",
       "      <td>21</td>\n",
       "      <td>29</td>\n",
       "      <td>p</td>\n",
       "      <td>compact</td>\n",
       "      <td>24.360000</td>\n",
       "    </tr>\n",
       "    <tr>\n",
       "      <th>3</th>\n",
       "      <td>audi</td>\n",
       "      <td>a4</td>\n",
       "      <td>2.0</td>\n",
       "      <td>2008</td>\n",
       "      <td>4</td>\n",
       "      <td>manual(m6)</td>\n",
       "      <td>f</td>\n",
       "      <td>20</td>\n",
       "      <td>31</td>\n",
       "      <td>p</td>\n",
       "      <td>compact</td>\n",
       "      <td>24.313725</td>\n",
       "    </tr>\n",
       "    <tr>\n",
       "      <th>4</th>\n",
       "      <td>audi</td>\n",
       "      <td>a4</td>\n",
       "      <td>2.0</td>\n",
       "      <td>2008</td>\n",
       "      <td>4</td>\n",
       "      <td>auto(av)</td>\n",
       "      <td>f</td>\n",
       "      <td>21</td>\n",
       "      <td>30</td>\n",
       "      <td>p</td>\n",
       "      <td>compact</td>\n",
       "      <td>24.705882</td>\n",
       "    </tr>\n",
       "    <tr>\n",
       "      <th>5</th>\n",
       "      <td>audi</td>\n",
       "      <td>a4</td>\n",
       "      <td>2.8</td>\n",
       "      <td>1999</td>\n",
       "      <td>6</td>\n",
       "      <td>auto(l5)</td>\n",
       "      <td>f</td>\n",
       "      <td>16</td>\n",
       "      <td>26</td>\n",
       "      <td>p</td>\n",
       "      <td>compact</td>\n",
       "      <td>19.809524</td>\n",
       "    </tr>\n",
       "    <tr>\n",
       "      <th>...</th>\n",
       "      <td>...</td>\n",
       "      <td>...</td>\n",
       "      <td>...</td>\n",
       "      <td>...</td>\n",
       "      <td>...</td>\n",
       "      <td>...</td>\n",
       "      <td>...</td>\n",
       "      <td>...</td>\n",
       "      <td>...</td>\n",
       "      <td>...</td>\n",
       "      <td>...</td>\n",
       "      <td>...</td>\n",
       "    </tr>\n",
       "    <tr>\n",
       "      <th>230</th>\n",
       "      <td>volkswagen</td>\n",
       "      <td>passat</td>\n",
       "      <td>2.0</td>\n",
       "      <td>2008</td>\n",
       "      <td>4</td>\n",
       "      <td>auto(s6)</td>\n",
       "      <td>f</td>\n",
       "      <td>19</td>\n",
       "      <td>28</td>\n",
       "      <td>p</td>\n",
       "      <td>midsize</td>\n",
       "      <td>22.638298</td>\n",
       "    </tr>\n",
       "    <tr>\n",
       "      <th>231</th>\n",
       "      <td>volkswagen</td>\n",
       "      <td>passat</td>\n",
       "      <td>2.0</td>\n",
       "      <td>2008</td>\n",
       "      <td>4</td>\n",
       "      <td>manual(m6)</td>\n",
       "      <td>f</td>\n",
       "      <td>21</td>\n",
       "      <td>29</td>\n",
       "      <td>p</td>\n",
       "      <td>midsize</td>\n",
       "      <td>24.360000</td>\n",
       "    </tr>\n",
       "    <tr>\n",
       "      <th>232</th>\n",
       "      <td>volkswagen</td>\n",
       "      <td>passat</td>\n",
       "      <td>2.8</td>\n",
       "      <td>1999</td>\n",
       "      <td>6</td>\n",
       "      <td>auto(l5)</td>\n",
       "      <td>f</td>\n",
       "      <td>16</td>\n",
       "      <td>26</td>\n",
       "      <td>p</td>\n",
       "      <td>midsize</td>\n",
       "      <td>19.809524</td>\n",
       "    </tr>\n",
       "    <tr>\n",
       "      <th>233</th>\n",
       "      <td>volkswagen</td>\n",
       "      <td>passat</td>\n",
       "      <td>2.8</td>\n",
       "      <td>1999</td>\n",
       "      <td>6</td>\n",
       "      <td>manual(m5)</td>\n",
       "      <td>f</td>\n",
       "      <td>18</td>\n",
       "      <td>26</td>\n",
       "      <td>p</td>\n",
       "      <td>midsize</td>\n",
       "      <td>21.272727</td>\n",
       "    </tr>\n",
       "    <tr>\n",
       "      <th>234</th>\n",
       "      <td>volkswagen</td>\n",
       "      <td>passat</td>\n",
       "      <td>3.6</td>\n",
       "      <td>2008</td>\n",
       "      <td>6</td>\n",
       "      <td>auto(s6)</td>\n",
       "      <td>f</td>\n",
       "      <td>17</td>\n",
       "      <td>26</td>\n",
       "      <td>p</td>\n",
       "      <td>midsize</td>\n",
       "      <td>20.558140</td>\n",
       "    </tr>\n",
       "  </tbody>\n",
       "</table>\n",
       "<p>234 rows × 12 columns</p>\n",
       "</div>"
      ],
      "text/plain": [
       "    manufacturer   model  displ  year  cyl       trans drv  cty  hwy fl  \\\n",
       "1           audi      a4    1.8  1999    4    auto(l5)   f   18   29  p   \n",
       "2           audi      a4    1.8  1999    4  manual(m5)   f   21   29  p   \n",
       "3           audi      a4    2.0  2008    4  manual(m6)   f   20   31  p   \n",
       "4           audi      a4    2.0  2008    4    auto(av)   f   21   30  p   \n",
       "5           audi      a4    2.8  1999    6    auto(l5)   f   16   26  p   \n",
       "..           ...     ...    ...   ...  ...         ...  ..  ...  ... ..   \n",
       "230   volkswagen  passat    2.0  2008    4    auto(s6)   f   19   28  p   \n",
       "231   volkswagen  passat    2.0  2008    4  manual(m6)   f   21   29  p   \n",
       "232   volkswagen  passat    2.8  1999    6    auto(l5)   f   16   26  p   \n",
       "233   volkswagen  passat    2.8  1999    6  manual(m5)   f   18   26  p   \n",
       "234   volkswagen  passat    3.6  2008    6    auto(s6)   f   17   26  p   \n",
       "\n",
       "       class         fe  \n",
       "1    compact  22.212766  \n",
       "2    compact  24.360000  \n",
       "3    compact  24.313725  \n",
       "4    compact  24.705882  \n",
       "5    compact  19.809524  \n",
       "..       ...        ...  \n",
       "230  midsize  22.638298  \n",
       "231  midsize  24.360000  \n",
       "232  midsize  19.809524  \n",
       "233  midsize  21.272727  \n",
       "234  midsize  20.558140  \n",
       "\n",
       "[234 rows x 12 columns]"
      ]
     },
     "execution_count": 40,
     "metadata": {},
     "output_type": "execute_result"
    }
   ],
   "source": [
    "mpg"
   ]
  },
  {
   "cell_type": "markdown",
   "id": "7e1eb153-b3b7-41c3-83d0-d800395a31b5",
   "metadata": {},
   "source": [
    "Is there a difference in fuel-efficiency in cars from 2008 vs 1999?\n",
    "        "
   ]
  },
  {
   "cell_type": "markdown",
   "id": "67758ddc-9735-4c3e-8c4e-c9f30eebe251",
   "metadata": {},
   "source": [
    "H$_0$ :  There is no difference in fuel efficency in 2008 cars vers 1999 cars\n",
    "\n",
    "H$_a$ : There is a difference in fuel efficiency in 2008 cars versus 1999 cars"
   ]
  },
  {
   "cell_type": "code",
   "execution_count": 41,
   "id": "593e00e4-2514-4591-a1de-bae373beded4",
   "metadata": {},
   "outputs": [],
   "source": [
    "# parameters:\n",
    "fe_1999 = mpg[mpg.year == 1999].fe\n",
    "fe_2008 = mpg[mpg.year == 2008].fe"
   ]
  },
  {
   "cell_type": "code",
   "execution_count": 42,
   "id": "7a0773e5-e5b1-4a5c-b3ec-1f196f2cef93",
   "metadata": {},
   "outputs": [
    {
     "data": {
      "text/plain": [
       "(array([23., 24., 17., 31., 12.,  5.,  2.,  0.,  1.,  2.]),\n",
       " array([12.69230769, 15.3218111 , 17.95131451, 20.58081792, 23.21032132,\n",
       "        25.83982473, 28.46932814, 31.09883155, 33.72833496, 36.35783836,\n",
       "        38.98734177]),\n",
       " <BarContainer object of 10 artists>)"
      ]
     },
     "execution_count": 42,
     "metadata": {},
     "output_type": "execute_result"
    },
    {
     "data": {
      "image/png": "[encoded data removed]",
      "text/plain": [
       "<Figure size 432x288 with 1 Axes>"
      ]
     },
     "metadata": {
      "needs_background": "light"
     },
     "output_type": "display_data"
    }
   ],
   "source": [
    "plt.hist(fe_1999)"
   ]
  },
  {
   "cell_type": "code",
   "execution_count": 43,
   "id": "a25b2c19-5ebe-445f-9b2b-650c7ab2ad05",
   "metadata": {},
   "outputs": [
    {
     "data": {
      "image/png": "[encoded data removed]",
      "text/plain": [
       "<Figure size 432x288 with 1 Axes>"
      ]
     },
     "metadata": {
      "needs_background": "light"
     },
     "output_type": "display_data"
    }
   ],
   "source": [
    "plt.hist(fe_2008)\n",
    "plt.show()"
   ]
  },
  {
   "cell_type": "code",
   "execution_count": 44,
   "id": "8eac67ad-d1a5-41f4-8d6f-a2d73107c3b0",
   "metadata": {},
   "outputs": [],
   "source": [
    "# normality asserted vaguely by the CLT\n",
    "# variance?\n",
    "# lets check\n",
    "stat, p_val = stats.levene(fe_1999, fe_2008)"
   ]
  },
  {
   "cell_type": "code",
   "execution_count": null,
   "id": "dc7ab6ff-8efc-47ad-b6bd-015d131ca416",
   "metadata": {},
   "outputs": [],
   "source": [
    "# p value is * not * less than the null hypothesis\n",
    "# I fail to reject the null hypothesis\n",
    "# so we presume equal variance"
   ]
  },
  {
   "cell_type": "code",
   "execution_count": 45,
   "id": "36ce8bbe-1bbb-4195-9e34-b108c482bd77",
   "metadata": {},
   "outputs": [
    {
     "data": {
      "text/plain": [
       "False"
      ]
     },
     "execution_count": 45,
     "metadata": {},
     "output_type": "execute_result"
    }
   ],
   "source": [
    "p_val < α"
   ]
  },
  {
   "cell_type": "code",
   "execution_count": null,
   "id": "157f6750-82fc-411c-a2b2-d9f3fccb5588",
   "metadata": {},
   "outputs": [],
   "source": [
    "# 1999 and 2008 are exclusive categories. independent"
   ]
  },
  {
   "cell_type": "code",
   "execution_count": 46,
   "id": "40c31dc1-41c1-49e5-9ed8-08389f352f5c",
   "metadata": {},
   "outputs": [],
   "source": [
    "t_stat, p_val = stats.ttest_ind(fe_1999, fe_2008)"
   ]
  },
  {
   "cell_type": "code",
   "execution_count": 47,
   "id": "8cfaec79-cd21-4dba-9b34-b09788d0e2ba",
   "metadata": {},
   "outputs": [
    {
     "data": {
      "text/plain": [
       "False"
      ]
     },
     "execution_count": 47,
     "metadata": {},
     "output_type": "execute_result"
    }
   ],
   "source": [
    "p_val < α"
   ]
  },
  {
   "cell_type": "code",
   "execution_count": 48,
   "id": "97a842d8-8b8a-49b6-9532-ef985701d41e",
   "metadata": {},
   "outputs": [],
   "source": [
    "# we fail to reject the null hypothesis, which means\n",
    "# that we cannot with certainty say that there is a\n",
    "# difference in the means of the two groups"
   ]
  },
  {
   "cell_type": "markdown",
   "id": "f8e088ba-5ee9-4a98-b656-4e66a07bd0af",
   "metadata": {},
   "source": [
    "Are compact cars more fuel-efficient than the average car?\n",
    "       "
   ]
  },
  {
   "cell_type": "markdown",
   "id": "696a3453-7e59-4d91-a9b8-30f76ad1f5fc",
   "metadata": {},
   "source": [
    "H$_0$ : Compact cars have a lower or equal average fuel efficiency compared to all cars\n",
    "\n",
    "H$_a$ : Compact cars have a greater average fuel efficiency compared to all cars"
   ]
  },
  {
   "cell_type": "code",
   "execution_count": 49,
   "id": "70ae1db1-db63-4381-a784-638afadf34c0",
   "metadata": {},
   "outputs": [],
   "source": [
    "# two things:\n",
    "# compacts (sub group) versus all cars (population)\n",
    "# one-sample ttest\n",
    "# compacts fe > all cars fe \n",
    "# one-tailed ttest"
   ]
  },
  {
   "cell_type": "code",
   "execution_count": 50,
   "id": "5997111e-0703-4e1d-a1a7-1708515766b8",
   "metadata": {},
   "outputs": [],
   "source": [
    "μth = mpg.fe.mean()"
   ]
  },
  {
   "cell_type": "code",
   "execution_count": 52,
   "id": "b9ecbce3-6ddf-45bf-94cd-d8b54cf170cd",
   "metadata": {},
   "outputs": [],
   "source": [
    "t_stat, p_val = stats.ttest_1samp(\n",
    "    mpg[mpg['class'] == 'compact'].fe,\n",
    "    μth)"
   ]
  },
  {
   "cell_type": "code",
   "execution_count": 54,
   "id": "4df38752-4644-4488-a071-af20d62d12bc",
   "metadata": {},
   "outputs": [
    {
     "name": "stdout",
     "output_type": "stream",
     "text": [
      "We can reject the null hypothesis!\n",
      "There is evidence that the altnerative that we posited is valid!\n"
     ]
    }
   ],
   "source": [
    "if ((p_val / 2 ) < α) and (t_stat > 0):\n",
    "    print('We can reject the null hypothesis!')\n",
    "    print('There is evidence that the altnerative that we posited is valid!')\n",
    "else:\n",
    "    print('we fail to reject the null hypothesis')\n",
    "    "
   ]
  },
  {
   "cell_type": "markdown",
   "id": "e925d234-1031-4c10-8d8d-69fbeacd2f33",
   "metadata": {},
   "source": [
    "Do manual cars get better gas mileage than automatic cars?"
   ]
  },
  {
   "cell_type": "markdown",
   "id": "3d07a409-76a7-40ca-ab3f-73ad7d351f54",
   "metadata": {},
   "source": [
    "H$_0$ : Manual cars receive worse or equal gas mileage compared to automatic vehicls\n",
    "\n",
    "H$_a$ : Manual cars receive better gas mileage than automatic vehicles"
   ]
  },
  {
   "cell_type": "code",
   "execution_count": 55,
   "id": "96844592-8a96-444d-8cef-73707ef544e8",
   "metadata": {},
   "outputs": [],
   "source": [
    "# group a: manual cars\n",
    "# group b: automatic cars\n",
    "# independent sub-groups:\n",
    "# ttest_ind"
   ]
  },
  {
   "cell_type": "code",
   "execution_count": null,
   "id": "b6c0fd27-f331-47e1-940d-b8731e609788",
   "metadata": {},
   "outputs": [],
   "source": []
  },
  {
   "cell_type": "code",
   "execution_count": 56,
   "id": "7ef3019a-9712-46b8-bb85-e7136c3a0fd7",
   "metadata": {},
   "outputs": [],
   "source": [
    "manual_fe = mpg[mpg.trans.str.startswith('man')].fe\n",
    "auto_fe = mpg[mpg.trans.str.startswith('auto')].fe"
   ]
  },
  {
   "cell_type": "code",
   "execution_count": 57,
   "id": "2eb582ba-2294-4c1d-b214-f8d7c0be0347",
   "metadata": {},
   "outputs": [
    {
     "data": {
      "text/plain": [
       "LeveneResult(statistic=0.013901207169738269, pvalue=0.9062462281015493)"
      ]
     },
     "execution_count": 57,
     "metadata": {},
     "output_type": "execute_result"
    }
   ],
   "source": [
    "# quick levene test:\n",
    "# h0: equal variance\n",
    "# ha: inequal variance\n",
    "stats.levene(manual_fe, auto_fe)"
   ]
  },
  {
   "cell_type": "code",
   "execution_count": 58,
   "id": "e8cf2098-87e9-468a-8a47-39fa26c1149d",
   "metadata": {},
   "outputs": [],
   "source": [
    "# fail to reject h0: presume equal variance"
   ]
  },
  {
   "cell_type": "code",
   "execution_count": 60,
   "id": "890c5734-3c8a-46fb-863d-2ac4b0d414e3",
   "metadata": {},
   "outputs": [],
   "source": [
    "t_stat, p_val = stats.ttest_ind(manual_fe, auto_fe)"
   ]
  },
  {
   "cell_type": "code",
   "execution_count": 61,
   "id": "6b96b2b4-5744-4d96-a6cd-ba199ff2629e",
   "metadata": {},
   "outputs": [
    {
     "data": {
      "text/plain": [
       "5.510464610044005e-06"
      ]
     },
     "execution_count": 61,
     "metadata": {},
     "output_type": "execute_result"
    }
   ],
   "source": [
    "p_val"
   ]
  },
  {
   "cell_type": "code",
   "execution_count": 62,
   "id": "41e78a17-73b4-418c-bd11-44a785bfd0a6",
   "metadata": {},
   "outputs": [],
   "source": [
    "# p is less than our alpha (0.05)"
   ]
  },
  {
   "cell_type": "code",
   "execution_count": 63,
   "id": "e5223196-6fc1-473f-bd6b-28bc656c1273",
   "metadata": {},
   "outputs": [],
   "source": [
    "# t_stat?"
   ]
  },
  {
   "cell_type": "code",
   "execution_count": 64,
   "id": "f447b6b5-6c1d-4e40-8f97-13343b924582",
   "metadata": {},
   "outputs": [
    {
     "data": {
      "text/plain": [
       "4.652577547151351"
      ]
     },
     "execution_count": 64,
     "metadata": {},
     "output_type": "execute_result"
    }
   ],
   "source": [
    "t_stat"
   ]
  },
  {
   "cell_type": "code",
   "execution_count": 65,
   "id": "521e35c9-5363-4b72-bf64-f1cfbbea9a36",
   "metadata": {},
   "outputs": [],
   "source": [
    "# t_stat > 0: "
   ]
  },
  {
   "cell_type": "code",
   "execution_count": null,
   "id": "49d8f00a-8afc-4573-8dc3-5860ceead1bd",
   "metadata": {},
   "outputs": [],
   "source": [
    "# we met both conditions, so we can reject h0\n",
    "# and say that there is a difference"
   ]
  }
 ],
 "metadata": {
  "kernelspec": {
   "display_name": "Python 3",
   "language": "python",
   "name": "python3"
  },
  "language_info": {
   "codemirror_mode": {
    "name": "ipython",
    "version": 3
   },
   "file_extension": ".py",
   "mimetype": "text/x-python",
   "name": "python",
   "nbconvert_exporter": "python",
   "pygments_lexer": "ipython3",
   "version": "3.9.4"
  }
 },
 "nbformat": 4,
 "nbformat_minor": 5
}
