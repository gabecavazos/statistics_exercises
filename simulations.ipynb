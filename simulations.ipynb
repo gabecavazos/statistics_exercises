{
 "cells": [
  {
   "cell_type": "code",
   "execution_count": 8,
   "id": "b4ab3d84",
   "metadata": {},
   "outputs": [],
   "source": [
    "%matplotlib inline\n",
    "import numpy as np\n",
    "import pandas as pd\n",
    "\n",
    "import viz # curriculum example visualizations\n",
    "\n",
    "np.random.seed(29)"
   ]
  },
  {
   "cell_type": "code",
   "execution_count": null,
   "id": "5965e28b",
   "metadata": {},
   "outputs": [],
   "source": []
  },
  {
   "cell_type": "code",
   "execution_count": 9,
   "id": "cabd6128",
   "metadata": {},
   "outputs": [
    {
     "data": {
      "text/plain": [
       "array([[6, 4, 5],\n",
       "       [6, 3, 1],\n",
       "       [1, 2, 2],\n",
       "       ...,\n",
       "       [6, 2, 1],\n",
       "       [3, 4, 3],\n",
       "       [4, 2, 4]])"
      ]
     },
     "execution_count": 9,
     "metadata": {},
     "output_type": "execute_result"
    }
   ],
   "source": [
    "## Set the number of trials \n",
    "\n",
    "n_trials = 10_000\n",
    "n_rows = 10_000\n",
    "\n",
    "## Roll three dice\n",
    "\n",
    "n_dice = 3 \n",
    "n_cols = 3\n",
    "\n",
    "\n",
    "# Use np's random choice\n",
    "# Select from [1, 2, 3, 4, 5, 6]\n",
    "\n",
    "rolls = np.random.choice([1, 2, 3, 4, 5, 6], n_trials * n_dice).reshape(n_rows, n_cols)\n",
    "\n",
    "\n",
    "rolls"
   ]
  },
  {
   "cell_type": "code",
   "execution_count": 12,
   "id": "0e3b53b5",
   "metadata": {},
   "outputs": [],
   "source": [
    "# Find the sum of each dice roll\n",
    "# Sum with axis = 1\n",
    "sum_by_trial = rolls.sum(axis = 1)"
   ]
  },
  {
   "cell_type": "code",
   "execution_count": 13,
   "id": "177b2cf5",
   "metadata": {},
   "outputs": [
    {
     "data": {
      "image/png": "[encoded data removed]",
      "text/plain": [
       "<Figure size 648x432 with 1 Axes>"
      ]
     },
     "metadata": {
      "needs_background": "light"
     },
     "output_type": "display_data"
    }
   ],
   "source": [
    "viz.simulation_example1(sum_by_trial)"
   ]
  },
  {
   "cell_type": "code",
   "execution_count": 14,
   "id": "e4647263",
   "metadata": {},
   "outputs": [],
   "source": [
    "# check the condition > 12\n",
    "wins = sum_by_trial > 12"
   ]
  },
  {
   "cell_type": "code",
   "execution_count": 15,
   "id": "d35eaa26",
   "metadata": {},
   "outputs": [
    {
     "data": {
      "text/plain": [
       "array([ True, False, False, ..., False, False, False])"
      ]
     },
     "execution_count": 15,
     "metadata": {},
     "output_type": "execute_result"
    }
   ],
   "source": [
    "wins"
   ]
  },
  {
   "cell_type": "code",
   "execution_count": 16,
   "id": "f0b5a906",
   "metadata": {},
   "outputs": [],
   "source": [
    "# Set win array to integers (0 or 1)\n",
    "# find the mean to find the proportion of wins\n",
    "win_rate = wins.astype(int).mean()"
   ]
  },
  {
   "cell_type": "code",
   "execution_count": 18,
   "id": "dd441b66",
   "metadata": {},
   "outputs": [
    {
     "name": "stdout",
     "output_type": "stream",
     "text": [
      "The player is expected to win 26.33% of the time.\n"
     ]
    }
   ],
   "source": [
    "win_rate\n",
    "print(f'The player is expected to win {win_rate * 100}% of the time.')"
   ]
  },
  {
   "cell_type": "code",
   "execution_count": 19,
   "id": "dc6ebc45",
   "metadata": {},
   "outputs": [],
   "source": [
    "# Calculate expected winnings\n",
    "expected_winnings = win_rate * 15\n",
    "\n",
    "# Account for the price of the game \n",
    "cost = 5\n",
    "\n",
    "# Profit \n",
    "expected_profit = expected_winnings - cost\n"
   ]
  },
  {
   "cell_type": "code",
   "execution_count": 20,
   "id": "34c08e5e",
   "metadata": {},
   "outputs": [
    {
     "data": {
      "text/plain": [
       "-1.0505000000000004"
      ]
     },
     "execution_count": 20,
     "metadata": {},
     "output_type": "execute_result"
    }
   ],
   "source": [
    "expected_profit"
   ]
  },
  {
   "cell_type": "markdown",
   "id": "a701a2c4",
   "metadata": {},
   "source": [
    "#### What happens if you change the winning conditions of the game"
   ]
  },
  {
   "cell_type": "code",
   "execution_count": null,
   "id": "f9ac85e5",
   "metadata": {},
   "outputs": [],
   "source": [
    "### A win is greater than OR EQUAL to 12 "
   ]
  },
  {
   "cell_type": "code",
   "execution_count": 21,
   "id": "e92968ed",
   "metadata": {},
   "outputs": [
    {
     "data": {
      "text/plain": [
       "0.5860000000000003"
      ]
     },
     "execution_count": 21,
     "metadata": {},
     "output_type": "execute_result"
    }
   ],
   "source": [
    "wins = sum_by_trial >= 12\n",
    "win_rate = wins.mean()\n",
    "expected_winnings = win_rate * 15\n",
    "cost = 5\n",
    "expected_profit = expected_winnings - cost\n",
    "\n",
    "expected_profit"
   ]
  },
  {
   "cell_type": "code",
   "execution_count": 22,
   "id": "c48d5e9d",
   "metadata": {},
   "outputs": [
    {
     "name": "stdout",
     "output_type": "stream",
     "text": [
      "The player is expected to win 37.24% of the time.\n"
     ]
    }
   ],
   "source": [
    "print(f'The player is expected to win {win_rate * 100}% of the time.')"
   ]
  },
  {
   "cell_type": "code",
   "execution_count": 23,
   "id": "2faee97e",
   "metadata": {},
   "outputs": [],
   "source": [
    "# Set the nap probability \n",
    "\n",
    "p_nap = 0.3\n",
    "\n",
    "ndays = ncols = 2\n",
    "\n",
    "n_simulated_weekends = nrows = 10**5"
   ]
  },
  {
   "cell_type": "code",
   "execution_count": 24,
   "id": "ad43de6a",
   "metadata": {},
   "outputs": [],
   "source": [
    "data = np.random.random((nrows, ncols))"
   ]
  },
  {
   "cell_type": "code",
   "execution_count": 25,
   "id": "9835fb86",
   "metadata": {},
   "outputs": [
    {
     "data": {
      "text/plain": [
       "array([[0.46762045, 0.70078355],\n",
       "       [0.18897809, 0.54312897],\n",
       "       [0.253291  , 0.43836437],\n",
       "       ...,\n",
       "       [0.15008559, 0.37577491],\n",
       "       [0.34690321, 0.58934311],\n",
       "       [0.97135998, 0.57219933]])"
      ]
     },
     "execution_count": 25,
     "metadata": {},
     "output_type": "execute_result"
    }
   ],
   "source": [
    "data"
   ]
  },
  {
   "cell_type": "code",
   "execution_count": 26,
   "id": "78f9bd12",
   "metadata": {},
   "outputs": [
    {
     "data": {
      "text/plain": [
       "array([[False, False],\n",
       "       [ True, False],\n",
       "       [ True, False],\n",
       "       ...,\n",
       "       [ True, False],\n",
       "       [False, False],\n",
       "       [False, False]])"
      ]
     },
     "execution_count": 26,
     "metadata": {},
     "output_type": "execute_result"
    }
   ],
   "source": [
    "naps = data < p_nap\n",
    "naps"
   ]
  },
  {
   "cell_type": "code",
   "execution_count": 27,
   "id": "b228147c",
   "metadata": {},
   "outputs": [
    {
     "data": {
      "text/plain": [
       "array([0, 1, 1, ..., 1, 0, 0])"
      ]
     },
     "execution_count": 27,
     "metadata": {},
     "output_type": "execute_result"
    }
   ],
   "source": [
    "naps.sum(axis = 1)"
   ]
  },
  {
   "cell_type": "code",
   "execution_count": 28,
   "id": "3e162646",
   "metadata": {},
   "outputs": [
    {
     "data": {
      "image/png": "[encoded data removed]",
      "text/plain": [
       "<Figure size 648x432 with 1 Axes>"
      ]
     },
     "metadata": {
      "needs_background": "light"
     },
     "output_type": "display_data"
    }
   ],
   "source": [
    "viz.simulation_example2(naps)"
   ]
  },
  {
   "cell_type": "code",
   "execution_count": 29,
   "id": "b25653f6",
   "metadata": {},
   "outputs": [
    {
     "data": {
      "text/plain": [
       "0.50998"
      ]
     },
     "execution_count": 29,
     "metadata": {},
     "output_type": "execute_result"
    }
   ],
   "source": [
    "# Sum of naps = 1\n",
    "# Sum of naps = 2\n",
    "(naps.sum(axis = 1) >= 1).mean()"
   ]
  },
  {
   "cell_type": "code",
   "execution_count": 30,
   "id": "196b8918",
   "metadata": {},
   "outputs": [
    {
     "data": {
      "text/plain": [
       "0.49002"
      ]
     },
     "execution_count": 30,
     "metadata": {},
     "output_type": "execute_result"
    }
   ],
   "source": [
    "# sum of naps = 0\n",
    "(naps.sum(axis = 1) == 0).mean()"
   ]
  },
  {
   "cell_type": "markdown",
   "id": "151e406c",
   "metadata": {},
   "source": [
    "## Use a Data Frame to calculate the results of the simulation"
   ]
  },
  {
   "cell_type": "code",
   "execution_count": 32,
   "id": "29378efc",
   "metadata": {},
   "outputs": [
    {
     "data": {
      "text/plain": [
       "0.4212"
      ]
     },
     "execution_count": 32,
     "metadata": {},
     "output_type": "execute_result"
    }
   ],
   "source": [
    "# Number of trials\n",
    "n_simulations = nrows = 10**5 \n",
    "\n",
    "\n",
    "# Number of dice rolled \n",
    "n_dice_rolled = ncols = 3\n",
    "\n",
    "# Choose a value from 1 to 6\n",
    "# Do this 300,000 times\n",
    "\n",
    "# Arrange into sets of 3\n",
    "rolls = np.random.choice([1, 2, 3, 4, 5, 6], nrows * ncols).reshape(nrows, ncols)\n",
    "\n",
    "\n",
    "# Create the data frame\n",
    "\n",
    "# Use a lambda function to determine if 3 is present in any of the values within a row\n",
    "\n",
    "# Take the Boolean values produces\n",
    "(pd.DataFrame(rolls)\n",
    " .apply(lambda row: 3 in row.values, axis=1)\n",
    " .mean())\n"
   ]
  },
  {
   "cell_type": "code",
   "execution_count": null,
   "id": "d69b2180",
   "metadata": {},
   "outputs": [],
   "source": []
  }
 ],
 "metadata": {
  "kernelspec": {
   "display_name": "Python 3 (ipykernel)",
   "language": "python",
   "name": "python3"
  },
  "language_info": {
   "codemirror_mode": {
    "name": "ipython",
    "version": 3
   },
   "file_extension": ".py",
   "mimetype": "text/x-python",
   "name": "python",
   "nbconvert_exporter": "python",
   "pygments_lexer": "ipython3",
   "version": "3.9.13"
  }
 },
 "nbformat": 4,
 "nbformat_minor": 5
}
